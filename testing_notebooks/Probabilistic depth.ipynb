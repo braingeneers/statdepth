{
 "cells": [
  {
   "cell_type": "code",
   "execution_count": 22,
   "metadata": {},
   "outputs": [],
   "source": [
    "import pandas as pd \n",
    "import numpy as np\n",
    "from typing import List, Union\n",
    "from scipy.special import erf, binom\n",
    "\n",
    "from statdepth.depth._depthcalculations import _subsequences\n",
    "\n",
    "def _norm_cdf(x: np.array, mu: float, sigma: float):\n",
    "    \"\"\"\n",
    "    Estimate the CDF at x for the normal distribution parametrized by mu and sigma^2\n",
    "    \"\"\"\n",
    "    print(f'erf term is {erf(x - mu) / (sigma * np.sqrt(2))}')\n",
    "    return 0.5 * (1 + erf(x - mu) / (sigma * np.sqrt(2)))\n",
    "\n",
    "def _uncertain_depth_univariate(data: pd.DataFrame, curve: Union[str, int], sigma2: pd.DataFrame, J: int=2, strict=False):\n",
    "    \"\"\"\n",
    "    Calculate uncertain depth for the given curve, assuming each entry in our data comes from a normal distribution \n",
    "    where the mean is the observed value and the variance is the corresponding entry in sigma2.\n",
    "\n",
    "    Parameters:\n",
    "    -----------\n",
    "    data: pd.DataFrame\n",
    "        An n x p matrix, where we have p real-valued functions collected at n discrete time intervals\n",
    "    curve: int or str\n",
    "        Column (function) to calculate depth for \n",
    "    sigma2: pd.DataFrame\n",
    "        An n x p matrix where each entry is the variance of the distribution at that entry\n",
    "\n",
    "    Returns:\n",
    "    ----------\n",
    "    pd.Series: Depth values for each function (column)\n",
    "    \"\"\"\n",
    "\n",
    "    n, p = data.shape\n",
    "    depth = 0\n",
    "    sigma = sigma2.pow(.5)\n",
    "\n",
    "    # Drop our current curve from our data\n",
    "    if curve in data.columns:   \n",
    "        data = data.drop(curve, axis=1)\n",
    "\n",
    "    subseq = _subsequences(data.columns, J)\n",
    "    if J == 2:\n",
    "        for seq in subseq:\n",
    "            d = 1\n",
    "            f1 = seq[0]\n",
    "            f2 = seq[1]\n",
    "            for time in data.index:\n",
    "                p1 = _norm_cdf(data.loc[time, f1], data.loc[time, f1], sigma.loc[time, f1])\n",
    "                p2 = _norm_cdf(data.loc[time, f2], data.loc[time, f2], sigma.loc[time, f2])\n",
    "                print(f'p1 is {p1}, p2 is {p2}')\n",
    "\n",
    "                if strict:\n",
    "                    d *= p1 + p2 - 2 * p1 * p2\n",
    "                else: \n",
    "                    d += p1 + p2 - 2 * p1 * p2\n",
    "\n",
    "            depth += d\n",
    "    elif J == 3:\n",
    "        for seq in subseq:\n",
    "            d = 1\n",
    "            f1, f_2, f_3 = seq[0], seq[1], seq[2]\n",
    "\n",
    "            for time in data.index:\n",
    "                p1 = _norm_cdf(data.loc[time, f1], data.loc[time, f1], sigma.loc[time, f1])\n",
    "                p2 = _norm_cdf(data.loc[time, f2], data.loc[time, f2], sigma.loc[time, f2])\n",
    "                p3 = _norm_cdf(data.loc[time, f3], data.loc[time, f3], sigma.loc[time, f3])\n",
    "                \n",
    "                if strict:\n",
    "                    d *= p1 + p2 + p3 - p1 * p2 - p2*p3 - p1*p3\n",
    "                else:\n",
    "                    d += p1 + p2 + p3 - p1 * p2 - p2*p3 - p1*p3\n",
    "\n",
    "            depth += d\n",
    "    else: # Handle J=4 later, not sure about computation\n",
    "        pass\n",
    "\n",
    "    return depth / binom(data.shape[1], J) if strict else depth / binom(data.shape[1], J) * n / p # Because in the nonstrict case we are summing 1/|D| n times\n"
   ]
  },
  {
   "cell_type": "code",
   "execution_count": 23,
   "metadata": {},
   "outputs": [],
   "source": [
    "from statdepth.testing import generate_noisy_univariate\n",
    "\n",
    "df = generate_noisy_univariate() * 5\n",
    "sigma2 = generate_noisy_univariate() * 5"
   ]
  },
  {
   "cell_type": "code",
   "execution_count": 24,
   "metadata": {},
   "outputs": [],
   "source": [
    "def probabilistic_depth(data: pd.DataFrame, sigma2: pd.DataFrame, J: int=2, strict=False):\n",
    "    depths = []\n",
    "    \n",
    "    cols = data.columns\n",
    "    for col in data.columns:\n",
    "        depths.append(_uncertain_depth_univariate(data=data, curve=col, sigma2=sigma2, J=J, strict=strict))\n",
    "        \n",
    "    return pd.Series(index=cols, data=depths)\n",
    "            "
   ]
  },
  {
   "cell_type": "code",
   "execution_count": 35,
   "metadata": {},
   "outputs": [],
   "source": [
    "p = '*'\n",
    "exec(f'p=5{p}5')"
   ]
  },
  {
   "cell_type": "code",
   "execution_count": 36,
   "metadata": {},
   "outputs": [
    {
     "data": {
      "text/plain": [
       "25"
      ]
     },
     "execution_count": 36,
     "metadata": {},
     "output_type": "execute_result"
    }
   ],
   "source": [
    "p"
   ]
  }
 ],
 "metadata": {
  "kernelspec": {
   "display_name": "basedatascience",
   "language": "python",
   "name": "basedatascience"
  },
  "language_info": {
   "codemirror_mode": {
    "name": "ipython",
    "version": 3
   },
   "file_extension": ".py",
   "mimetype": "text/x-python",
   "name": "python",
   "nbconvert_exporter": "python",
   "pygments_lexer": "ipython3",
   "version": "3.8.5"
  }
 },
 "nbformat": 4,
 "nbformat_minor": 4
}
