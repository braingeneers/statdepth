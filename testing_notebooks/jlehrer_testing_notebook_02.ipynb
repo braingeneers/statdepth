{
 "cells": [
  {
   "cell_type": "markdown",
   "metadata": {},
   "source": [
    "# Testing Notebook 02:"
   ]
  },
  {
   "cell_type": "code",
   "execution_count": 74,
   "metadata": {},
   "outputs": [],
   "source": [
    "from typing import List\n",
    "import pandas as pd \n",
    "import numpy as np\n",
    "import plotly.express as px\n",
    "\n",
    "from statdepth.depth.depth import FunctionalDepth"
   ]
  },
  {
   "cell_type": "code",
   "execution_count": 75,
   "metadata": {},
   "outputs": [
    {
     "name": "stdout",
     "output_type": "stream",
     "text": [
      "/Users/julian/opt/miniconda3/bin/python\r\n",
      "/usr/bin/python\r\n"
     ]
    }
   ],
   "source": [
    "!where python"
   ]
  },
  {
   "cell_type": "markdown",
   "metadata": {},
   "source": [
    "Generate a toy DataFrame for testing"
   ]
  },
  {
   "cell_type": "code",
   "execution_count": 76,
   "metadata": {},
   "outputs": [
    {
     "data": {
      "application/vnd.plotly.v1+json": {
       "config": {
        "plotlyServerURL": "https://plot.ly"
       },
       "data": [
        {
         "hovertemplate": "variable=Z<br>index=%{x}<br>value=%{y}<extra></extra>",
         "legendgroup": "Z",
         "line": {
          "color": "#636efa",
          "dash": "solid"
         },
         "mode": "lines",
         "name": "Z",
         "orientation": "v",
         "showlegend": true,
         "type": "scatter",
         "x": [
          0,
          1,
          2,
          3,
          4
         ],
         "xaxis": "x",
         "y": [
          0.5828666541662323,
          0.9949119343502901,
          0.2770129690818379,
          0.614630202216123,
          0.48132396040277636
         ],
         "yaxis": "y"
        },
        {
         "hovertemplate": "variable=X<br>index=%{x}<br>value=%{y}<extra></extra>",
         "legendgroup": "X",
         "line": {
          "color": "#EF553B",
          "dash": "solid"
         },
         "mode": "lines",
         "name": "X",
         "orientation": "v",
         "showlegend": true,
         "type": "scatter",
         "x": [
          0,
          1,
          2,
          3,
          4
         ],
         "xaxis": "x",
         "y": [
          0.6818248952519188,
          0.08985365645961174,
          0.9020473829208151,
          0.603543378056868,
          0.22627579468747216
         ],
         "yaxis": "y"
        },
        {
         "hovertemplate": "variable=C<br>index=%{x}<br>value=%{y}<extra></extra>",
         "legendgroup": "C",
         "line": {
          "color": "#00cc96",
          "dash": "solid"
         },
         "mode": "lines",
         "name": "C",
         "orientation": "v",
         "showlegend": true,
         "type": "scatter",
         "x": [
          0,
          1,
          2,
          3,
          4
         ],
         "xaxis": "x",
         "y": [
          0.9405138851909861,
          0.28509196174496243,
          0.1269585022027664,
          0.22504180996265355,
          0.3895139334542761
         ],
         "yaxis": "y"
        },
        {
         "hovertemplate": "variable=V<br>index=%{x}<br>value=%{y}<extra></extra>",
         "legendgroup": "V",
         "line": {
          "color": "#ab63fa",
          "dash": "solid"
         },
         "mode": "lines",
         "name": "V",
         "orientation": "v",
         "showlegend": true,
         "type": "scatter",
         "x": [
          0,
          1,
          2,
          3,
          4
         ],
         "xaxis": "x",
         "y": [
          0.4199209051498254,
          0.3604372923589053,
          0.7270803639256909,
          0.6992275684555553,
          0.01452675460531283
         ],
         "yaxis": "y"
        },
        {
         "hovertemplate": "variable=B<br>index=%{x}<br>value=%{y}<extra></extra>",
         "legendgroup": "B",
         "line": {
          "color": "#FFA15A",
          "dash": "solid"
         },
         "mode": "lines",
         "name": "B",
         "orientation": "v",
         "showlegend": true,
         "type": "scatter",
         "x": [
          0,
          1,
          2,
          3,
          4
         ],
         "xaxis": "x",
         "y": [
          0.9266701296746178,
          0.5120529055917299,
          0.850890653864566,
          0.9854899176698135,
          0.10373457047979029
         ],
         "yaxis": "y"
        },
        {
         "hovertemplate": "variable=N<br>index=%{x}<br>value=%{y}<extra></extra>",
         "legendgroup": "N",
         "line": {
          "color": "#19d3f3",
          "dash": "solid"
         },
         "mode": "lines",
         "name": "N",
         "orientation": "v",
         "showlegend": true,
         "type": "scatter",
         "x": [
          0,
          1,
          2,
          3,
          4
         ],
         "xaxis": "x",
         "y": [
          0.4990816871564686,
          0.5709004999263652,
          0.8126088150870752,
          0.1279876676883296,
          0.4388972451332577
         ],
         "yaxis": "y"
        },
        {
         "hovertemplate": "variable=M<br>index=%{x}<br>value=%{y}<extra></extra>",
         "legendgroup": "M",
         "line": {
          "color": "#FF6692",
          "dash": "solid"
         },
         "mode": "lines",
         "name": "M",
         "orientation": "v",
         "showlegend": true,
         "type": "scatter",
         "x": [
          0,
          1,
          2,
          3,
          4
         ],
         "xaxis": "x",
         "y": [
          0.7797547773389463,
          0.3156657426634796,
          0.12244867199760512,
          0.22029263574723768,
          0.6809524554342818
         ],
         "yaxis": "y"
        },
        {
         "hovertemplate": "variable=L<br>index=%{x}<br>value=%{y}<extra></extra>",
         "legendgroup": "L",
         "line": {
          "color": "#B6E880",
          "dash": "solid"
         },
         "mode": "lines",
         "name": "L",
         "orientation": "v",
         "showlegend": true,
         "type": "scatter",
         "x": [
          0,
          1,
          2,
          3,
          4
         ],
         "xaxis": "x",
         "y": [
          0.07483098821534784,
          0.5261641418944905,
          0.3725501618099658,
          0.05294418308214244,
          0.9969497908845909
         ],
         "yaxis": "y"
        },
        {
         "hovertemplate": "variable=K<br>index=%{x}<br>value=%{y}<extra></extra>",
         "legendgroup": "K",
         "line": {
          "color": "#FF97FF",
          "dash": "solid"
         },
         "mode": "lines",
         "name": "K",
         "orientation": "v",
         "showlegend": true,
         "type": "scatter",
         "x": [
          0,
          1,
          2,
          3,
          4
         ],
         "xaxis": "x",
         "y": [
          0.5595779637401334,
          0.7988094664669287,
          0.8584335978962272,
          0.03596896922133641,
          0.8783252972722564
         ],
         "yaxis": "y"
        },
        {
         "hovertemplate": "variable=J<br>index=%{x}<br>value=%{y}<extra></extra>",
         "legendgroup": "J",
         "line": {
          "color": "#FECB52",
          "dash": "solid"
         },
         "mode": "lines",
         "name": "J",
         "orientation": "v",
         "showlegend": true,
         "type": "scatter",
         "x": [
          0,
          1,
          2,
          3,
          4
         ],
         "xaxis": "x",
         "y": [
          0.9472498012382535,
          0.8942164069960434,
          0.6491602755259521,
          0.3400968265795119,
          0.15545003839518334
         ],
         "yaxis": "y"
        }
       ],
       "layout": {
        "legend": {
         "title": {
          "text": "variable"
         },
         "tracegroupgap": 0
        },
        "margin": {
         "t": 60
        },
        "template": {
         "data": {
          "bar": [
           {
            "error_x": {
             "color": "#2a3f5f"
            },
            "error_y": {
             "color": "#2a3f5f"
            },
            "marker": {
             "line": {
              "color": "#E5ECF6",
              "width": 0.5
             }
            },
            "type": "bar"
           }
          ],
          "barpolar": [
           {
            "marker": {
             "line": {
              "color": "#E5ECF6",
              "width": 0.5
             }
            },
            "type": "barpolar"
           }
          ],
          "carpet": [
           {
            "aaxis": {
             "endlinecolor": "#2a3f5f",
             "gridcolor": "white",
             "linecolor": "white",
             "minorgridcolor": "white",
             "startlinecolor": "#2a3f5f"
            },
            "baxis": {
             "endlinecolor": "#2a3f5f",
             "gridcolor": "white",
             "linecolor": "white",
             "minorgridcolor": "white",
             "startlinecolor": "#2a3f5f"
            },
            "type": "carpet"
           }
          ],
          "choropleth": [
           {
            "colorbar": {
             "outlinewidth": 0,
             "ticks": ""
            },
            "type": "choropleth"
           }
          ],
          "contour": [
           {
            "colorbar": {
             "outlinewidth": 0,
             "ticks": ""
            },
            "colorscale": [
             [
              0,
              "#0d0887"
             ],
             [
              0.1111111111111111,
              "#46039f"
             ],
             [
              0.2222222222222222,
              "#7201a8"
             ],
             [
              0.3333333333333333,
              "#9c179e"
             ],
             [
              0.4444444444444444,
              "#bd3786"
             ],
             [
              0.5555555555555556,
              "#d8576b"
             ],
             [
              0.6666666666666666,
              "#ed7953"
             ],
             [
              0.7777777777777778,
              "#fb9f3a"
             ],
             [
              0.8888888888888888,
              "#fdca26"
             ],
             [
              1,
              "#f0f921"
             ]
            ],
            "type": "contour"
           }
          ],
          "contourcarpet": [
           {
            "colorbar": {
             "outlinewidth": 0,
             "ticks": ""
            },
            "type": "contourcarpet"
           }
          ],
          "heatmap": [
           {
            "colorbar": {
             "outlinewidth": 0,
             "ticks": ""
            },
            "colorscale": [
             [
              0,
              "#0d0887"
             ],
             [
              0.1111111111111111,
              "#46039f"
             ],
             [
              0.2222222222222222,
              "#7201a8"
             ],
             [
              0.3333333333333333,
              "#9c179e"
             ],
             [
              0.4444444444444444,
              "#bd3786"
             ],
             [
              0.5555555555555556,
              "#d8576b"
             ],
             [
              0.6666666666666666,
              "#ed7953"
             ],
             [
              0.7777777777777778,
              "#fb9f3a"
             ],
             [
              0.8888888888888888,
              "#fdca26"
             ],
             [
              1,
              "#f0f921"
             ]
            ],
            "type": "heatmap"
           }
          ],
          "heatmapgl": [
           {
            "colorbar": {
             "outlinewidth": 0,
             "ticks": ""
            },
            "colorscale": [
             [
              0,
              "#0d0887"
             ],
             [
              0.1111111111111111,
              "#46039f"
             ],
             [
              0.2222222222222222,
              "#7201a8"
             ],
             [
              0.3333333333333333,
              "#9c179e"
             ],
             [
              0.4444444444444444,
              "#bd3786"
             ],
             [
              0.5555555555555556,
              "#d8576b"
             ],
             [
              0.6666666666666666,
              "#ed7953"
             ],
             [
              0.7777777777777778,
              "#fb9f3a"
             ],
             [
              0.8888888888888888,
              "#fdca26"
             ],
             [
              1,
              "#f0f921"
             ]
            ],
            "type": "heatmapgl"
           }
          ],
          "histogram": [
           {
            "marker": {
             "colorbar": {
              "outlinewidth": 0,
              "ticks": ""
             }
            },
            "type": "histogram"
           }
          ],
          "histogram2d": [
           {
            "colorbar": {
             "outlinewidth": 0,
             "ticks": ""
            },
            "colorscale": [
             [
              0,
              "#0d0887"
             ],
             [
              0.1111111111111111,
              "#46039f"
             ],
             [
              0.2222222222222222,
              "#7201a8"
             ],
             [
              0.3333333333333333,
              "#9c179e"
             ],
             [
              0.4444444444444444,
              "#bd3786"
             ],
             [
              0.5555555555555556,
              "#d8576b"
             ],
             [
              0.6666666666666666,
              "#ed7953"
             ],
             [
              0.7777777777777778,
              "#fb9f3a"
             ],
             [
              0.8888888888888888,
              "#fdca26"
             ],
             [
              1,
              "#f0f921"
             ]
            ],
            "type": "histogram2d"
           }
          ],
          "histogram2dcontour": [
           {
            "colorbar": {
             "outlinewidth": 0,
             "ticks": ""
            },
            "colorscale": [
             [
              0,
              "#0d0887"
             ],
             [
              0.1111111111111111,
              "#46039f"
             ],
             [
              0.2222222222222222,
              "#7201a8"
             ],
             [
              0.3333333333333333,
              "#9c179e"
             ],
             [
              0.4444444444444444,
              "#bd3786"
             ],
             [
              0.5555555555555556,
              "#d8576b"
             ],
             [
              0.6666666666666666,
              "#ed7953"
             ],
             [
              0.7777777777777778,
              "#fb9f3a"
             ],
             [
              0.8888888888888888,
              "#fdca26"
             ],
             [
              1,
              "#f0f921"
             ]
            ],
            "type": "histogram2dcontour"
           }
          ],
          "mesh3d": [
           {
            "colorbar": {
             "outlinewidth": 0,
             "ticks": ""
            },
            "type": "mesh3d"
           }
          ],
          "parcoords": [
           {
            "line": {
             "colorbar": {
              "outlinewidth": 0,
              "ticks": ""
             }
            },
            "type": "parcoords"
           }
          ],
          "pie": [
           {
            "automargin": true,
            "type": "pie"
           }
          ],
          "scatter": [
           {
            "marker": {
             "colorbar": {
              "outlinewidth": 0,
              "ticks": ""
             }
            },
            "type": "scatter"
           }
          ],
          "scatter3d": [
           {
            "line": {
             "colorbar": {
              "outlinewidth": 0,
              "ticks": ""
             }
            },
            "marker": {
             "colorbar": {
              "outlinewidth": 0,
              "ticks": ""
             }
            },
            "type": "scatter3d"
           }
          ],
          "scattercarpet": [
           {
            "marker": {
             "colorbar": {
              "outlinewidth": 0,
              "ticks": ""
             }
            },
            "type": "scattercarpet"
           }
          ],
          "scattergeo": [
           {
            "marker": {
             "colorbar": {
              "outlinewidth": 0,
              "ticks": ""
             }
            },
            "type": "scattergeo"
           }
          ],
          "scattergl": [
           {
            "marker": {
             "colorbar": {
              "outlinewidth": 0,
              "ticks": ""
             }
            },
            "type": "scattergl"
           }
          ],
          "scattermapbox": [
           {
            "marker": {
             "colorbar": {
              "outlinewidth": 0,
              "ticks": ""
             }
            },
            "type": "scattermapbox"
           }
          ],
          "scatterpolar": [
           {
            "marker": {
             "colorbar": {
              "outlinewidth": 0,
              "ticks": ""
             }
            },
            "type": "scatterpolar"
           }
          ],
          "scatterpolargl": [
           {
            "marker": {
             "colorbar": {
              "outlinewidth": 0,
              "ticks": ""
             }
            },
            "type": "scatterpolargl"
           }
          ],
          "scatterternary": [
           {
            "marker": {
             "colorbar": {
              "outlinewidth": 0,
              "ticks": ""
             }
            },
            "type": "scatterternary"
           }
          ],
          "surface": [
           {
            "colorbar": {
             "outlinewidth": 0,
             "ticks": ""
            },
            "colorscale": [
             [
              0,
              "#0d0887"
             ],
             [
              0.1111111111111111,
              "#46039f"
             ],
             [
              0.2222222222222222,
              "#7201a8"
             ],
             [
              0.3333333333333333,
              "#9c179e"
             ],
             [
              0.4444444444444444,
              "#bd3786"
             ],
             [
              0.5555555555555556,
              "#d8576b"
             ],
             [
              0.6666666666666666,
              "#ed7953"
             ],
             [
              0.7777777777777778,
              "#fb9f3a"
             ],
             [
              0.8888888888888888,
              "#fdca26"
             ],
             [
              1,
              "#f0f921"
             ]
            ],
            "type": "surface"
           }
          ],
          "table": [
           {
            "cells": {
             "fill": {
              "color": "#EBF0F8"
             },
             "line": {
              "color": "white"
             }
            },
            "header": {
             "fill": {
              "color": "#C8D4E3"
             },
             "line": {
              "color": "white"
             }
            },
            "type": "table"
           }
          ]
         },
         "layout": {
          "annotationdefaults": {
           "arrowcolor": "#2a3f5f",
           "arrowhead": 0,
           "arrowwidth": 1
          },
          "autotypenumbers": "strict",
          "coloraxis": {
           "colorbar": {
            "outlinewidth": 0,
            "ticks": ""
           }
          },
          "colorscale": {
           "diverging": [
            [
             0,
             "#8e0152"
            ],
            [
             0.1,
             "#c51b7d"
            ],
            [
             0.2,
             "#de77ae"
            ],
            [
             0.3,
             "#f1b6da"
            ],
            [
             0.4,
             "#fde0ef"
            ],
            [
             0.5,
             "#f7f7f7"
            ],
            [
             0.6,
             "#e6f5d0"
            ],
            [
             0.7,
             "#b8e186"
            ],
            [
             0.8,
             "#7fbc41"
            ],
            [
             0.9,
             "#4d9221"
            ],
            [
             1,
             "#276419"
            ]
           ],
           "sequential": [
            [
             0,
             "#0d0887"
            ],
            [
             0.1111111111111111,
             "#46039f"
            ],
            [
             0.2222222222222222,
             "#7201a8"
            ],
            [
             0.3333333333333333,
             "#9c179e"
            ],
            [
             0.4444444444444444,
             "#bd3786"
            ],
            [
             0.5555555555555556,
             "#d8576b"
            ],
            [
             0.6666666666666666,
             "#ed7953"
            ],
            [
             0.7777777777777778,
             "#fb9f3a"
            ],
            [
             0.8888888888888888,
             "#fdca26"
            ],
            [
             1,
             "#f0f921"
            ]
           ],
           "sequentialminus": [
            [
             0,
             "#0d0887"
            ],
            [
             0.1111111111111111,
             "#46039f"
            ],
            [
             0.2222222222222222,
             "#7201a8"
            ],
            [
             0.3333333333333333,
             "#9c179e"
            ],
            [
             0.4444444444444444,
             "#bd3786"
            ],
            [
             0.5555555555555556,
             "#d8576b"
            ],
            [
             0.6666666666666666,
             "#ed7953"
            ],
            [
             0.7777777777777778,
             "#fb9f3a"
            ],
            [
             0.8888888888888888,
             "#fdca26"
            ],
            [
             1,
             "#f0f921"
            ]
           ]
          },
          "colorway": [
           "#636efa",
           "#EF553B",
           "#00cc96",
           "#ab63fa",
           "#FFA15A",
           "#19d3f3",
           "#FF6692",
           "#B6E880",
           "#FF97FF",
           "#FECB52"
          ],
          "font": {
           "color": "#2a3f5f"
          },
          "geo": {
           "bgcolor": "white",
           "lakecolor": "white",
           "landcolor": "#E5ECF6",
           "showlakes": true,
           "showland": true,
           "subunitcolor": "white"
          },
          "hoverlabel": {
           "align": "left"
          },
          "hovermode": "closest",
          "mapbox": {
           "style": "light"
          },
          "paper_bgcolor": "white",
          "plot_bgcolor": "#E5ECF6",
          "polar": {
           "angularaxis": {
            "gridcolor": "white",
            "linecolor": "white",
            "ticks": ""
           },
           "bgcolor": "#E5ECF6",
           "radialaxis": {
            "gridcolor": "white",
            "linecolor": "white",
            "ticks": ""
           }
          },
          "scene": {
           "xaxis": {
            "backgroundcolor": "#E5ECF6",
            "gridcolor": "white",
            "gridwidth": 2,
            "linecolor": "white",
            "showbackground": true,
            "ticks": "",
            "zerolinecolor": "white"
           },
           "yaxis": {
            "backgroundcolor": "#E5ECF6",
            "gridcolor": "white",
            "gridwidth": 2,
            "linecolor": "white",
            "showbackground": true,
            "ticks": "",
            "zerolinecolor": "white"
           },
           "zaxis": {
            "backgroundcolor": "#E5ECF6",
            "gridcolor": "white",
            "gridwidth": 2,
            "linecolor": "white",
            "showbackground": true,
            "ticks": "",
            "zerolinecolor": "white"
           }
          },
          "shapedefaults": {
           "line": {
            "color": "#2a3f5f"
           }
          },
          "ternary": {
           "aaxis": {
            "gridcolor": "white",
            "linecolor": "white",
            "ticks": ""
           },
           "baxis": {
            "gridcolor": "white",
            "linecolor": "white",
            "ticks": ""
           },
           "bgcolor": "#E5ECF6",
           "caxis": {
            "gridcolor": "white",
            "linecolor": "white",
            "ticks": ""
           }
          },
          "title": {
           "x": 0.05
          },
          "xaxis": {
           "automargin": true,
           "gridcolor": "white",
           "linecolor": "white",
           "ticks": "",
           "title": {
            "standoff": 15
           },
           "zerolinecolor": "white",
           "zerolinewidth": 2
          },
          "yaxis": {
           "automargin": true,
           "gridcolor": "white",
           "linecolor": "white",
           "ticks": "",
           "title": {
            "standoff": 15
           },
           "zerolinecolor": "white",
           "zerolinewidth": 2
          }
         }
        },
        "xaxis": {
         "anchor": "y",
         "domain": [
          0,
          1
         ],
         "title": {
          "text": "index"
         }
        },
        "yaxis": {
         "anchor": "x",
         "domain": [
          0,
          1
         ],
         "title": {
          "text": "value"
         }
        }
       }
      },
      "text/html": [
       "<div>                            <div id=\"1baace1c-3bbb-4c94-92e1-bb31b8a05c1e\" class=\"plotly-graph-div\" style=\"height:525px; width:100%;\"></div>            <script type=\"text/javascript\">                require([\"plotly\"], function(Plotly) {                    window.PLOTLYENV=window.PLOTLYENV || {};                                    if (document.getElementById(\"1baace1c-3bbb-4c94-92e1-bb31b8a05c1e\")) {                    Plotly.newPlot(                        \"1baace1c-3bbb-4c94-92e1-bb31b8a05c1e\",                        [{\"hovertemplate\": \"variable=Z<br>index=%{x}<br>value=%{y}<extra></extra>\", \"legendgroup\": \"Z\", \"line\": {\"color\": \"#636efa\", \"dash\": \"solid\"}, \"mode\": \"lines\", \"name\": \"Z\", \"orientation\": \"v\", \"showlegend\": true, \"type\": \"scatter\", \"x\": [0, 1, 2, 3, 4], \"xaxis\": \"x\", \"y\": [0.5828666541662323, 0.9949119343502901, 0.2770129690818379, 0.614630202216123, 0.48132396040277636], \"yaxis\": \"y\"}, {\"hovertemplate\": \"variable=X<br>index=%{x}<br>value=%{y}<extra></extra>\", \"legendgroup\": \"X\", \"line\": {\"color\": \"#EF553B\", \"dash\": \"solid\"}, \"mode\": \"lines\", \"name\": \"X\", \"orientation\": \"v\", \"showlegend\": true, \"type\": \"scatter\", \"x\": [0, 1, 2, 3, 4], \"xaxis\": \"x\", \"y\": [0.6818248952519188, 0.08985365645961174, 0.9020473829208151, 0.603543378056868, 0.22627579468747216], \"yaxis\": \"y\"}, {\"hovertemplate\": \"variable=C<br>index=%{x}<br>value=%{y}<extra></extra>\", \"legendgroup\": \"C\", \"line\": {\"color\": \"#00cc96\", \"dash\": \"solid\"}, \"mode\": \"lines\", \"name\": \"C\", \"orientation\": \"v\", \"showlegend\": true, \"type\": \"scatter\", \"x\": [0, 1, 2, 3, 4], \"xaxis\": \"x\", \"y\": [0.9405138851909861, 0.28509196174496243, 0.1269585022027664, 0.22504180996265355, 0.3895139334542761], \"yaxis\": \"y\"}, {\"hovertemplate\": \"variable=V<br>index=%{x}<br>value=%{y}<extra></extra>\", \"legendgroup\": \"V\", \"line\": {\"color\": \"#ab63fa\", \"dash\": \"solid\"}, \"mode\": \"lines\", \"name\": \"V\", \"orientation\": \"v\", \"showlegend\": true, \"type\": \"scatter\", \"x\": [0, 1, 2, 3, 4], \"xaxis\": \"x\", \"y\": [0.4199209051498254, 0.3604372923589053, 0.7270803639256909, 0.6992275684555553, 0.01452675460531283], \"yaxis\": \"y\"}, {\"hovertemplate\": \"variable=B<br>index=%{x}<br>value=%{y}<extra></extra>\", \"legendgroup\": \"B\", \"line\": {\"color\": \"#FFA15A\", \"dash\": \"solid\"}, \"mode\": \"lines\", \"name\": \"B\", \"orientation\": \"v\", \"showlegend\": true, \"type\": \"scatter\", \"x\": [0, 1, 2, 3, 4], \"xaxis\": \"x\", \"y\": [0.9266701296746178, 0.5120529055917299, 0.850890653864566, 0.9854899176698135, 0.10373457047979029], \"yaxis\": \"y\"}, {\"hovertemplate\": \"variable=N<br>index=%{x}<br>value=%{y}<extra></extra>\", \"legendgroup\": \"N\", \"line\": {\"color\": \"#19d3f3\", \"dash\": \"solid\"}, \"mode\": \"lines\", \"name\": \"N\", \"orientation\": \"v\", \"showlegend\": true, \"type\": \"scatter\", \"x\": [0, 1, 2, 3, 4], \"xaxis\": \"x\", \"y\": [0.4990816871564686, 0.5709004999263652, 0.8126088150870752, 0.1279876676883296, 0.4388972451332577], \"yaxis\": \"y\"}, {\"hovertemplate\": \"variable=M<br>index=%{x}<br>value=%{y}<extra></extra>\", \"legendgroup\": \"M\", \"line\": {\"color\": \"#FF6692\", \"dash\": \"solid\"}, \"mode\": \"lines\", \"name\": \"M\", \"orientation\": \"v\", \"showlegend\": true, \"type\": \"scatter\", \"x\": [0, 1, 2, 3, 4], \"xaxis\": \"x\", \"y\": [0.7797547773389463, 0.3156657426634796, 0.12244867199760512, 0.22029263574723768, 0.6809524554342818], \"yaxis\": \"y\"}, {\"hovertemplate\": \"variable=L<br>index=%{x}<br>value=%{y}<extra></extra>\", \"legendgroup\": \"L\", \"line\": {\"color\": \"#B6E880\", \"dash\": \"solid\"}, \"mode\": \"lines\", \"name\": \"L\", \"orientation\": \"v\", \"showlegend\": true, \"type\": \"scatter\", \"x\": [0, 1, 2, 3, 4], \"xaxis\": \"x\", \"y\": [0.07483098821534784, 0.5261641418944905, 0.3725501618099658, 0.05294418308214244, 0.9969497908845909], \"yaxis\": \"y\"}, {\"hovertemplate\": \"variable=K<br>index=%{x}<br>value=%{y}<extra></extra>\", \"legendgroup\": \"K\", \"line\": {\"color\": \"#FF97FF\", \"dash\": \"solid\"}, \"mode\": \"lines\", \"name\": \"K\", \"orientation\": \"v\", \"showlegend\": true, \"type\": \"scatter\", \"x\": [0, 1, 2, 3, 4], \"xaxis\": \"x\", \"y\": [0.5595779637401334, 0.7988094664669287, 0.8584335978962272, 0.03596896922133641, 0.8783252972722564], \"yaxis\": \"y\"}, {\"hovertemplate\": \"variable=J<br>index=%{x}<br>value=%{y}<extra></extra>\", \"legendgroup\": \"J\", \"line\": {\"color\": \"#FECB52\", \"dash\": \"solid\"}, \"mode\": \"lines\", \"name\": \"J\", \"orientation\": \"v\", \"showlegend\": true, \"type\": \"scatter\", \"x\": [0, 1, 2, 3, 4], \"xaxis\": \"x\", \"y\": [0.9472498012382535, 0.8942164069960434, 0.6491602755259521, 0.3400968265795119, 0.15545003839518334], \"yaxis\": \"y\"}],                        {\"legend\": {\"title\": {\"text\": \"variable\"}, \"tracegroupgap\": 0}, \"margin\": {\"t\": 60}, \"template\": {\"data\": {\"bar\": [{\"error_x\": {\"color\": \"#2a3f5f\"}, \"error_y\": {\"color\": \"#2a3f5f\"}, \"marker\": {\"line\": {\"color\": \"#E5ECF6\", \"width\": 0.5}}, \"type\": \"bar\"}], \"barpolar\": [{\"marker\": {\"line\": {\"color\": \"#E5ECF6\", \"width\": 0.5}}, \"type\": \"barpolar\"}], \"carpet\": [{\"aaxis\": {\"endlinecolor\": \"#2a3f5f\", \"gridcolor\": \"white\", \"linecolor\": \"white\", \"minorgridcolor\": \"white\", \"startlinecolor\": \"#2a3f5f\"}, \"baxis\": {\"endlinecolor\": \"#2a3f5f\", \"gridcolor\": \"white\", \"linecolor\": \"white\", \"minorgridcolor\": \"white\", \"startlinecolor\": \"#2a3f5f\"}, \"type\": \"carpet\"}], \"choropleth\": [{\"colorbar\": {\"outlinewidth\": 0, \"ticks\": \"\"}, \"type\": \"choropleth\"}], \"contour\": [{\"colorbar\": {\"outlinewidth\": 0, \"ticks\": \"\"}, \"colorscale\": [[0.0, \"#0d0887\"], [0.1111111111111111, \"#46039f\"], [0.2222222222222222, \"#7201a8\"], [0.3333333333333333, \"#9c179e\"], [0.4444444444444444, \"#bd3786\"], [0.5555555555555556, \"#d8576b\"], [0.6666666666666666, \"#ed7953\"], [0.7777777777777778, \"#fb9f3a\"], [0.8888888888888888, \"#fdca26\"], [1.0, \"#f0f921\"]], \"type\": \"contour\"}], \"contourcarpet\": [{\"colorbar\": {\"outlinewidth\": 0, \"ticks\": \"\"}, \"type\": \"contourcarpet\"}], \"heatmap\": [{\"colorbar\": {\"outlinewidth\": 0, \"ticks\": \"\"}, \"colorscale\": [[0.0, \"#0d0887\"], [0.1111111111111111, \"#46039f\"], [0.2222222222222222, \"#7201a8\"], [0.3333333333333333, \"#9c179e\"], [0.4444444444444444, \"#bd3786\"], [0.5555555555555556, \"#d8576b\"], [0.6666666666666666, \"#ed7953\"], [0.7777777777777778, \"#fb9f3a\"], [0.8888888888888888, \"#fdca26\"], [1.0, \"#f0f921\"]], \"type\": \"heatmap\"}], \"heatmapgl\": [{\"colorbar\": {\"outlinewidth\": 0, \"ticks\": \"\"}, \"colorscale\": [[0.0, \"#0d0887\"], [0.1111111111111111, \"#46039f\"], [0.2222222222222222, \"#7201a8\"], [0.3333333333333333, \"#9c179e\"], [0.4444444444444444, \"#bd3786\"], [0.5555555555555556, \"#d8576b\"], [0.6666666666666666, \"#ed7953\"], [0.7777777777777778, \"#fb9f3a\"], [0.8888888888888888, \"#fdca26\"], [1.0, \"#f0f921\"]], \"type\": \"heatmapgl\"}], \"histogram\": [{\"marker\": {\"colorbar\": {\"outlinewidth\": 0, \"ticks\": \"\"}}, \"type\": \"histogram\"}], \"histogram2d\": [{\"colorbar\": {\"outlinewidth\": 0, \"ticks\": \"\"}, \"colorscale\": [[0.0, \"#0d0887\"], [0.1111111111111111, \"#46039f\"], [0.2222222222222222, \"#7201a8\"], [0.3333333333333333, \"#9c179e\"], [0.4444444444444444, \"#bd3786\"], [0.5555555555555556, \"#d8576b\"], [0.6666666666666666, \"#ed7953\"], [0.7777777777777778, \"#fb9f3a\"], [0.8888888888888888, \"#fdca26\"], [1.0, \"#f0f921\"]], \"type\": \"histogram2d\"}], \"histogram2dcontour\": [{\"colorbar\": {\"outlinewidth\": 0, \"ticks\": \"\"}, \"colorscale\": [[0.0, \"#0d0887\"], [0.1111111111111111, \"#46039f\"], [0.2222222222222222, \"#7201a8\"], [0.3333333333333333, \"#9c179e\"], [0.4444444444444444, \"#bd3786\"], [0.5555555555555556, \"#d8576b\"], [0.6666666666666666, \"#ed7953\"], [0.7777777777777778, \"#fb9f3a\"], [0.8888888888888888, \"#fdca26\"], [1.0, \"#f0f921\"]], \"type\": \"histogram2dcontour\"}], \"mesh3d\": [{\"colorbar\": {\"outlinewidth\": 0, \"ticks\": \"\"}, \"type\": \"mesh3d\"}], \"parcoords\": [{\"line\": {\"colorbar\": {\"outlinewidth\": 0, \"ticks\": \"\"}}, \"type\": \"parcoords\"}], \"pie\": [{\"automargin\": true, \"type\": \"pie\"}], \"scatter\": [{\"marker\": {\"colorbar\": {\"outlinewidth\": 0, \"ticks\": \"\"}}, \"type\": \"scatter\"}], \"scatter3d\": [{\"line\": {\"colorbar\": {\"outlinewidth\": 0, \"ticks\": \"\"}}, \"marker\": {\"colorbar\": {\"outlinewidth\": 0, \"ticks\": \"\"}}, \"type\": \"scatter3d\"}], \"scattercarpet\": [{\"marker\": {\"colorbar\": {\"outlinewidth\": 0, \"ticks\": \"\"}}, \"type\": \"scattercarpet\"}], \"scattergeo\": [{\"marker\": {\"colorbar\": {\"outlinewidth\": 0, \"ticks\": \"\"}}, \"type\": \"scattergeo\"}], \"scattergl\": [{\"marker\": {\"colorbar\": {\"outlinewidth\": 0, \"ticks\": \"\"}}, \"type\": \"scattergl\"}], \"scattermapbox\": [{\"marker\": {\"colorbar\": {\"outlinewidth\": 0, \"ticks\": \"\"}}, \"type\": \"scattermapbox\"}], \"scatterpolar\": [{\"marker\": {\"colorbar\": {\"outlinewidth\": 0, \"ticks\": \"\"}}, \"type\": \"scatterpolar\"}], \"scatterpolargl\": [{\"marker\": {\"colorbar\": {\"outlinewidth\": 0, \"ticks\": \"\"}}, \"type\": \"scatterpolargl\"}], \"scatterternary\": [{\"marker\": {\"colorbar\": {\"outlinewidth\": 0, \"ticks\": \"\"}}, \"type\": \"scatterternary\"}], \"surface\": [{\"colorbar\": {\"outlinewidth\": 0, \"ticks\": \"\"}, \"colorscale\": [[0.0, \"#0d0887\"], [0.1111111111111111, \"#46039f\"], [0.2222222222222222, \"#7201a8\"], [0.3333333333333333, \"#9c179e\"], [0.4444444444444444, \"#bd3786\"], [0.5555555555555556, \"#d8576b\"], [0.6666666666666666, \"#ed7953\"], [0.7777777777777778, \"#fb9f3a\"], [0.8888888888888888, \"#fdca26\"], [1.0, \"#f0f921\"]], \"type\": \"surface\"}], \"table\": [{\"cells\": {\"fill\": {\"color\": \"#EBF0F8\"}, \"line\": {\"color\": \"white\"}}, \"header\": {\"fill\": {\"color\": \"#C8D4E3\"}, \"line\": {\"color\": \"white\"}}, \"type\": \"table\"}]}, \"layout\": {\"annotationdefaults\": {\"arrowcolor\": \"#2a3f5f\", \"arrowhead\": 0, \"arrowwidth\": 1}, \"autotypenumbers\": \"strict\", \"coloraxis\": {\"colorbar\": {\"outlinewidth\": 0, \"ticks\": \"\"}}, \"colorscale\": {\"diverging\": [[0, \"#8e0152\"], [0.1, \"#c51b7d\"], [0.2, \"#de77ae\"], [0.3, \"#f1b6da\"], [0.4, \"#fde0ef\"], [0.5, \"#f7f7f7\"], [0.6, \"#e6f5d0\"], [0.7, \"#b8e186\"], [0.8, \"#7fbc41\"], [0.9, \"#4d9221\"], [1, \"#276419\"]], \"sequential\": [[0.0, \"#0d0887\"], [0.1111111111111111, \"#46039f\"], [0.2222222222222222, \"#7201a8\"], [0.3333333333333333, \"#9c179e\"], [0.4444444444444444, \"#bd3786\"], [0.5555555555555556, \"#d8576b\"], [0.6666666666666666, \"#ed7953\"], [0.7777777777777778, \"#fb9f3a\"], [0.8888888888888888, \"#fdca26\"], [1.0, \"#f0f921\"]], \"sequentialminus\": [[0.0, \"#0d0887\"], [0.1111111111111111, \"#46039f\"], [0.2222222222222222, \"#7201a8\"], [0.3333333333333333, \"#9c179e\"], [0.4444444444444444, \"#bd3786\"], [0.5555555555555556, \"#d8576b\"], [0.6666666666666666, \"#ed7953\"], [0.7777777777777778, \"#fb9f3a\"], [0.8888888888888888, \"#fdca26\"], [1.0, \"#f0f921\"]]}, \"colorway\": [\"#636efa\", \"#EF553B\", \"#00cc96\", \"#ab63fa\", \"#FFA15A\", \"#19d3f3\", \"#FF6692\", \"#B6E880\", \"#FF97FF\", \"#FECB52\"], \"font\": {\"color\": \"#2a3f5f\"}, \"geo\": {\"bgcolor\": \"white\", \"lakecolor\": \"white\", \"landcolor\": \"#E5ECF6\", \"showlakes\": true, \"showland\": true, \"subunitcolor\": \"white\"}, \"hoverlabel\": {\"align\": \"left\"}, \"hovermode\": \"closest\", \"mapbox\": {\"style\": \"light\"}, \"paper_bgcolor\": \"white\", \"plot_bgcolor\": \"#E5ECF6\", \"polar\": {\"angularaxis\": {\"gridcolor\": \"white\", \"linecolor\": \"white\", \"ticks\": \"\"}, \"bgcolor\": \"#E5ECF6\", \"radialaxis\": {\"gridcolor\": \"white\", \"linecolor\": \"white\", \"ticks\": \"\"}}, \"scene\": {\"xaxis\": {\"backgroundcolor\": \"#E5ECF6\", \"gridcolor\": \"white\", \"gridwidth\": 2, \"linecolor\": \"white\", \"showbackground\": true, \"ticks\": \"\", \"zerolinecolor\": \"white\"}, \"yaxis\": {\"backgroundcolor\": \"#E5ECF6\", \"gridcolor\": \"white\", \"gridwidth\": 2, \"linecolor\": \"white\", \"showbackground\": true, \"ticks\": \"\", \"zerolinecolor\": \"white\"}, \"zaxis\": {\"backgroundcolor\": \"#E5ECF6\", \"gridcolor\": \"white\", \"gridwidth\": 2, \"linecolor\": \"white\", \"showbackground\": true, \"ticks\": \"\", \"zerolinecolor\": \"white\"}}, \"shapedefaults\": {\"line\": {\"color\": \"#2a3f5f\"}}, \"ternary\": {\"aaxis\": {\"gridcolor\": \"white\", \"linecolor\": \"white\", \"ticks\": \"\"}, \"baxis\": {\"gridcolor\": \"white\", \"linecolor\": \"white\", \"ticks\": \"\"}, \"bgcolor\": \"#E5ECF6\", \"caxis\": {\"gridcolor\": \"white\", \"linecolor\": \"white\", \"ticks\": \"\"}}, \"title\": {\"x\": 0.05}, \"xaxis\": {\"automargin\": true, \"gridcolor\": \"white\", \"linecolor\": \"white\", \"ticks\": \"\", \"title\": {\"standoff\": 15}, \"zerolinecolor\": \"white\", \"zerolinewidth\": 2}, \"yaxis\": {\"automargin\": true, \"gridcolor\": \"white\", \"linecolor\": \"white\", \"ticks\": \"\", \"title\": {\"standoff\": 15}, \"zerolinecolor\": \"white\", \"zerolinewidth\": 2}}}, \"xaxis\": {\"anchor\": \"y\", \"domain\": [0.0, 1.0], \"title\": {\"text\": \"index\"}}, \"yaxis\": {\"anchor\": \"x\", \"domain\": [0.0, 1.0], \"title\": {\"text\": \"value\"}}},                        {\"responsive\": true}                    ).then(function(){\n",
       "                            \n",
       "var gd = document.getElementById('1baace1c-3bbb-4c94-92e1-bb31b8a05c1e');\n",
       "var x = new MutationObserver(function (mutations, observer) {{\n",
       "        var display = window.getComputedStyle(gd).display;\n",
       "        if (!display || display === 'none') {{\n",
       "            console.log([gd, 'removed!']);\n",
       "            Plotly.purge(gd);\n",
       "            observer.disconnect();\n",
       "        }}\n",
       "}});\n",
       "\n",
       "// Listen for the removal of the full notebook cells\n",
       "var notebookContainer = gd.closest('#notebook-container');\n",
       "if (notebookContainer) {{\n",
       "    x.observe(notebookContainer, {childList: true});\n",
       "}}\n",
       "\n",
       "// Listen for the clearing of the current output cell\n",
       "var outputEl = gd.closest('.output');\n",
       "if (outputEl) {{\n",
       "    x.observe(outputEl, {childList: true});\n",
       "}}\n",
       "\n",
       "                        })                };                });            </script>        </div>"
      ]
     },
     "metadata": {},
     "output_type": "display_data"
    }
   ],
   "source": [
    "df = pd.DataFrame(np.random.rand(5, 10), columns=list('ZXCVBNMLKJ'))\n",
    "px.line(df)\n"
   ]
  },
  {
   "cell_type": "code",
   "execution_count": 84,
   "metadata": {},
   "outputs": [
    {
     "data": {
      "application/vnd.plotly.v1+json": {
       "config": {
        "plotlyServerURL": "https://plot.ly"
       },
       "data": [
        {
         "hovertemplate": "variable=0<br>index=%{x}<br>value=%{y}<extra></extra>",
         "legendgroup": "0",
         "line": {
          "color": "#636efa",
          "dash": "solid"
         },
         "mode": "lines",
         "name": "0",
         "orientation": "v",
         "showlegend": true,
         "type": "scatter",
         "x": [
          0,
          1,
          2,
          3,
          4,
          5,
          6,
          7,
          8,
          9,
          10,
          11,
          12,
          13,
          14,
          15
         ],
         "xaxis": "x",
         "y": [
          7.4260445692570825,
          8.568512964527402,
          11.424683952703203,
          11.424683952703203,
          11.424683952703203,
          12.281535249155942,
          11.995918150338365,
          8.568512964527402,
          11.424683952703203,
          8.568512964527402,
          7.140427470439502,
          8.568512964527402,
          8.568512964527402,
          8.568512964527402,
          9.996598458615303,
          11.424683952703203
         ],
         "yaxis": "y"
        },
        {
         "hovertemplate": "variable=1<br>index=%{x}<br>value=%{y}<extra></extra>",
         "legendgroup": "1",
         "line": {
          "color": "#EF553B",
          "dash": "solid"
         },
         "mode": "lines",
         "name": "1",
         "orientation": "v",
         "showlegend": true,
         "type": "scatter",
         "x": [
          0,
          1,
          2,
          3,
          4,
          5,
          6,
          7,
          8,
          9,
          10,
          11,
          12,
          13,
          14,
          15
         ],
         "xaxis": "x",
         "y": [
          0.04355630726420139,
          0.05025727761254006,
          0.06700970348338675,
          0.06700970348338675,
          0.06700970348338675,
          0.07203543124464075,
          0.0703601886575561,
          0.05025727761254006,
          0.06700970348338675,
          0.05025727761254006,
          0.04188106467711672,
          0.05025727761254006,
          0.05025727761254006,
          0.05025727761254006,
          0.05863349054796341,
          0.06700970348338675
         ],
         "yaxis": "y"
        },
        {
         "hovertemplate": "variable=2<br>index=%{x}<br>value=%{y}<extra></extra>",
         "legendgroup": "2",
         "line": {
          "color": "#00cc96",
          "dash": "solid"
         },
         "mode": "lines",
         "name": "2",
         "orientation": "v",
         "showlegend": true,
         "type": "scatter",
         "x": [
          0,
          1,
          2,
          3,
          4,
          5,
          6,
          7,
          8,
          9,
          10,
          11,
          12,
          13,
          14,
          15
         ],
         "xaxis": "x",
         "y": [
          5.147243353855837,
          5.939126946756734,
          7.91883592900898,
          7.91883592900898,
          7.91883592900898,
          8.51274862368465,
          8.314777725459429,
          5.939126946756734,
          7.91883592900898,
          5.939126946756734,
          4.949272455630612,
          5.939126946756734,
          5.939126946756734,
          5.939126946756734,
          6.9289814378828565,
          7.91883592900898
         ],
         "yaxis": "y"
        },
        {
         "hovertemplate": "variable=3<br>index=%{x}<br>value=%{y}<extra></extra>",
         "legendgroup": "3",
         "line": {
          "color": "#ab63fa",
          "dash": "solid"
         },
         "mode": "lines",
         "name": "3",
         "orientation": "v",
         "showlegend": true,
         "type": "scatter",
         "x": [
          0,
          1,
          2,
          3,
          4,
          5,
          6,
          7,
          8,
          9,
          10,
          11,
          12,
          13,
          14,
          15
         ],
         "xaxis": "x",
         "y": [
          2.6279519759760004,
          3.0322522799723077,
          4.043003039963077,
          4.043003039963077,
          4.043003039963077,
          4.346228267960307,
          4.245153191961231,
          3.0322522799723077,
          4.043003039963077,
          3.0322522799723077,
          2.526876899976923,
          3.0322522799723077,
          3.0322522799723077,
          3.0322522799723077,
          3.5376276599676926,
          4.043003039963077
         ],
         "yaxis": "y"
        },
        {
         "hovertemplate": "variable=4<br>index=%{x}<br>value=%{y}<extra></extra>",
         "legendgroup": "4",
         "line": {
          "color": "#FFA15A",
          "dash": "solid"
         },
         "mode": "lines",
         "name": "4",
         "orientation": "v",
         "showlegend": true,
         "type": "scatter",
         "x": [
          0,
          1,
          2,
          3,
          4,
          5,
          6,
          7,
          8,
          9,
          10,
          11,
          12,
          13,
          14,
          15
         ],
         "xaxis": "x",
         "y": [
          2.804508828648423,
          3.2359717253635645,
          4.314628967151419,
          4.314628967151419,
          4.314628967151419,
          4.6382261396877755,
          4.530360415508991,
          3.2359717253635645,
          4.314628967151419,
          3.2359717253635645,
          2.6966431044696373,
          3.2359717253635645,
          3.2359717253635645,
          3.2359717253635645,
          3.7753003462574917,
          4.314628967151419
         ],
         "yaxis": "y"
        },
        {
         "hovertemplate": "variable=5<br>index=%{x}<br>value=%{y}<extra></extra>",
         "legendgroup": "5",
         "line": {
          "color": "#19d3f3",
          "dash": "solid"
         },
         "mode": "lines",
         "name": "5",
         "orientation": "v",
         "showlegend": true,
         "type": "scatter",
         "x": [
          0,
          1,
          2,
          3,
          4,
          5,
          6,
          7,
          8,
          9,
          10,
          11,
          12,
          13,
          14,
          15
         ],
         "xaxis": "x",
         "y": [
          7.425111105089629,
          8.567435890488031,
          11.423247853984043,
          11.423247853984043,
          11.423247853984043,
          12.279991443032845,
          11.994410246683247,
          8.567435890488031,
          11.423247853984043,
          8.567435890488031,
          7.139529908740027,
          8.567435890488031,
          8.567435890488031,
          8.567435890488031,
          9.995341872236038,
          11.423247853984043
         ],
         "yaxis": "y"
        },
        {
         "hovertemplate": "variable=6<br>index=%{x}<br>value=%{y}<extra></extra>",
         "legendgroup": "6",
         "line": {
          "color": "#FF6692",
          "dash": "solid"
         },
         "mode": "lines",
         "name": "6",
         "orientation": "v",
         "showlegend": true,
         "type": "scatter",
         "x": [
          0,
          1,
          2,
          3,
          4,
          5,
          6,
          7,
          8,
          9,
          10,
          11,
          12,
          13,
          14,
          15
         ],
         "xaxis": "x",
         "y": [
          1.1585287142567884,
          1.336763901065525,
          1.7823518680873667,
          1.7823518680873667,
          1.7823518680873667,
          1.916028258193919,
          1.8714694614917353,
          1.336763901065525,
          1.7823518680873667,
          1.336763901065525,
          1.1139699175546043,
          1.336763901065525,
          1.336763901065525,
          1.336763901065525,
          1.5595578845764457,
          1.7823518680873667
         ],
         "yaxis": "y"
        },
        {
         "hovertemplate": "variable=7<br>index=%{x}<br>value=%{y}<extra></extra>",
         "legendgroup": "7",
         "line": {
          "color": "#B6E880",
          "dash": "solid"
         },
         "mode": "lines",
         "name": "7",
         "orientation": "v",
         "showlegend": true,
         "type": "scatter",
         "x": [
          0,
          1,
          2,
          3,
          4,
          5,
          6,
          7,
          8,
          9,
          10,
          11,
          12,
          13,
          14,
          15
         ],
         "xaxis": "x",
         "y": [
          6.947301263368023,
          8.016116842347717,
          10.688155789796957,
          10.688155789796957,
          10.688155789796957,
          11.489767474031728,
          11.222563579286806,
          8.016116842347717,
          10.688155789796957,
          8.016116842347717,
          6.680097368623098,
          8.016116842347717,
          8.016116842347717,
          8.016116842347717,
          9.352136316072338,
          10.688155789796957
         ],
         "yaxis": "y"
        },
        {
         "hovertemplate": "variable=8<br>index=%{x}<br>value=%{y}<extra></extra>",
         "legendgroup": "8",
         "line": {
          "color": "#FF97FF",
          "dash": "solid"
         },
         "mode": "lines",
         "name": "8",
         "orientation": "v",
         "showlegend": true,
         "type": "scatter",
         "x": [
          0,
          1,
          2,
          3,
          4,
          5,
          6,
          7,
          8,
          9,
          10,
          11,
          12,
          13,
          14,
          15
         ],
         "xaxis": "x",
         "y": [
          7.57477189803862,
          8.740121420813791,
          11.653495227751721,
          11.653495227751721,
          11.653495227751721,
          12.5275073698331,
          12.236169989139308,
          8.740121420813791,
          11.653495227751721,
          8.740121420813791,
          7.283434517344825,
          8.740121420813791,
          8.740121420813791,
          8.740121420813791,
          10.196808324282756,
          11.653495227751721
         ],
         "yaxis": "y"
        },
        {
         "hovertemplate": "variable=9<br>index=%{x}<br>value=%{y}<extra></extra>",
         "legendgroup": "9",
         "line": {
          "color": "#FECB52",
          "dash": "solid"
         },
         "mode": "lines",
         "name": "9",
         "orientation": "v",
         "showlegend": true,
         "type": "scatter",
         "x": [
          0,
          1,
          2,
          3,
          4,
          5,
          6,
          7,
          8,
          9,
          10,
          11,
          12,
          13,
          14,
          15
         ],
         "xaxis": "x",
         "y": [
          0.8289418210706774,
          0.9564713320046276,
          1.2752951093395035,
          1.2752951093395035,
          1.2752951093395035,
          1.3709422425399662,
          1.3390598648064789,
          0.9564713320046276,
          1.2752951093395035,
          0.9564713320046276,
          0.7970594433371897,
          0.9564713320046276,
          0.9564713320046276,
          0.9564713320046276,
          1.1158832206720657,
          1.2752951093395035
         ],
         "yaxis": "y"
        },
        {
         "hovertemplate": "variable=10<br>index=%{x}<br>value=%{y}<extra></extra>",
         "legendgroup": "10",
         "line": {
          "color": "#636efa",
          "dash": "solid"
         },
         "mode": "lines",
         "name": "10",
         "orientation": "v",
         "showlegend": true,
         "type": "scatter",
         "x": [
          0,
          1,
          2,
          3,
          4,
          5,
          6,
          7,
          8,
          9,
          10,
          11,
          12,
          13,
          14,
          15
         ],
         "xaxis": "x",
         "y": [
          5.64330285217966,
          6.51150329097653,
          8.682004387968707,
          8.682004387968707,
          8.682004387968707,
          9.333154717066359,
          9.116104607367143,
          6.51150329097653,
          8.682004387968707,
          6.51150329097653,
          5.426252742480442,
          6.51150329097653,
          6.51150329097653,
          6.51150329097653,
          7.596753839472619,
          8.682004387968707
         ],
         "yaxis": "y"
        },
        {
         "hovertemplate": "variable=11<br>index=%{x}<br>value=%{y}<extra></extra>",
         "legendgroup": "11",
         "line": {
          "color": "#EF553B",
          "dash": "solid"
         },
         "mode": "lines",
         "name": "11",
         "orientation": "v",
         "showlegend": true,
         "type": "scatter",
         "x": [
          0,
          1,
          2,
          3,
          4,
          5,
          6,
          7,
          8,
          9,
          10,
          11,
          12,
          13,
          14,
          15
         ],
         "xaxis": "x",
         "y": [
          0.904098086650053,
          1.0431900999808303,
          1.3909201333077736,
          1.3909201333077736,
          1.3909201333077736,
          1.4952391433058565,
          1.4604661399731624,
          1.0431900999808303,
          1.3909201333077736,
          1.0431900999808303,
          0.8693250833173585,
          1.0431900999808303,
          1.0431900999808303,
          1.0431900999808303,
          1.217055116644302,
          1.3909201333077736
         ],
         "yaxis": "y"
        },
        {
         "hovertemplate": "variable=12<br>index=%{x}<br>value=%{y}<extra></extra>",
         "legendgroup": "12",
         "line": {
          "color": "#00cc96",
          "dash": "solid"
         },
         "mode": "lines",
         "name": "12",
         "orientation": "v",
         "showlegend": true,
         "type": "scatter",
         "x": [
          0,
          1,
          2,
          3,
          4,
          5,
          6,
          7,
          8,
          9,
          10,
          11,
          12,
          13,
          14,
          15
         ],
         "xaxis": "x",
         "y": [
          7.389079584933499,
          8.52586105953865,
          11.367814746051534,
          11.367814746051534,
          11.367814746051534,
          12.2204008520054,
          11.936205483354113,
          8.52586105953865,
          11.367814746051534,
          8.52586105953865,
          7.104884216282209,
          8.52586105953865,
          8.52586105953865,
          8.52586105953865,
          9.946837902795092,
          11.367814746051534
         ],
         "yaxis": "y"
        },
        {
         "hovertemplate": "variable=13<br>index=%{x}<br>value=%{y}<extra></extra>",
         "legendgroup": "13",
         "line": {
          "color": "#ab63fa",
          "dash": "solid"
         },
         "mode": "lines",
         "name": "13",
         "orientation": "v",
         "showlegend": true,
         "type": "scatter",
         "x": [
          0,
          1,
          2,
          3,
          4,
          5,
          6,
          7,
          8,
          9,
          10,
          11,
          12,
          13,
          14,
          15
         ],
         "xaxis": "x",
         "y": [
          1.4095585072311108,
          1.626413662189743,
          2.168551549586324,
          2.168551549586324,
          2.168551549586324,
          2.331192915805298,
          2.2769791270656405,
          1.626413662189743,
          2.168551549586324,
          1.626413662189743,
          1.3553447184914524,
          1.626413662189743,
          1.626413662189743,
          1.626413662189743,
          1.8974826058880334,
          2.168551549586324
         ],
         "yaxis": "y"
        },
        {
         "hovertemplate": "variable=14<br>index=%{x}<br>value=%{y}<extra></extra>",
         "legendgroup": "14",
         "line": {
          "color": "#FFA15A",
          "dash": "solid"
         },
         "mode": "lines",
         "name": "14",
         "orientation": "v",
         "showlegend": true,
         "type": "scatter",
         "x": [
          0,
          1,
          2,
          3,
          4,
          5,
          6,
          7,
          8,
          9,
          10,
          11,
          12,
          13,
          14,
          15
         ],
         "xaxis": "x",
         "y": [
          1.5978523187436855,
          1.84367575239656,
          2.4582343365287467,
          2.4582343365287467,
          2.4582343365287467,
          2.6426019117684025,
          2.581146053355184,
          1.84367575239656,
          2.4582343365287467,
          1.84367575239656,
          1.5363964603304667,
          1.84367575239656,
          1.84367575239656,
          1.84367575239656,
          2.1509550444626533,
          2.4582343365287467
         ],
         "yaxis": "y"
        },
        {
         "hovertemplate": "variable=15<br>index=%{x}<br>value=%{y}<extra></extra>",
         "legendgroup": "15",
         "line": {
          "color": "#19d3f3",
          "dash": "solid"
         },
         "mode": "lines",
         "name": "15",
         "orientation": "v",
         "showlegend": true,
         "type": "scatter",
         "x": [
          0,
          1,
          2,
          3,
          4,
          5,
          6,
          7,
          8,
          9,
          10,
          11,
          12,
          13,
          14,
          15
         ],
         "xaxis": "x",
         "y": [
          4.039615148703489,
          4.661094402350179,
          6.214792536466906,
          6.214792536466906,
          6.214792536466906,
          6.680901976701923,
          6.5255321632902525,
          4.661094402350179,
          6.214792536466906,
          4.661094402350179,
          3.8842453352918165,
          4.661094402350179,
          4.661094402350179,
          4.661094402350179,
          5.437943469408543,
          6.214792536466906
         ],
         "yaxis": "y"
        },
        {
         "hovertemplate": "variable=16<br>index=%{x}<br>value=%{y}<extra></extra>",
         "legendgroup": "16",
         "line": {
          "color": "#FF6692",
          "dash": "solid"
         },
         "mode": "lines",
         "name": "16",
         "orientation": "v",
         "showlegend": true,
         "type": "scatter",
         "x": [
          0,
          1,
          2,
          3,
          4,
          5,
          6,
          7,
          8,
          9,
          10,
          11,
          12,
          13,
          14,
          15
         ],
         "xaxis": "x",
         "y": [
          0.8663874756628924,
          0.9996778565341066,
          1.332903808712142,
          1.332903808712142,
          1.332903808712142,
          1.4328715943655526,
          1.3995489991477494,
          0.9996778565341066,
          1.332903808712142,
          0.9996778565341066,
          0.8330648804450889,
          0.9996778565341066,
          0.9996778565341066,
          0.9996778565341066,
          1.1662908326231243,
          1.332903808712142
         ],
         "yaxis": "y"
        },
        {
         "hovertemplate": "variable=17<br>index=%{x}<br>value=%{y}<extra></extra>",
         "legendgroup": "17",
         "line": {
          "color": "#B6E880",
          "dash": "solid"
         },
         "mode": "lines",
         "name": "17",
         "orientation": "v",
         "showlegend": true,
         "type": "scatter",
         "x": [
          0,
          1,
          2,
          3,
          4,
          5,
          6,
          7,
          8,
          9,
          10,
          11,
          12,
          13,
          14,
          15
         ],
         "xaxis": "x",
         "y": [
          0.7983579925196194,
          0.9211822990610992,
          1.2282430654147989,
          1.2282430654147989,
          1.2282430654147989,
          1.3203612953209087,
          1.289655218685539,
          0.9211822990610992,
          1.2282430654147989,
          0.9211822990610992,
          0.7676519158842493,
          0.9211822990610992,
          0.9211822990610992,
          0.9211822990610992,
          1.0747126822379491,
          1.2282430654147989
         ],
         "yaxis": "y"
        },
        {
         "hovertemplate": "variable=18<br>index=%{x}<br>value=%{y}<extra></extra>",
         "legendgroup": "18",
         "line": {
          "color": "#FF97FF",
          "dash": "solid"
         },
         "mode": "lines",
         "name": "18",
         "orientation": "v",
         "showlegend": true,
         "type": "scatter",
         "x": [
          0,
          1,
          2,
          3,
          4,
          5,
          6,
          7,
          8,
          9,
          10,
          11,
          12,
          13,
          14,
          15
         ],
         "xaxis": "x",
         "y": [
          5.487374796345802,
          6.331586303475925,
          8.442115071301233,
          8.442115071301233,
          8.442115071301233,
          9.075273701648825,
          8.864220824866296,
          6.331586303475925,
          8.442115071301233,
          6.331586303475925,
          5.276321919563271,
          6.331586303475925,
          6.331586303475925,
          6.331586303475925,
          7.386850687388579,
          8.442115071301233
         ],
         "yaxis": "y"
        },
        {
         "hovertemplate": "variable=19<br>index=%{x}<br>value=%{y}<extra></extra>",
         "legendgroup": "19",
         "line": {
          "color": "#FECB52",
          "dash": "solid"
         },
         "mode": "lines",
         "name": "19",
         "orientation": "v",
         "showlegend": true,
         "type": "scatter",
         "x": [
          0,
          1,
          2,
          3,
          4,
          5,
          6,
          7,
          8,
          9,
          10,
          11,
          12,
          13,
          14,
          15
         ],
         "xaxis": "x",
         "y": [
          5.061887557318829,
          5.840639489214032,
          7.787519318952043,
          7.787519318952043,
          7.787519318952043,
          8.371583267873445,
          8.176895284899647,
          5.840639489214032,
          7.787519318952043,
          5.840639489214032,
          4.867199574345027,
          5.840639489214032,
          5.840639489214032,
          5.840639489214032,
          6.814079404083038,
          7.787519318952043
         ],
         "yaxis": "y"
        },
        {
         "hovertemplate": "variable=20<br>index=%{x}<br>value=%{y}<extra></extra>",
         "legendgroup": "20",
         "line": {
          "color": "#636efa",
          "dash": "solid"
         },
         "mode": "lines",
         "name": "20",
         "orientation": "v",
         "showlegend": true,
         "type": "scatter",
         "x": [
          0,
          1,
          2,
          3,
          4,
          5,
          6,
          7,
          8,
          9,
          10,
          11,
          12,
          13,
          14,
          15
         ],
         "xaxis": "x",
         "y": [
          0.9185400752774356,
          1.0598539330124255,
          1.4131385773499008,
          1.4131385773499008,
          1.4131385773499008,
          1.5191239706511432,
          1.483795506217396,
          1.0598539330124255,
          1.4131385773499008,
          1.0598539330124255,
          0.883211610843688,
          1.0598539330124255,
          1.0598539330124255,
          1.0598539330124255,
          1.2364962551811631,
          1.4131385773499008
         ],
         "yaxis": "y"
        },
        {
         "hovertemplate": "variable=21<br>index=%{x}<br>value=%{y}<extra></extra>",
         "legendgroup": "21",
         "line": {
          "color": "#EF553B",
          "dash": "solid"
         },
         "mode": "lines",
         "name": "21",
         "orientation": "v",
         "showlegend": true,
         "type": "scatter",
         "x": [
          0,
          1,
          2,
          3,
          4,
          5,
          6,
          7,
          8,
          9,
          10,
          11,
          12,
          13,
          14,
          15
         ],
         "xaxis": "x",
         "y": [
          4.217578266363745,
          4.866436461188936,
          6.488581948251915,
          6.488581948251915,
          6.488581948251915,
          6.975225594370808,
          6.813011045664512,
          4.866436461188936,
          6.488581948251915,
          4.866436461188936,
          4.055363717657447,
          4.866436461188936,
          4.866436461188936,
          4.866436461188936,
          5.677509204720426,
          6.488581948251915
         ],
         "yaxis": "y"
        },
        {
         "hovertemplate": "variable=22<br>index=%{x}<br>value=%{y}<extra></extra>",
         "legendgroup": "22",
         "line": {
          "color": "#00cc96",
          "dash": "solid"
         },
         "mode": "lines",
         "name": "22",
         "orientation": "v",
         "showlegend": true,
         "type": "scatter",
         "x": [
          0,
          1,
          2,
          3,
          4,
          5,
          6,
          7,
          8,
          9,
          10,
          11,
          12,
          13,
          14,
          15
         ],
         "xaxis": "x",
         "y": [
          3.2601141276897754,
          3.761670147334356,
          5.015560196445808,
          5.015560196445808,
          5.015560196445808,
          5.3917272111792425,
          5.266338206268099,
          3.761670147334356,
          5.015560196445808,
          3.761670147334356,
          3.13472512277863,
          3.761670147334356,
          3.761670147334356,
          3.761670147334356,
          4.388615171890082,
          5.015560196445808
         ],
         "yaxis": "y"
        },
        {
         "hovertemplate": "variable=23<br>index=%{x}<br>value=%{y}<extra></extra>",
         "legendgroup": "23",
         "line": {
          "color": "#ab63fa",
          "dash": "solid"
         },
         "mode": "lines",
         "name": "23",
         "orientation": "v",
         "showlegend": true,
         "type": "scatter",
         "x": [
          0,
          1,
          2,
          3,
          4,
          5,
          6,
          7,
          8,
          9,
          10,
          11,
          12,
          13,
          14,
          15
         ],
         "xaxis": "x",
         "y": [
          5.707292387833818,
          6.585337370577482,
          8.780449827436643,
          8.780449827436643,
          8.780449827436643,
          9.43898356449439,
          9.219472318808476,
          6.585337370577482,
          8.780449827436643,
          6.585337370577482,
          5.4877811421479015,
          6.585337370577482,
          6.585337370577482,
          6.585337370577482,
          7.682893599007062,
          8.780449827436643
         ],
         "yaxis": "y"
        },
        {
         "hovertemplate": "variable=24<br>index=%{x}<br>value=%{y}<extra></extra>",
         "legendgroup": "24",
         "line": {
          "color": "#FFA15A",
          "dash": "solid"
         },
         "mode": "lines",
         "name": "24",
         "orientation": "v",
         "showlegend": true,
         "type": "scatter",
         "x": [
          0,
          1,
          2,
          3,
          4,
          5,
          6,
          7,
          8,
          9,
          10,
          11,
          12,
          13,
          14,
          15
         ],
         "xaxis": "x",
         "y": [
          0.3383946238309322,
          0.3904553351895371,
          0.5206071135860495,
          0.5206071135860495,
          0.5206071135860495,
          0.5596526471050032,
          0.5466374692653521,
          0.3904553351895371,
          0.5206071135860495,
          0.3904553351895371,
          0.32537944599128094,
          0.3904553351895371,
          0.3904553351895371,
          0.3904553351895371,
          0.4555312243877933,
          0.5206071135860495
         ],
         "yaxis": "y"
        },
        {
         "hovertemplate": "variable=25<br>index=%{x}<br>value=%{y}<extra></extra>",
         "legendgroup": "25",
         "line": {
          "color": "#19d3f3",
          "dash": "solid"
         },
         "mode": "lines",
         "name": "25",
         "orientation": "v",
         "showlegend": true,
         "type": "scatter",
         "x": [
          0,
          1,
          2,
          3,
          4,
          5,
          6,
          7,
          8,
          9,
          10,
          11,
          12,
          13,
          14,
          15
         ],
         "xaxis": "x",
         "y": [
          3.246204306941854,
          3.7456203541636772,
          4.994160472218237,
          4.994160472218237,
          4.994160472218237,
          5.368722507634604,
          5.243868495829149,
          3.7456203541636772,
          4.994160472218237,
          3.7456203541636772,
          3.1213502951363976,
          3.7456203541636772,
          3.7456203541636772,
          3.7456203541636772,
          4.369890413190957,
          4.994160472218237
         ],
         "yaxis": "y"
        },
        {
         "hovertemplate": "variable=26<br>index=%{x}<br>value=%{y}<extra></extra>",
         "legendgroup": "26",
         "line": {
          "color": "#FF6692",
          "dash": "solid"
         },
         "mode": "lines",
         "name": "26",
         "orientation": "v",
         "showlegend": true,
         "type": "scatter",
         "x": [
          0,
          1,
          2,
          3,
          4,
          5,
          6,
          7,
          8,
          9,
          10,
          11,
          12,
          13,
          14,
          15
         ],
         "xaxis": "x",
         "y": [
          1.1835625331359252,
          1.365649076695298,
          1.8208654355937308,
          1.8208654355937308,
          1.8208654355937308,
          1.9574303432632605,
          1.9119087073734176,
          1.365649076695298,
          1.8208654355937308,
          1.365649076695298,
          1.1380408972460818,
          1.365649076695298,
          1.365649076695298,
          1.365649076695298,
          1.5932572561445144,
          1.8208654355937308
         ],
         "yaxis": "y"
        },
        {
         "hovertemplate": "variable=27<br>index=%{x}<br>value=%{y}<extra></extra>",
         "legendgroup": "27",
         "line": {
          "color": "#B6E880",
          "dash": "solid"
         },
         "mode": "lines",
         "name": "27",
         "orientation": "v",
         "showlegend": true,
         "type": "scatter",
         "x": [
          0,
          1,
          2,
          3,
          4,
          5,
          6,
          7,
          8,
          9,
          10,
          11,
          12,
          13,
          14,
          15
         ],
         "xaxis": "x",
         "y": [
          4.034810591786126,
          4.655550682830145,
          6.207400910440194,
          6.207400910440194,
          6.207400910440194,
          6.672955978723207,
          6.517770955962204,
          4.655550682830145,
          6.207400910440194,
          4.655550682830145,
          3.879625569025121,
          4.655550682830145,
          4.655550682830145,
          4.655550682830145,
          5.431475796635169,
          6.207400910440194
         ],
         "yaxis": "y"
        },
        {
         "hovertemplate": "variable=28<br>index=%{x}<br>value=%{y}<extra></extra>",
         "legendgroup": "28",
         "line": {
          "color": "#FF97FF",
          "dash": "solid"
         },
         "mode": "lines",
         "name": "28",
         "orientation": "v",
         "showlegend": true,
         "type": "scatter",
         "x": [
          0,
          1,
          2,
          3,
          4,
          5,
          6,
          7,
          8,
          9,
          10,
          11,
          12,
          13,
          14,
          15
         ],
         "xaxis": "x",
         "y": [
          5.805786102034972,
          6.698983963886506,
          8.931978618515341,
          8.931978618515341,
          8.931978618515341,
          9.601877014903991,
          9.37857754944111,
          6.698983963886506,
          8.931978618515341,
          6.698983963886506,
          5.582486636572088,
          6.698983963886506,
          6.698983963886506,
          6.698983963886506,
          7.815481291200923,
          8.931978618515341
         ],
         "yaxis": "y"
        },
        {
         "hovertemplate": "variable=29<br>index=%{x}<br>value=%{y}<extra></extra>",
         "legendgroup": "29",
         "line": {
          "color": "#FECB52",
          "dash": "solid"
         },
         "mode": "lines",
         "name": "29",
         "orientation": "v",
         "showlegend": true,
         "type": "scatter",
         "x": [
          0,
          1,
          2,
          3,
          4,
          5,
          6,
          7,
          8,
          9,
          10,
          11,
          12,
          13,
          14,
          15
         ],
         "xaxis": "x",
         "y": [
          4.772754330311672,
          5.507024227282699,
          7.3426989697102645,
          7.3426989697102645,
          7.3426989697102645,
          7.893401392438533,
          7.709833918195779,
          5.507024227282699,
          7.3426989697102645,
          5.507024227282699,
          4.589186856068915,
          5.507024227282699,
          5.507024227282699,
          5.507024227282699,
          6.424861598496482,
          7.3426989697102645
         ],
         "yaxis": "y"
        }
       ],
       "layout": {
        "legend": {
         "title": {
          "text": "variable"
         },
         "tracegroupgap": 0
        },
        "margin": {
         "t": 60
        },
        "template": {
         "data": {
          "bar": [
           {
            "error_x": {
             "color": "#2a3f5f"
            },
            "error_y": {
             "color": "#2a3f5f"
            },
            "marker": {
             "line": {
              "color": "#E5ECF6",
              "width": 0.5
             }
            },
            "type": "bar"
           }
          ],
          "barpolar": [
           {
            "marker": {
             "line": {
              "color": "#E5ECF6",
              "width": 0.5
             }
            },
            "type": "barpolar"
           }
          ],
          "carpet": [
           {
            "aaxis": {
             "endlinecolor": "#2a3f5f",
             "gridcolor": "white",
             "linecolor": "white",
             "minorgridcolor": "white",
             "startlinecolor": "#2a3f5f"
            },
            "baxis": {
             "endlinecolor": "#2a3f5f",
             "gridcolor": "white",
             "linecolor": "white",
             "minorgridcolor": "white",
             "startlinecolor": "#2a3f5f"
            },
            "type": "carpet"
           }
          ],
          "choropleth": [
           {
            "colorbar": {
             "outlinewidth": 0,
             "ticks": ""
            },
            "type": "choropleth"
           }
          ],
          "contour": [
           {
            "colorbar": {
             "outlinewidth": 0,
             "ticks": ""
            },
            "colorscale": [
             [
              0,
              "#0d0887"
             ],
             [
              0.1111111111111111,
              "#46039f"
             ],
             [
              0.2222222222222222,
              "#7201a8"
             ],
             [
              0.3333333333333333,
              "#9c179e"
             ],
             [
              0.4444444444444444,
              "#bd3786"
             ],
             [
              0.5555555555555556,
              "#d8576b"
             ],
             [
              0.6666666666666666,
              "#ed7953"
             ],
             [
              0.7777777777777778,
              "#fb9f3a"
             ],
             [
              0.8888888888888888,
              "#fdca26"
             ],
             [
              1,
              "#f0f921"
             ]
            ],
            "type": "contour"
           }
          ],
          "contourcarpet": [
           {
            "colorbar": {
             "outlinewidth": 0,
             "ticks": ""
            },
            "type": "contourcarpet"
           }
          ],
          "heatmap": [
           {
            "colorbar": {
             "outlinewidth": 0,
             "ticks": ""
            },
            "colorscale": [
             [
              0,
              "#0d0887"
             ],
             [
              0.1111111111111111,
              "#46039f"
             ],
             [
              0.2222222222222222,
              "#7201a8"
             ],
             [
              0.3333333333333333,
              "#9c179e"
             ],
             [
              0.4444444444444444,
              "#bd3786"
             ],
             [
              0.5555555555555556,
              "#d8576b"
             ],
             [
              0.6666666666666666,
              "#ed7953"
             ],
             [
              0.7777777777777778,
              "#fb9f3a"
             ],
             [
              0.8888888888888888,
              "#fdca26"
             ],
             [
              1,
              "#f0f921"
             ]
            ],
            "type": "heatmap"
           }
          ],
          "heatmapgl": [
           {
            "colorbar": {
             "outlinewidth": 0,
             "ticks": ""
            },
            "colorscale": [
             [
              0,
              "#0d0887"
             ],
             [
              0.1111111111111111,
              "#46039f"
             ],
             [
              0.2222222222222222,
              "#7201a8"
             ],
             [
              0.3333333333333333,
              "#9c179e"
             ],
             [
              0.4444444444444444,
              "#bd3786"
             ],
             [
              0.5555555555555556,
              "#d8576b"
             ],
             [
              0.6666666666666666,
              "#ed7953"
             ],
             [
              0.7777777777777778,
              "#fb9f3a"
             ],
             [
              0.8888888888888888,
              "#fdca26"
             ],
             [
              1,
              "#f0f921"
             ]
            ],
            "type": "heatmapgl"
           }
          ],
          "histogram": [
           {
            "marker": {
             "colorbar": {
              "outlinewidth": 0,
              "ticks": ""
             }
            },
            "type": "histogram"
           }
          ],
          "histogram2d": [
           {
            "colorbar": {
             "outlinewidth": 0,
             "ticks": ""
            },
            "colorscale": [
             [
              0,
              "#0d0887"
             ],
             [
              0.1111111111111111,
              "#46039f"
             ],
             [
              0.2222222222222222,
              "#7201a8"
             ],
             [
              0.3333333333333333,
              "#9c179e"
             ],
             [
              0.4444444444444444,
              "#bd3786"
             ],
             [
              0.5555555555555556,
              "#d8576b"
             ],
             [
              0.6666666666666666,
              "#ed7953"
             ],
             [
              0.7777777777777778,
              "#fb9f3a"
             ],
             [
              0.8888888888888888,
              "#fdca26"
             ],
             [
              1,
              "#f0f921"
             ]
            ],
            "type": "histogram2d"
           }
          ],
          "histogram2dcontour": [
           {
            "colorbar": {
             "outlinewidth": 0,
             "ticks": ""
            },
            "colorscale": [
             [
              0,
              "#0d0887"
             ],
             [
              0.1111111111111111,
              "#46039f"
             ],
             [
              0.2222222222222222,
              "#7201a8"
             ],
             [
              0.3333333333333333,
              "#9c179e"
             ],
             [
              0.4444444444444444,
              "#bd3786"
             ],
             [
              0.5555555555555556,
              "#d8576b"
             ],
             [
              0.6666666666666666,
              "#ed7953"
             ],
             [
              0.7777777777777778,
              "#fb9f3a"
             ],
             [
              0.8888888888888888,
              "#fdca26"
             ],
             [
              1,
              "#f0f921"
             ]
            ],
            "type": "histogram2dcontour"
           }
          ],
          "mesh3d": [
           {
            "colorbar": {
             "outlinewidth": 0,
             "ticks": ""
            },
            "type": "mesh3d"
           }
          ],
          "parcoords": [
           {
            "line": {
             "colorbar": {
              "outlinewidth": 0,
              "ticks": ""
             }
            },
            "type": "parcoords"
           }
          ],
          "pie": [
           {
            "automargin": true,
            "type": "pie"
           }
          ],
          "scatter": [
           {
            "marker": {
             "colorbar": {
              "outlinewidth": 0,
              "ticks": ""
             }
            },
            "type": "scatter"
           }
          ],
          "scatter3d": [
           {
            "line": {
             "colorbar": {
              "outlinewidth": 0,
              "ticks": ""
             }
            },
            "marker": {
             "colorbar": {
              "outlinewidth": 0,
              "ticks": ""
             }
            },
            "type": "scatter3d"
           }
          ],
          "scattercarpet": [
           {
            "marker": {
             "colorbar": {
              "outlinewidth": 0,
              "ticks": ""
             }
            },
            "type": "scattercarpet"
           }
          ],
          "scattergeo": [
           {
            "marker": {
             "colorbar": {
              "outlinewidth": 0,
              "ticks": ""
             }
            },
            "type": "scattergeo"
           }
          ],
          "scattergl": [
           {
            "marker": {
             "colorbar": {
              "outlinewidth": 0,
              "ticks": ""
             }
            },
            "type": "scattergl"
           }
          ],
          "scattermapbox": [
           {
            "marker": {
             "colorbar": {
              "outlinewidth": 0,
              "ticks": ""
             }
            },
            "type": "scattermapbox"
           }
          ],
          "scatterpolar": [
           {
            "marker": {
             "colorbar": {
              "outlinewidth": 0,
              "ticks": ""
             }
            },
            "type": "scatterpolar"
           }
          ],
          "scatterpolargl": [
           {
            "marker": {
             "colorbar": {
              "outlinewidth": 0,
              "ticks": ""
             }
            },
            "type": "scatterpolargl"
           }
          ],
          "scatterternary": [
           {
            "marker": {
             "colorbar": {
              "outlinewidth": 0,
              "ticks": ""
             }
            },
            "type": "scatterternary"
           }
          ],
          "surface": [
           {
            "colorbar": {
             "outlinewidth": 0,
             "ticks": ""
            },
            "colorscale": [
             [
              0,
              "#0d0887"
             ],
             [
              0.1111111111111111,
              "#46039f"
             ],
             [
              0.2222222222222222,
              "#7201a8"
             ],
             [
              0.3333333333333333,
              "#9c179e"
             ],
             [
              0.4444444444444444,
              "#bd3786"
             ],
             [
              0.5555555555555556,
              "#d8576b"
             ],
             [
              0.6666666666666666,
              "#ed7953"
             ],
             [
              0.7777777777777778,
              "#fb9f3a"
             ],
             [
              0.8888888888888888,
              "#fdca26"
             ],
             [
              1,
              "#f0f921"
             ]
            ],
            "type": "surface"
           }
          ],
          "table": [
           {
            "cells": {
             "fill": {
              "color": "#EBF0F8"
             },
             "line": {
              "color": "white"
             }
            },
            "header": {
             "fill": {
              "color": "#C8D4E3"
             },
             "line": {
              "color": "white"
             }
            },
            "type": "table"
           }
          ]
         },
         "layout": {
          "annotationdefaults": {
           "arrowcolor": "#2a3f5f",
           "arrowhead": 0,
           "arrowwidth": 1
          },
          "autotypenumbers": "strict",
          "coloraxis": {
           "colorbar": {
            "outlinewidth": 0,
            "ticks": ""
           }
          },
          "colorscale": {
           "diverging": [
            [
             0,
             "#8e0152"
            ],
            [
             0.1,
             "#c51b7d"
            ],
            [
             0.2,
             "#de77ae"
            ],
            [
             0.3,
             "#f1b6da"
            ],
            [
             0.4,
             "#fde0ef"
            ],
            [
             0.5,
             "#f7f7f7"
            ],
            [
             0.6,
             "#e6f5d0"
            ],
            [
             0.7,
             "#b8e186"
            ],
            [
             0.8,
             "#7fbc41"
            ],
            [
             0.9,
             "#4d9221"
            ],
            [
             1,
             "#276419"
            ]
           ],
           "sequential": [
            [
             0,
             "#0d0887"
            ],
            [
             0.1111111111111111,
             "#46039f"
            ],
            [
             0.2222222222222222,
             "#7201a8"
            ],
            [
             0.3333333333333333,
             "#9c179e"
            ],
            [
             0.4444444444444444,
             "#bd3786"
            ],
            [
             0.5555555555555556,
             "#d8576b"
            ],
            [
             0.6666666666666666,
             "#ed7953"
            ],
            [
             0.7777777777777778,
             "#fb9f3a"
            ],
            [
             0.8888888888888888,
             "#fdca26"
            ],
            [
             1,
             "#f0f921"
            ]
           ],
           "sequentialminus": [
            [
             0,
             "#0d0887"
            ],
            [
             0.1111111111111111,
             "#46039f"
            ],
            [
             0.2222222222222222,
             "#7201a8"
            ],
            [
             0.3333333333333333,
             "#9c179e"
            ],
            [
             0.4444444444444444,
             "#bd3786"
            ],
            [
             0.5555555555555556,
             "#d8576b"
            ],
            [
             0.6666666666666666,
             "#ed7953"
            ],
            [
             0.7777777777777778,
             "#fb9f3a"
            ],
            [
             0.8888888888888888,
             "#fdca26"
            ],
            [
             1,
             "#f0f921"
            ]
           ]
          },
          "colorway": [
           "#636efa",
           "#EF553B",
           "#00cc96",
           "#ab63fa",
           "#FFA15A",
           "#19d3f3",
           "#FF6692",
           "#B6E880",
           "#FF97FF",
           "#FECB52"
          ],
          "font": {
           "color": "#2a3f5f"
          },
          "geo": {
           "bgcolor": "white",
           "lakecolor": "white",
           "landcolor": "#E5ECF6",
           "showlakes": true,
           "showland": true,
           "subunitcolor": "white"
          },
          "hoverlabel": {
           "align": "left"
          },
          "hovermode": "closest",
          "mapbox": {
           "style": "light"
          },
          "paper_bgcolor": "white",
          "plot_bgcolor": "#E5ECF6",
          "polar": {
           "angularaxis": {
            "gridcolor": "white",
            "linecolor": "white",
            "ticks": ""
           },
           "bgcolor": "#E5ECF6",
           "radialaxis": {
            "gridcolor": "white",
            "linecolor": "white",
            "ticks": ""
           }
          },
          "scene": {
           "xaxis": {
            "backgroundcolor": "#E5ECF6",
            "gridcolor": "white",
            "gridwidth": 2,
            "linecolor": "white",
            "showbackground": true,
            "ticks": "",
            "zerolinecolor": "white"
           },
           "yaxis": {
            "backgroundcolor": "#E5ECF6",
            "gridcolor": "white",
            "gridwidth": 2,
            "linecolor": "white",
            "showbackground": true,
            "ticks": "",
            "zerolinecolor": "white"
           },
           "zaxis": {
            "backgroundcolor": "#E5ECF6",
            "gridcolor": "white",
            "gridwidth": 2,
            "linecolor": "white",
            "showbackground": true,
            "ticks": "",
            "zerolinecolor": "white"
           }
          },
          "shapedefaults": {
           "line": {
            "color": "#2a3f5f"
           }
          },
          "ternary": {
           "aaxis": {
            "gridcolor": "white",
            "linecolor": "white",
            "ticks": ""
           },
           "baxis": {
            "gridcolor": "white",
            "linecolor": "white",
            "ticks": ""
           },
           "bgcolor": "#E5ECF6",
           "caxis": {
            "gridcolor": "white",
            "linecolor": "white",
            "ticks": ""
           }
          },
          "title": {
           "x": 0.05
          },
          "xaxis": {
           "automargin": true,
           "gridcolor": "white",
           "linecolor": "white",
           "ticks": "",
           "title": {
            "standoff": 15
           },
           "zerolinecolor": "white",
           "zerolinewidth": 2
          },
          "yaxis": {
           "automargin": true,
           "gridcolor": "white",
           "linecolor": "white",
           "ticks": "",
           "title": {
            "standoff": 15
           },
           "zerolinecolor": "white",
           "zerolinewidth": 2
          }
         }
        },
        "xaxis": {
         "anchor": "y",
         "domain": [
          0,
          1
         ],
         "title": {
          "text": "index"
         }
        },
        "yaxis": {
         "anchor": "x",
         "domain": [
          0,
          1
         ],
         "title": {
          "text": "value"
         }
        }
       }
      },
      "text/html": [
       "<div>                            <div id=\"5c8a3aff-9da9-4cfe-ad14-405c55159b58\" class=\"plotly-graph-div\" style=\"height:525px; width:100%;\"></div>            <script type=\"text/javascript\">                require([\"plotly\"], function(Plotly) {                    window.PLOTLYENV=window.PLOTLYENV || {};                                    if (document.getElementById(\"5c8a3aff-9da9-4cfe-ad14-405c55159b58\")) {                    Plotly.newPlot(                        \"5c8a3aff-9da9-4cfe-ad14-405c55159b58\",                        [{\"hovertemplate\": \"variable=0<br>index=%{x}<br>value=%{y}<extra></extra>\", \"legendgroup\": \"0\", \"line\": {\"color\": \"#636efa\", \"dash\": \"solid\"}, \"mode\": \"lines\", \"name\": \"0\", \"orientation\": \"v\", \"showlegend\": true, \"type\": \"scatter\", \"x\": [0, 1, 2, 3, 4, 5, 6, 7, 8, 9, 10, 11, 12, 13, 14, 15], \"xaxis\": \"x\", \"y\": [7.4260445692570825, 8.568512964527402, 11.424683952703203, 11.424683952703203, 11.424683952703203, 12.281535249155942, 11.995918150338365, 8.568512964527402, 11.424683952703203, 8.568512964527402, 7.140427470439502, 8.568512964527402, 8.568512964527402, 8.568512964527402, 9.996598458615303, 11.424683952703203], \"yaxis\": \"y\"}, {\"hovertemplate\": \"variable=1<br>index=%{x}<br>value=%{y}<extra></extra>\", \"legendgroup\": \"1\", \"line\": {\"color\": \"#EF553B\", \"dash\": \"solid\"}, \"mode\": \"lines\", \"name\": \"1\", \"orientation\": \"v\", \"showlegend\": true, \"type\": \"scatter\", \"x\": [0, 1, 2, 3, 4, 5, 6, 7, 8, 9, 10, 11, 12, 13, 14, 15], \"xaxis\": \"x\", \"y\": [0.04355630726420139, 0.05025727761254006, 0.06700970348338675, 0.06700970348338675, 0.06700970348338675, 0.07203543124464075, 0.0703601886575561, 0.05025727761254006, 0.06700970348338675, 0.05025727761254006, 0.04188106467711672, 0.05025727761254006, 0.05025727761254006, 0.05025727761254006, 0.05863349054796341, 0.06700970348338675], \"yaxis\": \"y\"}, {\"hovertemplate\": \"variable=2<br>index=%{x}<br>value=%{y}<extra></extra>\", \"legendgroup\": \"2\", \"line\": {\"color\": \"#00cc96\", \"dash\": \"solid\"}, \"mode\": \"lines\", \"name\": \"2\", \"orientation\": \"v\", \"showlegend\": true, \"type\": \"scatter\", \"x\": [0, 1, 2, 3, 4, 5, 6, 7, 8, 9, 10, 11, 12, 13, 14, 15], \"xaxis\": \"x\", \"y\": [5.147243353855837, 5.939126946756734, 7.91883592900898, 7.91883592900898, 7.91883592900898, 8.51274862368465, 8.314777725459429, 5.939126946756734, 7.91883592900898, 5.939126946756734, 4.949272455630612, 5.939126946756734, 5.939126946756734, 5.939126946756734, 6.9289814378828565, 7.91883592900898], \"yaxis\": \"y\"}, {\"hovertemplate\": \"variable=3<br>index=%{x}<br>value=%{y}<extra></extra>\", \"legendgroup\": \"3\", \"line\": {\"color\": \"#ab63fa\", \"dash\": \"solid\"}, \"mode\": \"lines\", \"name\": \"3\", \"orientation\": \"v\", \"showlegend\": true, \"type\": \"scatter\", \"x\": [0, 1, 2, 3, 4, 5, 6, 7, 8, 9, 10, 11, 12, 13, 14, 15], \"xaxis\": \"x\", \"y\": [2.6279519759760004, 3.0322522799723077, 4.043003039963077, 4.043003039963077, 4.043003039963077, 4.346228267960307, 4.245153191961231, 3.0322522799723077, 4.043003039963077, 3.0322522799723077, 2.526876899976923, 3.0322522799723077, 3.0322522799723077, 3.0322522799723077, 3.5376276599676926, 4.043003039963077], \"yaxis\": \"y\"}, {\"hovertemplate\": \"variable=4<br>index=%{x}<br>value=%{y}<extra></extra>\", \"legendgroup\": \"4\", \"line\": {\"color\": \"#FFA15A\", \"dash\": \"solid\"}, \"mode\": \"lines\", \"name\": \"4\", \"orientation\": \"v\", \"showlegend\": true, \"type\": \"scatter\", \"x\": [0, 1, 2, 3, 4, 5, 6, 7, 8, 9, 10, 11, 12, 13, 14, 15], \"xaxis\": \"x\", \"y\": [2.804508828648423, 3.2359717253635645, 4.314628967151419, 4.314628967151419, 4.314628967151419, 4.6382261396877755, 4.530360415508991, 3.2359717253635645, 4.314628967151419, 3.2359717253635645, 2.6966431044696373, 3.2359717253635645, 3.2359717253635645, 3.2359717253635645, 3.7753003462574917, 4.314628967151419], \"yaxis\": \"y\"}, {\"hovertemplate\": \"variable=5<br>index=%{x}<br>value=%{y}<extra></extra>\", \"legendgroup\": \"5\", \"line\": {\"color\": \"#19d3f3\", \"dash\": \"solid\"}, \"mode\": \"lines\", \"name\": \"5\", \"orientation\": \"v\", \"showlegend\": true, \"type\": \"scatter\", \"x\": [0, 1, 2, 3, 4, 5, 6, 7, 8, 9, 10, 11, 12, 13, 14, 15], \"xaxis\": \"x\", \"y\": [7.425111105089629, 8.567435890488031, 11.423247853984043, 11.423247853984043, 11.423247853984043, 12.279991443032845, 11.994410246683247, 8.567435890488031, 11.423247853984043, 8.567435890488031, 7.139529908740027, 8.567435890488031, 8.567435890488031, 8.567435890488031, 9.995341872236038, 11.423247853984043], \"yaxis\": \"y\"}, {\"hovertemplate\": \"variable=6<br>index=%{x}<br>value=%{y}<extra></extra>\", \"legendgroup\": \"6\", \"line\": {\"color\": \"#FF6692\", \"dash\": \"solid\"}, \"mode\": \"lines\", \"name\": \"6\", \"orientation\": \"v\", \"showlegend\": true, \"type\": \"scatter\", \"x\": [0, 1, 2, 3, 4, 5, 6, 7, 8, 9, 10, 11, 12, 13, 14, 15], \"xaxis\": \"x\", \"y\": [1.1585287142567884, 1.336763901065525, 1.7823518680873667, 1.7823518680873667, 1.7823518680873667, 1.916028258193919, 1.8714694614917353, 1.336763901065525, 1.7823518680873667, 1.336763901065525, 1.1139699175546043, 1.336763901065525, 1.336763901065525, 1.336763901065525, 1.5595578845764457, 1.7823518680873667], \"yaxis\": \"y\"}, {\"hovertemplate\": \"variable=7<br>index=%{x}<br>value=%{y}<extra></extra>\", \"legendgroup\": \"7\", \"line\": {\"color\": \"#B6E880\", \"dash\": \"solid\"}, \"mode\": \"lines\", \"name\": \"7\", \"orientation\": \"v\", \"showlegend\": true, \"type\": \"scatter\", \"x\": [0, 1, 2, 3, 4, 5, 6, 7, 8, 9, 10, 11, 12, 13, 14, 15], \"xaxis\": \"x\", \"y\": [6.947301263368023, 8.016116842347717, 10.688155789796957, 10.688155789796957, 10.688155789796957, 11.489767474031728, 11.222563579286806, 8.016116842347717, 10.688155789796957, 8.016116842347717, 6.680097368623098, 8.016116842347717, 8.016116842347717, 8.016116842347717, 9.352136316072338, 10.688155789796957], \"yaxis\": \"y\"}, {\"hovertemplate\": \"variable=8<br>index=%{x}<br>value=%{y}<extra></extra>\", \"legendgroup\": \"8\", \"line\": {\"color\": \"#FF97FF\", \"dash\": \"solid\"}, \"mode\": \"lines\", \"name\": \"8\", \"orientation\": \"v\", \"showlegend\": true, \"type\": \"scatter\", \"x\": [0, 1, 2, 3, 4, 5, 6, 7, 8, 9, 10, 11, 12, 13, 14, 15], \"xaxis\": \"x\", \"y\": [7.57477189803862, 8.740121420813791, 11.653495227751721, 11.653495227751721, 11.653495227751721, 12.5275073698331, 12.236169989139308, 8.740121420813791, 11.653495227751721, 8.740121420813791, 7.283434517344825, 8.740121420813791, 8.740121420813791, 8.740121420813791, 10.196808324282756, 11.653495227751721], \"yaxis\": \"y\"}, {\"hovertemplate\": \"variable=9<br>index=%{x}<br>value=%{y}<extra></extra>\", \"legendgroup\": \"9\", \"line\": {\"color\": \"#FECB52\", \"dash\": \"solid\"}, \"mode\": \"lines\", \"name\": \"9\", \"orientation\": \"v\", \"showlegend\": true, \"type\": \"scatter\", \"x\": [0, 1, 2, 3, 4, 5, 6, 7, 8, 9, 10, 11, 12, 13, 14, 15], \"xaxis\": \"x\", \"y\": [0.8289418210706774, 0.9564713320046276, 1.2752951093395035, 1.2752951093395035, 1.2752951093395035, 1.3709422425399662, 1.3390598648064789, 0.9564713320046276, 1.2752951093395035, 0.9564713320046276, 0.7970594433371897, 0.9564713320046276, 0.9564713320046276, 0.9564713320046276, 1.1158832206720657, 1.2752951093395035], \"yaxis\": \"y\"}, {\"hovertemplate\": \"variable=10<br>index=%{x}<br>value=%{y}<extra></extra>\", \"legendgroup\": \"10\", \"line\": {\"color\": \"#636efa\", \"dash\": \"solid\"}, \"mode\": \"lines\", \"name\": \"10\", \"orientation\": \"v\", \"showlegend\": true, \"type\": \"scatter\", \"x\": [0, 1, 2, 3, 4, 5, 6, 7, 8, 9, 10, 11, 12, 13, 14, 15], \"xaxis\": \"x\", \"y\": [5.64330285217966, 6.51150329097653, 8.682004387968707, 8.682004387968707, 8.682004387968707, 9.333154717066359, 9.116104607367143, 6.51150329097653, 8.682004387968707, 6.51150329097653, 5.426252742480442, 6.51150329097653, 6.51150329097653, 6.51150329097653, 7.596753839472619, 8.682004387968707], \"yaxis\": \"y\"}, {\"hovertemplate\": \"variable=11<br>index=%{x}<br>value=%{y}<extra></extra>\", \"legendgroup\": \"11\", \"line\": {\"color\": \"#EF553B\", \"dash\": \"solid\"}, \"mode\": \"lines\", \"name\": \"11\", \"orientation\": \"v\", \"showlegend\": true, \"type\": \"scatter\", \"x\": [0, 1, 2, 3, 4, 5, 6, 7, 8, 9, 10, 11, 12, 13, 14, 15], \"xaxis\": \"x\", \"y\": [0.904098086650053, 1.0431900999808303, 1.3909201333077736, 1.3909201333077736, 1.3909201333077736, 1.4952391433058565, 1.4604661399731624, 1.0431900999808303, 1.3909201333077736, 1.0431900999808303, 0.8693250833173585, 1.0431900999808303, 1.0431900999808303, 1.0431900999808303, 1.217055116644302, 1.3909201333077736], \"yaxis\": \"y\"}, {\"hovertemplate\": \"variable=12<br>index=%{x}<br>value=%{y}<extra></extra>\", \"legendgroup\": \"12\", \"line\": {\"color\": \"#00cc96\", \"dash\": \"solid\"}, \"mode\": \"lines\", \"name\": \"12\", \"orientation\": \"v\", \"showlegend\": true, \"type\": \"scatter\", \"x\": [0, 1, 2, 3, 4, 5, 6, 7, 8, 9, 10, 11, 12, 13, 14, 15], \"xaxis\": \"x\", \"y\": [7.389079584933499, 8.52586105953865, 11.367814746051534, 11.367814746051534, 11.367814746051534, 12.2204008520054, 11.936205483354113, 8.52586105953865, 11.367814746051534, 8.52586105953865, 7.104884216282209, 8.52586105953865, 8.52586105953865, 8.52586105953865, 9.946837902795092, 11.367814746051534], \"yaxis\": \"y\"}, {\"hovertemplate\": \"variable=13<br>index=%{x}<br>value=%{y}<extra></extra>\", \"legendgroup\": \"13\", \"line\": {\"color\": \"#ab63fa\", \"dash\": \"solid\"}, \"mode\": \"lines\", \"name\": \"13\", \"orientation\": \"v\", \"showlegend\": true, \"type\": \"scatter\", \"x\": [0, 1, 2, 3, 4, 5, 6, 7, 8, 9, 10, 11, 12, 13, 14, 15], \"xaxis\": \"x\", \"y\": [1.4095585072311108, 1.626413662189743, 2.168551549586324, 2.168551549586324, 2.168551549586324, 2.331192915805298, 2.2769791270656405, 1.626413662189743, 2.168551549586324, 1.626413662189743, 1.3553447184914524, 1.626413662189743, 1.626413662189743, 1.626413662189743, 1.8974826058880334, 2.168551549586324], \"yaxis\": \"y\"}, {\"hovertemplate\": \"variable=14<br>index=%{x}<br>value=%{y}<extra></extra>\", \"legendgroup\": \"14\", \"line\": {\"color\": \"#FFA15A\", \"dash\": \"solid\"}, \"mode\": \"lines\", \"name\": \"14\", \"orientation\": \"v\", \"showlegend\": true, \"type\": \"scatter\", \"x\": [0, 1, 2, 3, 4, 5, 6, 7, 8, 9, 10, 11, 12, 13, 14, 15], \"xaxis\": \"x\", \"y\": [1.5978523187436855, 1.84367575239656, 2.4582343365287467, 2.4582343365287467, 2.4582343365287467, 2.6426019117684025, 2.581146053355184, 1.84367575239656, 2.4582343365287467, 1.84367575239656, 1.5363964603304667, 1.84367575239656, 1.84367575239656, 1.84367575239656, 2.1509550444626533, 2.4582343365287467], \"yaxis\": \"y\"}, {\"hovertemplate\": \"variable=15<br>index=%{x}<br>value=%{y}<extra></extra>\", \"legendgroup\": \"15\", \"line\": {\"color\": \"#19d3f3\", \"dash\": \"solid\"}, \"mode\": \"lines\", \"name\": \"15\", \"orientation\": \"v\", \"showlegend\": true, \"type\": \"scatter\", \"x\": [0, 1, 2, 3, 4, 5, 6, 7, 8, 9, 10, 11, 12, 13, 14, 15], \"xaxis\": \"x\", \"y\": [4.039615148703489, 4.661094402350179, 6.214792536466906, 6.214792536466906, 6.214792536466906, 6.680901976701923, 6.5255321632902525, 4.661094402350179, 6.214792536466906, 4.661094402350179, 3.8842453352918165, 4.661094402350179, 4.661094402350179, 4.661094402350179, 5.437943469408543, 6.214792536466906], \"yaxis\": \"y\"}, {\"hovertemplate\": \"variable=16<br>index=%{x}<br>value=%{y}<extra></extra>\", \"legendgroup\": \"16\", \"line\": {\"color\": \"#FF6692\", \"dash\": \"solid\"}, \"mode\": \"lines\", \"name\": \"16\", \"orientation\": \"v\", \"showlegend\": true, \"type\": \"scatter\", \"x\": [0, 1, 2, 3, 4, 5, 6, 7, 8, 9, 10, 11, 12, 13, 14, 15], \"xaxis\": \"x\", \"y\": [0.8663874756628924, 0.9996778565341066, 1.332903808712142, 1.332903808712142, 1.332903808712142, 1.4328715943655526, 1.3995489991477494, 0.9996778565341066, 1.332903808712142, 0.9996778565341066, 0.8330648804450889, 0.9996778565341066, 0.9996778565341066, 0.9996778565341066, 1.1662908326231243, 1.332903808712142], \"yaxis\": \"y\"}, {\"hovertemplate\": \"variable=17<br>index=%{x}<br>value=%{y}<extra></extra>\", \"legendgroup\": \"17\", \"line\": {\"color\": \"#B6E880\", \"dash\": \"solid\"}, \"mode\": \"lines\", \"name\": \"17\", \"orientation\": \"v\", \"showlegend\": true, \"type\": \"scatter\", \"x\": [0, 1, 2, 3, 4, 5, 6, 7, 8, 9, 10, 11, 12, 13, 14, 15], \"xaxis\": \"x\", \"y\": [0.7983579925196194, 0.9211822990610992, 1.2282430654147989, 1.2282430654147989, 1.2282430654147989, 1.3203612953209087, 1.289655218685539, 0.9211822990610992, 1.2282430654147989, 0.9211822990610992, 0.7676519158842493, 0.9211822990610992, 0.9211822990610992, 0.9211822990610992, 1.0747126822379491, 1.2282430654147989], \"yaxis\": \"y\"}, {\"hovertemplate\": \"variable=18<br>index=%{x}<br>value=%{y}<extra></extra>\", \"legendgroup\": \"18\", \"line\": {\"color\": \"#FF97FF\", \"dash\": \"solid\"}, \"mode\": \"lines\", \"name\": \"18\", \"orientation\": \"v\", \"showlegend\": true, \"type\": \"scatter\", \"x\": [0, 1, 2, 3, 4, 5, 6, 7, 8, 9, 10, 11, 12, 13, 14, 15], \"xaxis\": \"x\", \"y\": [5.487374796345802, 6.331586303475925, 8.442115071301233, 8.442115071301233, 8.442115071301233, 9.075273701648825, 8.864220824866296, 6.331586303475925, 8.442115071301233, 6.331586303475925, 5.276321919563271, 6.331586303475925, 6.331586303475925, 6.331586303475925, 7.386850687388579, 8.442115071301233], \"yaxis\": \"y\"}, {\"hovertemplate\": \"variable=19<br>index=%{x}<br>value=%{y}<extra></extra>\", \"legendgroup\": \"19\", \"line\": {\"color\": \"#FECB52\", \"dash\": \"solid\"}, \"mode\": \"lines\", \"name\": \"19\", \"orientation\": \"v\", \"showlegend\": true, \"type\": \"scatter\", \"x\": [0, 1, 2, 3, 4, 5, 6, 7, 8, 9, 10, 11, 12, 13, 14, 15], \"xaxis\": \"x\", \"y\": [5.061887557318829, 5.840639489214032, 7.787519318952043, 7.787519318952043, 7.787519318952043, 8.371583267873445, 8.176895284899647, 5.840639489214032, 7.787519318952043, 5.840639489214032, 4.867199574345027, 5.840639489214032, 5.840639489214032, 5.840639489214032, 6.814079404083038, 7.787519318952043], \"yaxis\": \"y\"}, {\"hovertemplate\": \"variable=20<br>index=%{x}<br>value=%{y}<extra></extra>\", \"legendgroup\": \"20\", \"line\": {\"color\": \"#636efa\", \"dash\": \"solid\"}, \"mode\": \"lines\", \"name\": \"20\", \"orientation\": \"v\", \"showlegend\": true, \"type\": \"scatter\", \"x\": [0, 1, 2, 3, 4, 5, 6, 7, 8, 9, 10, 11, 12, 13, 14, 15], \"xaxis\": \"x\", \"y\": [0.9185400752774356, 1.0598539330124255, 1.4131385773499008, 1.4131385773499008, 1.4131385773499008, 1.5191239706511432, 1.483795506217396, 1.0598539330124255, 1.4131385773499008, 1.0598539330124255, 0.883211610843688, 1.0598539330124255, 1.0598539330124255, 1.0598539330124255, 1.2364962551811631, 1.4131385773499008], \"yaxis\": \"y\"}, {\"hovertemplate\": \"variable=21<br>index=%{x}<br>value=%{y}<extra></extra>\", \"legendgroup\": \"21\", \"line\": {\"color\": \"#EF553B\", \"dash\": \"solid\"}, \"mode\": \"lines\", \"name\": \"21\", \"orientation\": \"v\", \"showlegend\": true, \"type\": \"scatter\", \"x\": [0, 1, 2, 3, 4, 5, 6, 7, 8, 9, 10, 11, 12, 13, 14, 15], \"xaxis\": \"x\", \"y\": [4.217578266363745, 4.866436461188936, 6.488581948251915, 6.488581948251915, 6.488581948251915, 6.975225594370808, 6.813011045664512, 4.866436461188936, 6.488581948251915, 4.866436461188936, 4.055363717657447, 4.866436461188936, 4.866436461188936, 4.866436461188936, 5.677509204720426, 6.488581948251915], \"yaxis\": \"y\"}, {\"hovertemplate\": \"variable=22<br>index=%{x}<br>value=%{y}<extra></extra>\", \"legendgroup\": \"22\", \"line\": {\"color\": \"#00cc96\", \"dash\": \"solid\"}, \"mode\": \"lines\", \"name\": \"22\", \"orientation\": \"v\", \"showlegend\": true, \"type\": \"scatter\", \"x\": [0, 1, 2, 3, 4, 5, 6, 7, 8, 9, 10, 11, 12, 13, 14, 15], \"xaxis\": \"x\", \"y\": [3.2601141276897754, 3.761670147334356, 5.015560196445808, 5.015560196445808, 5.015560196445808, 5.3917272111792425, 5.266338206268099, 3.761670147334356, 5.015560196445808, 3.761670147334356, 3.13472512277863, 3.761670147334356, 3.761670147334356, 3.761670147334356, 4.388615171890082, 5.015560196445808], \"yaxis\": \"y\"}, {\"hovertemplate\": \"variable=23<br>index=%{x}<br>value=%{y}<extra></extra>\", \"legendgroup\": \"23\", \"line\": {\"color\": \"#ab63fa\", \"dash\": \"solid\"}, \"mode\": \"lines\", \"name\": \"23\", \"orientation\": \"v\", \"showlegend\": true, \"type\": \"scatter\", \"x\": [0, 1, 2, 3, 4, 5, 6, 7, 8, 9, 10, 11, 12, 13, 14, 15], \"xaxis\": \"x\", \"y\": [5.707292387833818, 6.585337370577482, 8.780449827436643, 8.780449827436643, 8.780449827436643, 9.43898356449439, 9.219472318808476, 6.585337370577482, 8.780449827436643, 6.585337370577482, 5.4877811421479015, 6.585337370577482, 6.585337370577482, 6.585337370577482, 7.682893599007062, 8.780449827436643], \"yaxis\": \"y\"}, {\"hovertemplate\": \"variable=24<br>index=%{x}<br>value=%{y}<extra></extra>\", \"legendgroup\": \"24\", \"line\": {\"color\": \"#FFA15A\", \"dash\": \"solid\"}, \"mode\": \"lines\", \"name\": \"24\", \"orientation\": \"v\", \"showlegend\": true, \"type\": \"scatter\", \"x\": [0, 1, 2, 3, 4, 5, 6, 7, 8, 9, 10, 11, 12, 13, 14, 15], \"xaxis\": \"x\", \"y\": [0.3383946238309322, 0.3904553351895371, 0.5206071135860495, 0.5206071135860495, 0.5206071135860495, 0.5596526471050032, 0.5466374692653521, 0.3904553351895371, 0.5206071135860495, 0.3904553351895371, 0.32537944599128094, 0.3904553351895371, 0.3904553351895371, 0.3904553351895371, 0.4555312243877933, 0.5206071135860495], \"yaxis\": \"y\"}, {\"hovertemplate\": \"variable=25<br>index=%{x}<br>value=%{y}<extra></extra>\", \"legendgroup\": \"25\", \"line\": {\"color\": \"#19d3f3\", \"dash\": \"solid\"}, \"mode\": \"lines\", \"name\": \"25\", \"orientation\": \"v\", \"showlegend\": true, \"type\": \"scatter\", \"x\": [0, 1, 2, 3, 4, 5, 6, 7, 8, 9, 10, 11, 12, 13, 14, 15], \"xaxis\": \"x\", \"y\": [3.246204306941854, 3.7456203541636772, 4.994160472218237, 4.994160472218237, 4.994160472218237, 5.368722507634604, 5.243868495829149, 3.7456203541636772, 4.994160472218237, 3.7456203541636772, 3.1213502951363976, 3.7456203541636772, 3.7456203541636772, 3.7456203541636772, 4.369890413190957, 4.994160472218237], \"yaxis\": \"y\"}, {\"hovertemplate\": \"variable=26<br>index=%{x}<br>value=%{y}<extra></extra>\", \"legendgroup\": \"26\", \"line\": {\"color\": \"#FF6692\", \"dash\": \"solid\"}, \"mode\": \"lines\", \"name\": \"26\", \"orientation\": \"v\", \"showlegend\": true, \"type\": \"scatter\", \"x\": [0, 1, 2, 3, 4, 5, 6, 7, 8, 9, 10, 11, 12, 13, 14, 15], \"xaxis\": \"x\", \"y\": [1.1835625331359252, 1.365649076695298, 1.8208654355937308, 1.8208654355937308, 1.8208654355937308, 1.9574303432632605, 1.9119087073734176, 1.365649076695298, 1.8208654355937308, 1.365649076695298, 1.1380408972460818, 1.365649076695298, 1.365649076695298, 1.365649076695298, 1.5932572561445144, 1.8208654355937308], \"yaxis\": \"y\"}, {\"hovertemplate\": \"variable=27<br>index=%{x}<br>value=%{y}<extra></extra>\", \"legendgroup\": \"27\", \"line\": {\"color\": \"#B6E880\", \"dash\": \"solid\"}, \"mode\": \"lines\", \"name\": \"27\", \"orientation\": \"v\", \"showlegend\": true, \"type\": \"scatter\", \"x\": [0, 1, 2, 3, 4, 5, 6, 7, 8, 9, 10, 11, 12, 13, 14, 15], \"xaxis\": \"x\", \"y\": [4.034810591786126, 4.655550682830145, 6.207400910440194, 6.207400910440194, 6.207400910440194, 6.672955978723207, 6.517770955962204, 4.655550682830145, 6.207400910440194, 4.655550682830145, 3.879625569025121, 4.655550682830145, 4.655550682830145, 4.655550682830145, 5.431475796635169, 6.207400910440194], \"yaxis\": \"y\"}, {\"hovertemplate\": \"variable=28<br>index=%{x}<br>value=%{y}<extra></extra>\", \"legendgroup\": \"28\", \"line\": {\"color\": \"#FF97FF\", \"dash\": \"solid\"}, \"mode\": \"lines\", \"name\": \"28\", \"orientation\": \"v\", \"showlegend\": true, \"type\": \"scatter\", \"x\": [0, 1, 2, 3, 4, 5, 6, 7, 8, 9, 10, 11, 12, 13, 14, 15], \"xaxis\": \"x\", \"y\": [5.805786102034972, 6.698983963886506, 8.931978618515341, 8.931978618515341, 8.931978618515341, 9.601877014903991, 9.37857754944111, 6.698983963886506, 8.931978618515341, 6.698983963886506, 5.582486636572088, 6.698983963886506, 6.698983963886506, 6.698983963886506, 7.815481291200923, 8.931978618515341], \"yaxis\": \"y\"}, {\"hovertemplate\": \"variable=29<br>index=%{x}<br>value=%{y}<extra></extra>\", \"legendgroup\": \"29\", \"line\": {\"color\": \"#FECB52\", \"dash\": \"solid\"}, \"mode\": \"lines\", \"name\": \"29\", \"orientation\": \"v\", \"showlegend\": true, \"type\": \"scatter\", \"x\": [0, 1, 2, 3, 4, 5, 6, 7, 8, 9, 10, 11, 12, 13, 14, 15], \"xaxis\": \"x\", \"y\": [4.772754330311672, 5.507024227282699, 7.3426989697102645, 7.3426989697102645, 7.3426989697102645, 7.893401392438533, 7.709833918195779, 5.507024227282699, 7.3426989697102645, 5.507024227282699, 4.589186856068915, 5.507024227282699, 5.507024227282699, 5.507024227282699, 6.424861598496482, 7.3426989697102645], \"yaxis\": \"y\"}],                        {\"legend\": {\"title\": {\"text\": \"variable\"}, \"tracegroupgap\": 0}, \"margin\": {\"t\": 60}, \"template\": {\"data\": {\"bar\": [{\"error_x\": {\"color\": \"#2a3f5f\"}, \"error_y\": {\"color\": \"#2a3f5f\"}, \"marker\": {\"line\": {\"color\": \"#E5ECF6\", \"width\": 0.5}}, \"type\": \"bar\"}], \"barpolar\": [{\"marker\": {\"line\": {\"color\": \"#E5ECF6\", \"width\": 0.5}}, \"type\": \"barpolar\"}], \"carpet\": [{\"aaxis\": {\"endlinecolor\": \"#2a3f5f\", \"gridcolor\": \"white\", \"linecolor\": \"white\", \"minorgridcolor\": \"white\", \"startlinecolor\": \"#2a3f5f\"}, \"baxis\": {\"endlinecolor\": \"#2a3f5f\", \"gridcolor\": \"white\", \"linecolor\": \"white\", \"minorgridcolor\": \"white\", \"startlinecolor\": \"#2a3f5f\"}, \"type\": \"carpet\"}], \"choropleth\": [{\"colorbar\": {\"outlinewidth\": 0, \"ticks\": \"\"}, \"type\": \"choropleth\"}], \"contour\": [{\"colorbar\": {\"outlinewidth\": 0, \"ticks\": \"\"}, \"colorscale\": [[0.0, \"#0d0887\"], [0.1111111111111111, \"#46039f\"], [0.2222222222222222, \"#7201a8\"], [0.3333333333333333, \"#9c179e\"], [0.4444444444444444, \"#bd3786\"], [0.5555555555555556, \"#d8576b\"], [0.6666666666666666, \"#ed7953\"], [0.7777777777777778, \"#fb9f3a\"], [0.8888888888888888, \"#fdca26\"], [1.0, \"#f0f921\"]], \"type\": \"contour\"}], \"contourcarpet\": [{\"colorbar\": {\"outlinewidth\": 0, \"ticks\": \"\"}, \"type\": \"contourcarpet\"}], \"heatmap\": [{\"colorbar\": {\"outlinewidth\": 0, \"ticks\": \"\"}, \"colorscale\": [[0.0, \"#0d0887\"], [0.1111111111111111, \"#46039f\"], [0.2222222222222222, \"#7201a8\"], [0.3333333333333333, \"#9c179e\"], [0.4444444444444444, \"#bd3786\"], [0.5555555555555556, \"#d8576b\"], [0.6666666666666666, \"#ed7953\"], [0.7777777777777778, \"#fb9f3a\"], [0.8888888888888888, \"#fdca26\"], [1.0, \"#f0f921\"]], \"type\": \"heatmap\"}], \"heatmapgl\": [{\"colorbar\": {\"outlinewidth\": 0, \"ticks\": \"\"}, \"colorscale\": [[0.0, \"#0d0887\"], [0.1111111111111111, \"#46039f\"], [0.2222222222222222, \"#7201a8\"], [0.3333333333333333, \"#9c179e\"], [0.4444444444444444, \"#bd3786\"], [0.5555555555555556, \"#d8576b\"], [0.6666666666666666, \"#ed7953\"], [0.7777777777777778, \"#fb9f3a\"], [0.8888888888888888, \"#fdca26\"], [1.0, \"#f0f921\"]], \"type\": \"heatmapgl\"}], \"histogram\": [{\"marker\": {\"colorbar\": {\"outlinewidth\": 0, \"ticks\": \"\"}}, \"type\": \"histogram\"}], \"histogram2d\": [{\"colorbar\": {\"outlinewidth\": 0, \"ticks\": \"\"}, \"colorscale\": [[0.0, \"#0d0887\"], [0.1111111111111111, \"#46039f\"], [0.2222222222222222, \"#7201a8\"], [0.3333333333333333, \"#9c179e\"], [0.4444444444444444, \"#bd3786\"], [0.5555555555555556, \"#d8576b\"], [0.6666666666666666, \"#ed7953\"], [0.7777777777777778, \"#fb9f3a\"], [0.8888888888888888, \"#fdca26\"], [1.0, \"#f0f921\"]], \"type\": \"histogram2d\"}], \"histogram2dcontour\": [{\"colorbar\": {\"outlinewidth\": 0, \"ticks\": \"\"}, \"colorscale\": [[0.0, \"#0d0887\"], [0.1111111111111111, \"#46039f\"], [0.2222222222222222, \"#7201a8\"], [0.3333333333333333, \"#9c179e\"], [0.4444444444444444, \"#bd3786\"], [0.5555555555555556, \"#d8576b\"], [0.6666666666666666, \"#ed7953\"], [0.7777777777777778, \"#fb9f3a\"], [0.8888888888888888, \"#fdca26\"], [1.0, \"#f0f921\"]], \"type\": \"histogram2dcontour\"}], \"mesh3d\": [{\"colorbar\": {\"outlinewidth\": 0, \"ticks\": \"\"}, \"type\": \"mesh3d\"}], \"parcoords\": [{\"line\": {\"colorbar\": {\"outlinewidth\": 0, \"ticks\": \"\"}}, \"type\": \"parcoords\"}], \"pie\": [{\"automargin\": true, \"type\": \"pie\"}], \"scatter\": [{\"marker\": {\"colorbar\": {\"outlinewidth\": 0, \"ticks\": \"\"}}, \"type\": \"scatter\"}], \"scatter3d\": [{\"line\": {\"colorbar\": {\"outlinewidth\": 0, \"ticks\": \"\"}}, \"marker\": {\"colorbar\": {\"outlinewidth\": 0, \"ticks\": \"\"}}, \"type\": \"scatter3d\"}], \"scattercarpet\": [{\"marker\": {\"colorbar\": {\"outlinewidth\": 0, \"ticks\": \"\"}}, \"type\": \"scattercarpet\"}], \"scattergeo\": [{\"marker\": {\"colorbar\": {\"outlinewidth\": 0, \"ticks\": \"\"}}, \"type\": \"scattergeo\"}], \"scattergl\": [{\"marker\": {\"colorbar\": {\"outlinewidth\": 0, \"ticks\": \"\"}}, \"type\": \"scattergl\"}], \"scattermapbox\": [{\"marker\": {\"colorbar\": {\"outlinewidth\": 0, \"ticks\": \"\"}}, \"type\": \"scattermapbox\"}], \"scatterpolar\": [{\"marker\": {\"colorbar\": {\"outlinewidth\": 0, \"ticks\": \"\"}}, \"type\": \"scatterpolar\"}], \"scatterpolargl\": [{\"marker\": {\"colorbar\": {\"outlinewidth\": 0, \"ticks\": \"\"}}, \"type\": \"scatterpolargl\"}], \"scatterternary\": [{\"marker\": {\"colorbar\": {\"outlinewidth\": 0, \"ticks\": \"\"}}, \"type\": \"scatterternary\"}], \"surface\": [{\"colorbar\": {\"outlinewidth\": 0, \"ticks\": \"\"}, \"colorscale\": [[0.0, \"#0d0887\"], [0.1111111111111111, \"#46039f\"], [0.2222222222222222, \"#7201a8\"], [0.3333333333333333, \"#9c179e\"], [0.4444444444444444, \"#bd3786\"], [0.5555555555555556, \"#d8576b\"], [0.6666666666666666, \"#ed7953\"], [0.7777777777777778, \"#fb9f3a\"], [0.8888888888888888, \"#fdca26\"], [1.0, \"#f0f921\"]], \"type\": \"surface\"}], \"table\": [{\"cells\": {\"fill\": {\"color\": \"#EBF0F8\"}, \"line\": {\"color\": \"white\"}}, \"header\": {\"fill\": {\"color\": \"#C8D4E3\"}, \"line\": {\"color\": \"white\"}}, \"type\": \"table\"}]}, \"layout\": {\"annotationdefaults\": {\"arrowcolor\": \"#2a3f5f\", \"arrowhead\": 0, \"arrowwidth\": 1}, \"autotypenumbers\": \"strict\", \"coloraxis\": {\"colorbar\": {\"outlinewidth\": 0, \"ticks\": \"\"}}, \"colorscale\": {\"diverging\": [[0, \"#8e0152\"], [0.1, \"#c51b7d\"], [0.2, \"#de77ae\"], [0.3, \"#f1b6da\"], [0.4, \"#fde0ef\"], [0.5, \"#f7f7f7\"], [0.6, \"#e6f5d0\"], [0.7, \"#b8e186\"], [0.8, \"#7fbc41\"], [0.9, \"#4d9221\"], [1, \"#276419\"]], \"sequential\": [[0.0, \"#0d0887\"], [0.1111111111111111, \"#46039f\"], [0.2222222222222222, \"#7201a8\"], [0.3333333333333333, \"#9c179e\"], [0.4444444444444444, \"#bd3786\"], [0.5555555555555556, \"#d8576b\"], [0.6666666666666666, \"#ed7953\"], [0.7777777777777778, \"#fb9f3a\"], [0.8888888888888888, \"#fdca26\"], [1.0, \"#f0f921\"]], \"sequentialminus\": [[0.0, \"#0d0887\"], [0.1111111111111111, \"#46039f\"], [0.2222222222222222, \"#7201a8\"], [0.3333333333333333, \"#9c179e\"], [0.4444444444444444, \"#bd3786\"], [0.5555555555555556, \"#d8576b\"], [0.6666666666666666, \"#ed7953\"], [0.7777777777777778, \"#fb9f3a\"], [0.8888888888888888, \"#fdca26\"], [1.0, \"#f0f921\"]]}, \"colorway\": [\"#636efa\", \"#EF553B\", \"#00cc96\", \"#ab63fa\", \"#FFA15A\", \"#19d3f3\", \"#FF6692\", \"#B6E880\", \"#FF97FF\", \"#FECB52\"], \"font\": {\"color\": \"#2a3f5f\"}, \"geo\": {\"bgcolor\": \"white\", \"lakecolor\": \"white\", \"landcolor\": \"#E5ECF6\", \"showlakes\": true, \"showland\": true, \"subunitcolor\": \"white\"}, \"hoverlabel\": {\"align\": \"left\"}, \"hovermode\": \"closest\", \"mapbox\": {\"style\": \"light\"}, \"paper_bgcolor\": \"white\", \"plot_bgcolor\": \"#E5ECF6\", \"polar\": {\"angularaxis\": {\"gridcolor\": \"white\", \"linecolor\": \"white\", \"ticks\": \"\"}, \"bgcolor\": \"#E5ECF6\", \"radialaxis\": {\"gridcolor\": \"white\", \"linecolor\": \"white\", \"ticks\": \"\"}}, \"scene\": {\"xaxis\": {\"backgroundcolor\": \"#E5ECF6\", \"gridcolor\": \"white\", \"gridwidth\": 2, \"linecolor\": \"white\", \"showbackground\": true, \"ticks\": \"\", \"zerolinecolor\": \"white\"}, \"yaxis\": {\"backgroundcolor\": \"#E5ECF6\", \"gridcolor\": \"white\", \"gridwidth\": 2, \"linecolor\": \"white\", \"showbackground\": true, \"ticks\": \"\", \"zerolinecolor\": \"white\"}, \"zaxis\": {\"backgroundcolor\": \"#E5ECF6\", \"gridcolor\": \"white\", \"gridwidth\": 2, \"linecolor\": \"white\", \"showbackground\": true, \"ticks\": \"\", \"zerolinecolor\": \"white\"}}, \"shapedefaults\": {\"line\": {\"color\": \"#2a3f5f\"}}, \"ternary\": {\"aaxis\": {\"gridcolor\": \"white\", \"linecolor\": \"white\", \"ticks\": \"\"}, \"baxis\": {\"gridcolor\": \"white\", \"linecolor\": \"white\", \"ticks\": \"\"}, \"bgcolor\": \"#E5ECF6\", \"caxis\": {\"gridcolor\": \"white\", \"linecolor\": \"white\", \"ticks\": \"\"}}, \"title\": {\"x\": 0.05}, \"xaxis\": {\"automargin\": true, \"gridcolor\": \"white\", \"linecolor\": \"white\", \"ticks\": \"\", \"title\": {\"standoff\": 15}, \"zerolinecolor\": \"white\", \"zerolinewidth\": 2}, \"yaxis\": {\"automargin\": true, \"gridcolor\": \"white\", \"linecolor\": \"white\", \"ticks\": \"\", \"title\": {\"standoff\": 15}, \"zerolinecolor\": \"white\", \"zerolinewidth\": 2}}}, \"xaxis\": {\"anchor\": \"y\", \"domain\": [0.0, 1.0], \"title\": {\"text\": \"index\"}}, \"yaxis\": {\"anchor\": \"x\", \"domain\": [0.0, 1.0], \"title\": {\"text\": \"value\"}}},                        {\"responsive\": true}                    ).then(function(){\n",
       "                            \n",
       "var gd = document.getElementById('5c8a3aff-9da9-4cfe-ad14-405c55159b58');\n",
       "var x = new MutationObserver(function (mutations, observer) {{\n",
       "        var display = window.getComputedStyle(gd).display;\n",
       "        if (!display || display === 'none') {{\n",
       "            console.log([gd, 'removed!']);\n",
       "            Plotly.purge(gd);\n",
       "            observer.disconnect();\n",
       "        }}\n",
       "}});\n",
       "\n",
       "// Listen for the removal of the full notebook cells\n",
       "var notebookContainer = gd.closest('#notebook-container');\n",
       "if (notebookContainer) {{\n",
       "    x.observe(notebookContainer, {childList: true});\n",
       "}}\n",
       "\n",
       "// Listen for the clearing of the current output cell\n",
       "var outputEl = gd.closest('.output');\n",
       "if (outputEl) {{\n",
       "    x.observe(outputEl, {childList: true});\n",
       "}}\n",
       "\n",
       "                        })                };                });            </script>        </div>"
      ]
     },
     "metadata": {},
     "output_type": "display_data"
    }
   ],
   "source": [
    "col = [2.6,3,4,4,4,4.3,4.2,3,4,3,2.5,3,3,3,3.5, 4] \n",
    "col = [k * 3 for k in col]\n",
    "df1 = pd.DataFrame()\n",
    "for i in range(30):\n",
    "    l = np.random.rand()\n",
    "    df1[f'{i}'] = [k*l for k in col]\n",
    "px.line(df1)"
   ]
  },
  {
   "cell_type": "code",
   "execution_count": 91,
   "metadata": {},
   "outputs": [
    {
     "data": {
      "text/html": [
       "<div>\n",
       "<style scoped>\n",
       "    .dataframe tbody tr th:only-of-type {\n",
       "        vertical-align: middle;\n",
       "    }\n",
       "\n",
       "    .dataframe tbody tr th {\n",
       "        vertical-align: top;\n",
       "    }\n",
       "\n",
       "    .dataframe thead th {\n",
       "        text-align: right;\n",
       "    }\n",
       "</style>\n",
       "<table border=\"1\" class=\"dataframe\">\n",
       "  <thead>\n",
       "    <tr style=\"text-align: right;\">\n",
       "      <th></th>\n",
       "      <th>0</th>\n",
       "      <th>1</th>\n",
       "      <th>2</th>\n",
       "      <th>3</th>\n",
       "      <th>4</th>\n",
       "      <th>5</th>\n",
       "      <th>6</th>\n",
       "      <th>7</th>\n",
       "      <th>8</th>\n",
       "      <th>9</th>\n",
       "      <th>...</th>\n",
       "      <th>20</th>\n",
       "      <th>21</th>\n",
       "      <th>22</th>\n",
       "      <th>23</th>\n",
       "      <th>24</th>\n",
       "      <th>25</th>\n",
       "      <th>26</th>\n",
       "      <th>27</th>\n",
       "      <th>28</th>\n",
       "      <th>29</th>\n",
       "    </tr>\n",
       "  </thead>\n",
       "  <tbody>\n",
       "    <tr>\n",
       "      <th>0</th>\n",
       "      <td>0.921837</td>\n",
       "      <td>0.957439</td>\n",
       "      <td>0.173060</td>\n",
       "      <td>0.932006</td>\n",
       "      <td>0.993304</td>\n",
       "      <td>0.891399</td>\n",
       "      <td>0.485117</td>\n",
       "      <td>0.348399</td>\n",
       "      <td>0.665993</td>\n",
       "      <td>0.916444</td>\n",
       "      <td>...</td>\n",
       "      <td>0.933231</td>\n",
       "      <td>0.462914</td>\n",
       "      <td>0.623793</td>\n",
       "      <td>0.456886</td>\n",
       "      <td>0.812075</td>\n",
       "      <td>0.809315</td>\n",
       "      <td>0.246162</td>\n",
       "      <td>0.132592</td>\n",
       "      <td>0.878138</td>\n",
       "      <td>0.871714</td>\n",
       "    </tr>\n",
       "    <tr>\n",
       "      <th>1</th>\n",
       "      <td>0.780021</td>\n",
       "      <td>0.801431</td>\n",
       "      <td>0.470112</td>\n",
       "      <td>0.705003</td>\n",
       "      <td>0.677193</td>\n",
       "      <td>0.559722</td>\n",
       "      <td>0.105311</td>\n",
       "      <td>0.592770</td>\n",
       "      <td>0.405123</td>\n",
       "      <td>0.467554</td>\n",
       "      <td>...</td>\n",
       "      <td>0.384458</td>\n",
       "      <td>0.182040</td>\n",
       "      <td>0.946828</td>\n",
       "      <td>0.538162</td>\n",
       "      <td>0.397935</td>\n",
       "      <td>0.554984</td>\n",
       "      <td>0.556613</td>\n",
       "      <td>0.805442</td>\n",
       "      <td>0.130843</td>\n",
       "      <td>0.117239</td>\n",
       "    </tr>\n",
       "    <tr>\n",
       "      <th>2</th>\n",
       "      <td>0.894631</td>\n",
       "      <td>0.899529</td>\n",
       "      <td>0.125659</td>\n",
       "      <td>0.759784</td>\n",
       "      <td>0.265999</td>\n",
       "      <td>0.433187</td>\n",
       "      <td>0.458749</td>\n",
       "      <td>0.045776</td>\n",
       "      <td>0.584112</td>\n",
       "      <td>0.826297</td>\n",
       "      <td>...</td>\n",
       "      <td>0.838311</td>\n",
       "      <td>0.934827</td>\n",
       "      <td>0.701124</td>\n",
       "      <td>0.074685</td>\n",
       "      <td>0.070102</td>\n",
       "      <td>0.136491</td>\n",
       "      <td>0.102261</td>\n",
       "      <td>0.821641</td>\n",
       "      <td>0.117899</td>\n",
       "      <td>0.569885</td>\n",
       "    </tr>\n",
       "    <tr>\n",
       "      <th>3</th>\n",
       "      <td>0.700979</td>\n",
       "      <td>0.378872</td>\n",
       "      <td>0.913729</td>\n",
       "      <td>0.356408</td>\n",
       "      <td>0.649634</td>\n",
       "      <td>0.743874</td>\n",
       "      <td>0.626572</td>\n",
       "      <td>0.085651</td>\n",
       "      <td>0.515258</td>\n",
       "      <td>0.130660</td>\n",
       "      <td>...</td>\n",
       "      <td>0.818700</td>\n",
       "      <td>0.777556</td>\n",
       "      <td>0.775813</td>\n",
       "      <td>0.467111</td>\n",
       "      <td>0.992660</td>\n",
       "      <td>0.441006</td>\n",
       "      <td>0.328714</td>\n",
       "      <td>0.262263</td>\n",
       "      <td>0.163338</td>\n",
       "      <td>0.903547</td>\n",
       "    </tr>\n",
       "    <tr>\n",
       "      <th>4</th>\n",
       "      <td>0.196241</td>\n",
       "      <td>0.446298</td>\n",
       "      <td>0.674436</td>\n",
       "      <td>0.622035</td>\n",
       "      <td>0.454015</td>\n",
       "      <td>0.514978</td>\n",
       "      <td>0.877982</td>\n",
       "      <td>0.711527</td>\n",
       "      <td>0.238492</td>\n",
       "      <td>0.100524</td>\n",
       "      <td>...</td>\n",
       "      <td>0.466447</td>\n",
       "      <td>0.125563</td>\n",
       "      <td>0.087927</td>\n",
       "      <td>0.646892</td>\n",
       "      <td>0.291489</td>\n",
       "      <td>0.185685</td>\n",
       "      <td>0.844585</td>\n",
       "      <td>0.809188</td>\n",
       "      <td>0.051584</td>\n",
       "      <td>0.723765</td>\n",
       "    </tr>\n",
       "    <tr>\n",
       "      <th>5</th>\n",
       "      <td>0.060233</td>\n",
       "      <td>0.724473</td>\n",
       "      <td>0.776515</td>\n",
       "      <td>0.819426</td>\n",
       "      <td>0.487692</td>\n",
       "      <td>0.764445</td>\n",
       "      <td>0.540632</td>\n",
       "      <td>0.575703</td>\n",
       "      <td>0.062903</td>\n",
       "      <td>0.189285</td>\n",
       "      <td>...</td>\n",
       "      <td>0.463674</td>\n",
       "      <td>0.284204</td>\n",
       "      <td>0.804950</td>\n",
       "      <td>0.165164</td>\n",
       "      <td>0.480099</td>\n",
       "      <td>0.338141</td>\n",
       "      <td>0.033514</td>\n",
       "      <td>0.402905</td>\n",
       "      <td>0.708595</td>\n",
       "      <td>0.233457</td>\n",
       "    </tr>\n",
       "    <tr>\n",
       "      <th>6</th>\n",
       "      <td>0.747655</td>\n",
       "      <td>0.934822</td>\n",
       "      <td>0.941072</td>\n",
       "      <td>0.610715</td>\n",
       "      <td>0.378881</td>\n",
       "      <td>0.357328</td>\n",
       "      <td>0.103664</td>\n",
       "      <td>0.501350</td>\n",
       "      <td>0.202279</td>\n",
       "      <td>0.588611</td>\n",
       "      <td>...</td>\n",
       "      <td>0.872592</td>\n",
       "      <td>0.538412</td>\n",
       "      <td>0.371522</td>\n",
       "      <td>0.842158</td>\n",
       "      <td>0.447428</td>\n",
       "      <td>0.958828</td>\n",
       "      <td>0.133338</td>\n",
       "      <td>0.646003</td>\n",
       "      <td>0.171338</td>\n",
       "      <td>0.264859</td>\n",
       "    </tr>\n",
       "    <tr>\n",
       "      <th>7</th>\n",
       "      <td>0.524678</td>\n",
       "      <td>0.519483</td>\n",
       "      <td>0.419194</td>\n",
       "      <td>0.267944</td>\n",
       "      <td>0.789264</td>\n",
       "      <td>0.659906</td>\n",
       "      <td>0.429446</td>\n",
       "      <td>0.572635</td>\n",
       "      <td>0.227369</td>\n",
       "      <td>0.787413</td>\n",
       "      <td>...</td>\n",
       "      <td>0.898367</td>\n",
       "      <td>0.040945</td>\n",
       "      <td>0.017775</td>\n",
       "      <td>0.720670</td>\n",
       "      <td>0.807227</td>\n",
       "      <td>0.802180</td>\n",
       "      <td>0.136348</td>\n",
       "      <td>0.015948</td>\n",
       "      <td>0.787564</td>\n",
       "      <td>0.279639</td>\n",
       "    </tr>\n",
       "    <tr>\n",
       "      <th>8</th>\n",
       "      <td>0.922921</td>\n",
       "      <td>0.758057</td>\n",
       "      <td>0.046197</td>\n",
       "      <td>0.031837</td>\n",
       "      <td>0.093666</td>\n",
       "      <td>0.857008</td>\n",
       "      <td>0.168757</td>\n",
       "      <td>0.254789</td>\n",
       "      <td>0.231505</td>\n",
       "      <td>0.284044</td>\n",
       "      <td>...</td>\n",
       "      <td>0.706182</td>\n",
       "      <td>0.131539</td>\n",
       "      <td>0.563478</td>\n",
       "      <td>0.186703</td>\n",
       "      <td>0.947577</td>\n",
       "      <td>0.129277</td>\n",
       "      <td>0.112619</td>\n",
       "      <td>0.306063</td>\n",
       "      <td>0.612581</td>\n",
       "      <td>0.365455</td>\n",
       "    </tr>\n",
       "    <tr>\n",
       "      <th>9</th>\n",
       "      <td>0.261280</td>\n",
       "      <td>0.040866</td>\n",
       "      <td>0.203399</td>\n",
       "      <td>0.627931</td>\n",
       "      <td>0.583763</td>\n",
       "      <td>0.329964</td>\n",
       "      <td>0.797796</td>\n",
       "      <td>0.179156</td>\n",
       "      <td>0.863304</td>\n",
       "      <td>0.220024</td>\n",
       "      <td>...</td>\n",
       "      <td>0.029054</td>\n",
       "      <td>0.934663</td>\n",
       "      <td>0.076794</td>\n",
       "      <td>0.953701</td>\n",
       "      <td>0.249314</td>\n",
       "      <td>0.370275</td>\n",
       "      <td>0.626587</td>\n",
       "      <td>0.434193</td>\n",
       "      <td>0.670243</td>\n",
       "      <td>0.322181</td>\n",
       "    </tr>\n",
       "    <tr>\n",
       "      <th>10</th>\n",
       "      <td>0.052647</td>\n",
       "      <td>0.824432</td>\n",
       "      <td>0.258225</td>\n",
       "      <td>0.661575</td>\n",
       "      <td>0.574093</td>\n",
       "      <td>0.329897</td>\n",
       "      <td>0.033099</td>\n",
       "      <td>0.284978</td>\n",
       "      <td>0.503712</td>\n",
       "      <td>0.913048</td>\n",
       "      <td>...</td>\n",
       "      <td>0.352393</td>\n",
       "      <td>0.098512</td>\n",
       "      <td>0.990139</td>\n",
       "      <td>0.835452</td>\n",
       "      <td>0.653273</td>\n",
       "      <td>0.262310</td>\n",
       "      <td>0.979428</td>\n",
       "      <td>0.512145</td>\n",
       "      <td>0.516774</td>\n",
       "      <td>0.842322</td>\n",
       "    </tr>\n",
       "    <tr>\n",
       "      <th>11</th>\n",
       "      <td>0.085068</td>\n",
       "      <td>0.059388</td>\n",
       "      <td>0.968240</td>\n",
       "      <td>0.223836</td>\n",
       "      <td>0.658630</td>\n",
       "      <td>0.587399</td>\n",
       "      <td>0.782838</td>\n",
       "      <td>0.958568</td>\n",
       "      <td>0.509900</td>\n",
       "      <td>0.599174</td>\n",
       "      <td>...</td>\n",
       "      <td>0.972318</td>\n",
       "      <td>0.138507</td>\n",
       "      <td>0.942061</td>\n",
       "      <td>0.690952</td>\n",
       "      <td>0.088624</td>\n",
       "      <td>0.672560</td>\n",
       "      <td>0.083316</td>\n",
       "      <td>0.169574</td>\n",
       "      <td>0.503548</td>\n",
       "      <td>0.928411</td>\n",
       "    </tr>\n",
       "    <tr>\n",
       "      <th>12</th>\n",
       "      <td>0.166427</td>\n",
       "      <td>0.273107</td>\n",
       "      <td>0.827004</td>\n",
       "      <td>0.223321</td>\n",
       "      <td>0.103015</td>\n",
       "      <td>0.435121</td>\n",
       "      <td>0.357772</td>\n",
       "      <td>0.169582</td>\n",
       "      <td>0.280669</td>\n",
       "      <td>0.024969</td>\n",
       "      <td>...</td>\n",
       "      <td>0.871282</td>\n",
       "      <td>0.775194</td>\n",
       "      <td>0.082038</td>\n",
       "      <td>0.007670</td>\n",
       "      <td>0.747685</td>\n",
       "      <td>0.355681</td>\n",
       "      <td>0.610201</td>\n",
       "      <td>0.690460</td>\n",
       "      <td>0.588042</td>\n",
       "      <td>0.514043</td>\n",
       "    </tr>\n",
       "    <tr>\n",
       "      <th>13</th>\n",
       "      <td>0.748785</td>\n",
       "      <td>0.420195</td>\n",
       "      <td>0.976979</td>\n",
       "      <td>0.529230</td>\n",
       "      <td>0.851949</td>\n",
       "      <td>0.677289</td>\n",
       "      <td>0.756103</td>\n",
       "      <td>0.736952</td>\n",
       "      <td>0.067092</td>\n",
       "      <td>0.247664</td>\n",
       "      <td>...</td>\n",
       "      <td>0.185592</td>\n",
       "      <td>0.121799</td>\n",
       "      <td>0.240468</td>\n",
       "      <td>0.983320</td>\n",
       "      <td>0.446315</td>\n",
       "      <td>0.796144</td>\n",
       "      <td>0.748220</td>\n",
       "      <td>0.072554</td>\n",
       "      <td>0.336653</td>\n",
       "      <td>0.324208</td>\n",
       "    </tr>\n",
       "    <tr>\n",
       "      <th>14</th>\n",
       "      <td>0.717674</td>\n",
       "      <td>0.581647</td>\n",
       "      <td>0.799134</td>\n",
       "      <td>0.523281</td>\n",
       "      <td>0.029991</td>\n",
       "      <td>0.693585</td>\n",
       "      <td>0.253990</td>\n",
       "      <td>0.485530</td>\n",
       "      <td>0.700744</td>\n",
       "      <td>0.707380</td>\n",
       "      <td>...</td>\n",
       "      <td>0.345757</td>\n",
       "      <td>0.302408</td>\n",
       "      <td>0.841737</td>\n",
       "      <td>0.009010</td>\n",
       "      <td>0.669046</td>\n",
       "      <td>0.526500</td>\n",
       "      <td>0.910088</td>\n",
       "      <td>0.243994</td>\n",
       "      <td>0.021729</td>\n",
       "      <td>0.887252</td>\n",
       "    </tr>\n",
       "    <tr>\n",
       "      <th>15</th>\n",
       "      <td>0.793576</td>\n",
       "      <td>0.865657</td>\n",
       "      <td>0.253185</td>\n",
       "      <td>0.445303</td>\n",
       "      <td>0.258040</td>\n",
       "      <td>0.758929</td>\n",
       "      <td>0.075339</td>\n",
       "      <td>0.779316</td>\n",
       "      <td>0.577695</td>\n",
       "      <td>0.565055</td>\n",
       "      <td>...</td>\n",
       "      <td>0.357486</td>\n",
       "      <td>0.856924</td>\n",
       "      <td>0.767820</td>\n",
       "      <td>0.734287</td>\n",
       "      <td>0.931912</td>\n",
       "      <td>0.731984</td>\n",
       "      <td>0.379256</td>\n",
       "      <td>0.557544</td>\n",
       "      <td>0.839543</td>\n",
       "      <td>0.841754</td>\n",
       "    </tr>\n",
       "    <tr>\n",
       "      <th>16</th>\n",
       "      <td>0.355858</td>\n",
       "      <td>0.321955</td>\n",
       "      <td>0.590819</td>\n",
       "      <td>0.028643</td>\n",
       "      <td>0.959682</td>\n",
       "      <td>0.027892</td>\n",
       "      <td>0.647509</td>\n",
       "      <td>0.342103</td>\n",
       "      <td>0.901980</td>\n",
       "      <td>0.994816</td>\n",
       "      <td>...</td>\n",
       "      <td>0.775070</td>\n",
       "      <td>0.018398</td>\n",
       "      <td>0.659285</td>\n",
       "      <td>0.717509</td>\n",
       "      <td>0.957226</td>\n",
       "      <td>0.349180</td>\n",
       "      <td>0.566647</td>\n",
       "      <td>0.337308</td>\n",
       "      <td>0.331168</td>\n",
       "      <td>0.938535</td>\n",
       "    </tr>\n",
       "    <tr>\n",
       "      <th>17</th>\n",
       "      <td>0.037425</td>\n",
       "      <td>0.121295</td>\n",
       "      <td>0.816507</td>\n",
       "      <td>0.303503</td>\n",
       "      <td>0.993972</td>\n",
       "      <td>0.532177</td>\n",
       "      <td>0.717891</td>\n",
       "      <td>0.144703</td>\n",
       "      <td>0.034184</td>\n",
       "      <td>0.504279</td>\n",
       "      <td>...</td>\n",
       "      <td>0.101574</td>\n",
       "      <td>0.545755</td>\n",
       "      <td>0.457205</td>\n",
       "      <td>0.692207</td>\n",
       "      <td>0.794859</td>\n",
       "      <td>0.718951</td>\n",
       "      <td>0.837027</td>\n",
       "      <td>0.737374</td>\n",
       "      <td>0.574811</td>\n",
       "      <td>0.058428</td>\n",
       "    </tr>\n",
       "    <tr>\n",
       "      <th>18</th>\n",
       "      <td>0.106225</td>\n",
       "      <td>0.864402</td>\n",
       "      <td>0.115702</td>\n",
       "      <td>0.916237</td>\n",
       "      <td>0.300765</td>\n",
       "      <td>0.979271</td>\n",
       "      <td>0.546150</td>\n",
       "      <td>0.689023</td>\n",
       "      <td>0.729927</td>\n",
       "      <td>0.167030</td>\n",
       "      <td>...</td>\n",
       "      <td>0.545596</td>\n",
       "      <td>0.108351</td>\n",
       "      <td>0.423054</td>\n",
       "      <td>0.681381</td>\n",
       "      <td>0.430137</td>\n",
       "      <td>0.929976</td>\n",
       "      <td>0.743379</td>\n",
       "      <td>0.360117</td>\n",
       "      <td>0.703583</td>\n",
       "      <td>0.526874</td>\n",
       "    </tr>\n",
       "    <tr>\n",
       "      <th>19</th>\n",
       "      <td>0.246322</td>\n",
       "      <td>0.584536</td>\n",
       "      <td>0.728758</td>\n",
       "      <td>0.955364</td>\n",
       "      <td>0.118236</td>\n",
       "      <td>0.931964</td>\n",
       "      <td>0.795982</td>\n",
       "      <td>0.865483</td>\n",
       "      <td>0.387460</td>\n",
       "      <td>0.228332</td>\n",
       "      <td>...</td>\n",
       "      <td>0.429924</td>\n",
       "      <td>0.891558</td>\n",
       "      <td>0.621248</td>\n",
       "      <td>0.650838</td>\n",
       "      <td>0.626989</td>\n",
       "      <td>0.308297</td>\n",
       "      <td>0.524126</td>\n",
       "      <td>0.776571</td>\n",
       "      <td>0.049079</td>\n",
       "      <td>0.766543</td>\n",
       "    </tr>\n",
       "    <tr>\n",
       "      <th>20</th>\n",
       "      <td>0.055550</td>\n",
       "      <td>0.821373</td>\n",
       "      <td>0.721164</td>\n",
       "      <td>0.242877</td>\n",
       "      <td>0.001081</td>\n",
       "      <td>0.835384</td>\n",
       "      <td>0.134281</td>\n",
       "      <td>0.665988</td>\n",
       "      <td>0.120936</td>\n",
       "      <td>0.723483</td>\n",
       "      <td>...</td>\n",
       "      <td>0.623796</td>\n",
       "      <td>0.993885</td>\n",
       "      <td>0.452006</td>\n",
       "      <td>0.001918</td>\n",
       "      <td>0.946395</td>\n",
       "      <td>0.416623</td>\n",
       "      <td>0.713943</td>\n",
       "      <td>0.864780</td>\n",
       "      <td>0.049272</td>\n",
       "      <td>0.783454</td>\n",
       "    </tr>\n",
       "    <tr>\n",
       "      <th>21</th>\n",
       "      <td>0.104139</td>\n",
       "      <td>0.187281</td>\n",
       "      <td>0.139120</td>\n",
       "      <td>0.219598</td>\n",
       "      <td>0.084388</td>\n",
       "      <td>0.318548</td>\n",
       "      <td>0.088590</td>\n",
       "      <td>0.326925</td>\n",
       "      <td>0.093733</td>\n",
       "      <td>0.179622</td>\n",
       "      <td>...</td>\n",
       "      <td>0.623483</td>\n",
       "      <td>0.511534</td>\n",
       "      <td>0.681411</td>\n",
       "      <td>0.489104</td>\n",
       "      <td>0.789077</td>\n",
       "      <td>0.332498</td>\n",
       "      <td>0.275119</td>\n",
       "      <td>0.451644</td>\n",
       "      <td>0.866294</td>\n",
       "      <td>0.322639</td>\n",
       "    </tr>\n",
       "    <tr>\n",
       "      <th>22</th>\n",
       "      <td>0.451355</td>\n",
       "      <td>0.611611</td>\n",
       "      <td>0.525487</td>\n",
       "      <td>0.341650</td>\n",
       "      <td>0.655365</td>\n",
       "      <td>0.419068</td>\n",
       "      <td>0.307303</td>\n",
       "      <td>0.055308</td>\n",
       "      <td>0.825771</td>\n",
       "      <td>0.152860</td>\n",
       "      <td>...</td>\n",
       "      <td>0.548009</td>\n",
       "      <td>0.102635</td>\n",
       "      <td>0.493073</td>\n",
       "      <td>0.406915</td>\n",
       "      <td>0.925357</td>\n",
       "      <td>0.326030</td>\n",
       "      <td>0.783062</td>\n",
       "      <td>0.663437</td>\n",
       "      <td>0.076005</td>\n",
       "      <td>0.360585</td>\n",
       "    </tr>\n",
       "    <tr>\n",
       "      <th>23</th>\n",
       "      <td>0.090488</td>\n",
       "      <td>0.580939</td>\n",
       "      <td>0.866075</td>\n",
       "      <td>0.052857</td>\n",
       "      <td>0.317536</td>\n",
       "      <td>0.952525</td>\n",
       "      <td>0.737320</td>\n",
       "      <td>0.376365</td>\n",
       "      <td>0.699335</td>\n",
       "      <td>0.378093</td>\n",
       "      <td>...</td>\n",
       "      <td>0.673346</td>\n",
       "      <td>0.801209</td>\n",
       "      <td>0.458680</td>\n",
       "      <td>0.925375</td>\n",
       "      <td>0.989186</td>\n",
       "      <td>0.869308</td>\n",
       "      <td>0.757225</td>\n",
       "      <td>0.179026</td>\n",
       "      <td>0.303576</td>\n",
       "      <td>0.199049</td>\n",
       "    </tr>\n",
       "    <tr>\n",
       "      <th>24</th>\n",
       "      <td>0.786042</td>\n",
       "      <td>0.978798</td>\n",
       "      <td>0.003463</td>\n",
       "      <td>0.235218</td>\n",
       "      <td>0.137317</td>\n",
       "      <td>0.262006</td>\n",
       "      <td>0.071241</td>\n",
       "      <td>0.385495</td>\n",
       "      <td>0.119892</td>\n",
       "      <td>0.231395</td>\n",
       "      <td>...</td>\n",
       "      <td>0.443107</td>\n",
       "      <td>0.708947</td>\n",
       "      <td>0.095781</td>\n",
       "      <td>0.632745</td>\n",
       "      <td>0.204877</td>\n",
       "      <td>0.446312</td>\n",
       "      <td>0.031443</td>\n",
       "      <td>0.480876</td>\n",
       "      <td>0.984950</td>\n",
       "      <td>0.575777</td>\n",
       "    </tr>\n",
       "    <tr>\n",
       "      <th>25</th>\n",
       "      <td>0.797731</td>\n",
       "      <td>0.724184</td>\n",
       "      <td>0.265866</td>\n",
       "      <td>0.469929</td>\n",
       "      <td>0.796256</td>\n",
       "      <td>0.703661</td>\n",
       "      <td>0.861181</td>\n",
       "      <td>0.338518</td>\n",
       "      <td>0.141692</td>\n",
       "      <td>0.381485</td>\n",
       "      <td>...</td>\n",
       "      <td>0.947192</td>\n",
       "      <td>0.506546</td>\n",
       "      <td>0.374253</td>\n",
       "      <td>0.447390</td>\n",
       "      <td>0.508595</td>\n",
       "      <td>0.289473</td>\n",
       "      <td>0.223755</td>\n",
       "      <td>0.249617</td>\n",
       "      <td>0.557340</td>\n",
       "      <td>0.029922</td>\n",
       "    </tr>\n",
       "    <tr>\n",
       "      <th>26</th>\n",
       "      <td>0.118518</td>\n",
       "      <td>0.689081</td>\n",
       "      <td>0.526058</td>\n",
       "      <td>0.808539</td>\n",
       "      <td>0.578373</td>\n",
       "      <td>0.353404</td>\n",
       "      <td>0.043670</td>\n",
       "      <td>0.267837</td>\n",
       "      <td>0.565802</td>\n",
       "      <td>0.854292</td>\n",
       "      <td>...</td>\n",
       "      <td>0.995912</td>\n",
       "      <td>0.845025</td>\n",
       "      <td>0.658795</td>\n",
       "      <td>0.118048</td>\n",
       "      <td>0.356656</td>\n",
       "      <td>0.954818</td>\n",
       "      <td>0.824240</td>\n",
       "      <td>0.338486</td>\n",
       "      <td>0.538699</td>\n",
       "      <td>0.261248</td>\n",
       "    </tr>\n",
       "    <tr>\n",
       "      <th>27</th>\n",
       "      <td>0.414334</td>\n",
       "      <td>0.423172</td>\n",
       "      <td>0.639215</td>\n",
       "      <td>0.196244</td>\n",
       "      <td>0.776500</td>\n",
       "      <td>0.665531</td>\n",
       "      <td>0.520901</td>\n",
       "      <td>0.991148</td>\n",
       "      <td>0.119166</td>\n",
       "      <td>0.382639</td>\n",
       "      <td>...</td>\n",
       "      <td>0.763388</td>\n",
       "      <td>0.631189</td>\n",
       "      <td>0.915739</td>\n",
       "      <td>0.568494</td>\n",
       "      <td>0.785085</td>\n",
       "      <td>0.128184</td>\n",
       "      <td>0.113662</td>\n",
       "      <td>0.739900</td>\n",
       "      <td>0.969864</td>\n",
       "      <td>0.897368</td>\n",
       "    </tr>\n",
       "    <tr>\n",
       "      <th>28</th>\n",
       "      <td>0.846242</td>\n",
       "      <td>0.880999</td>\n",
       "      <td>0.390428</td>\n",
       "      <td>0.492776</td>\n",
       "      <td>0.902329</td>\n",
       "      <td>0.463419</td>\n",
       "      <td>0.707572</td>\n",
       "      <td>0.799839</td>\n",
       "      <td>0.413695</td>\n",
       "      <td>0.293084</td>\n",
       "      <td>...</td>\n",
       "      <td>0.958724</td>\n",
       "      <td>0.258595</td>\n",
       "      <td>0.278480</td>\n",
       "      <td>0.981489</td>\n",
       "      <td>0.781167</td>\n",
       "      <td>0.685774</td>\n",
       "      <td>0.717520</td>\n",
       "      <td>0.947384</td>\n",
       "      <td>0.973503</td>\n",
       "      <td>0.083090</td>\n",
       "    </tr>\n",
       "    <tr>\n",
       "      <th>29</th>\n",
       "      <td>0.448735</td>\n",
       "      <td>0.131245</td>\n",
       "      <td>0.554659</td>\n",
       "      <td>0.311988</td>\n",
       "      <td>0.133007</td>\n",
       "      <td>0.094710</td>\n",
       "      <td>0.720771</td>\n",
       "      <td>0.846186</td>\n",
       "      <td>0.202794</td>\n",
       "      <td>0.570640</td>\n",
       "      <td>...</td>\n",
       "      <td>0.935740</td>\n",
       "      <td>0.367479</td>\n",
       "      <td>0.582278</td>\n",
       "      <td>0.192260</td>\n",
       "      <td>0.326038</td>\n",
       "      <td>0.427859</td>\n",
       "      <td>0.135083</td>\n",
       "      <td>0.866838</td>\n",
       "      <td>0.685661</td>\n",
       "      <td>0.345421</td>\n",
       "    </tr>\n",
       "  </tbody>\n",
       "</table>\n",
       "<p>30 rows × 30 columns</p>\n",
       "</div>"
      ],
      "text/plain": [
       "          0         1         2         3         4         5         6   \\\n",
       "0   0.921837  0.957439  0.173060  0.932006  0.993304  0.891399  0.485117   \n",
       "1   0.780021  0.801431  0.470112  0.705003  0.677193  0.559722  0.105311   \n",
       "2   0.894631  0.899529  0.125659  0.759784  0.265999  0.433187  0.458749   \n",
       "3   0.700979  0.378872  0.913729  0.356408  0.649634  0.743874  0.626572   \n",
       "4   0.196241  0.446298  0.674436  0.622035  0.454015  0.514978  0.877982   \n",
       "5   0.060233  0.724473  0.776515  0.819426  0.487692  0.764445  0.540632   \n",
       "6   0.747655  0.934822  0.941072  0.610715  0.378881  0.357328  0.103664   \n",
       "7   0.524678  0.519483  0.419194  0.267944  0.789264  0.659906  0.429446   \n",
       "8   0.922921  0.758057  0.046197  0.031837  0.093666  0.857008  0.168757   \n",
       "9   0.261280  0.040866  0.203399  0.627931  0.583763  0.329964  0.797796   \n",
       "10  0.052647  0.824432  0.258225  0.661575  0.574093  0.329897  0.033099   \n",
       "11  0.085068  0.059388  0.968240  0.223836  0.658630  0.587399  0.782838   \n",
       "12  0.166427  0.273107  0.827004  0.223321  0.103015  0.435121  0.357772   \n",
       "13  0.748785  0.420195  0.976979  0.529230  0.851949  0.677289  0.756103   \n",
       "14  0.717674  0.581647  0.799134  0.523281  0.029991  0.693585  0.253990   \n",
       "15  0.793576  0.865657  0.253185  0.445303  0.258040  0.758929  0.075339   \n",
       "16  0.355858  0.321955  0.590819  0.028643  0.959682  0.027892  0.647509   \n",
       "17  0.037425  0.121295  0.816507  0.303503  0.993972  0.532177  0.717891   \n",
       "18  0.106225  0.864402  0.115702  0.916237  0.300765  0.979271  0.546150   \n",
       "19  0.246322  0.584536  0.728758  0.955364  0.118236  0.931964  0.795982   \n",
       "20  0.055550  0.821373  0.721164  0.242877  0.001081  0.835384  0.134281   \n",
       "21  0.104139  0.187281  0.139120  0.219598  0.084388  0.318548  0.088590   \n",
       "22  0.451355  0.611611  0.525487  0.341650  0.655365  0.419068  0.307303   \n",
       "23  0.090488  0.580939  0.866075  0.052857  0.317536  0.952525  0.737320   \n",
       "24  0.786042  0.978798  0.003463  0.235218  0.137317  0.262006  0.071241   \n",
       "25  0.797731  0.724184  0.265866  0.469929  0.796256  0.703661  0.861181   \n",
       "26  0.118518  0.689081  0.526058  0.808539  0.578373  0.353404  0.043670   \n",
       "27  0.414334  0.423172  0.639215  0.196244  0.776500  0.665531  0.520901   \n",
       "28  0.846242  0.880999  0.390428  0.492776  0.902329  0.463419  0.707572   \n",
       "29  0.448735  0.131245  0.554659  0.311988  0.133007  0.094710  0.720771   \n",
       "\n",
       "          7         8         9   ...        20        21        22        23  \\\n",
       "0   0.348399  0.665993  0.916444  ...  0.933231  0.462914  0.623793  0.456886   \n",
       "1   0.592770  0.405123  0.467554  ...  0.384458  0.182040  0.946828  0.538162   \n",
       "2   0.045776  0.584112  0.826297  ...  0.838311  0.934827  0.701124  0.074685   \n",
       "3   0.085651  0.515258  0.130660  ...  0.818700  0.777556  0.775813  0.467111   \n",
       "4   0.711527  0.238492  0.100524  ...  0.466447  0.125563  0.087927  0.646892   \n",
       "5   0.575703  0.062903  0.189285  ...  0.463674  0.284204  0.804950  0.165164   \n",
       "6   0.501350  0.202279  0.588611  ...  0.872592  0.538412  0.371522  0.842158   \n",
       "7   0.572635  0.227369  0.787413  ...  0.898367  0.040945  0.017775  0.720670   \n",
       "8   0.254789  0.231505  0.284044  ...  0.706182  0.131539  0.563478  0.186703   \n",
       "9   0.179156  0.863304  0.220024  ...  0.029054  0.934663  0.076794  0.953701   \n",
       "10  0.284978  0.503712  0.913048  ...  0.352393  0.098512  0.990139  0.835452   \n",
       "11  0.958568  0.509900  0.599174  ...  0.972318  0.138507  0.942061  0.690952   \n",
       "12  0.169582  0.280669  0.024969  ...  0.871282  0.775194  0.082038  0.007670   \n",
       "13  0.736952  0.067092  0.247664  ...  0.185592  0.121799  0.240468  0.983320   \n",
       "14  0.485530  0.700744  0.707380  ...  0.345757  0.302408  0.841737  0.009010   \n",
       "15  0.779316  0.577695  0.565055  ...  0.357486  0.856924  0.767820  0.734287   \n",
       "16  0.342103  0.901980  0.994816  ...  0.775070  0.018398  0.659285  0.717509   \n",
       "17  0.144703  0.034184  0.504279  ...  0.101574  0.545755  0.457205  0.692207   \n",
       "18  0.689023  0.729927  0.167030  ...  0.545596  0.108351  0.423054  0.681381   \n",
       "19  0.865483  0.387460  0.228332  ...  0.429924  0.891558  0.621248  0.650838   \n",
       "20  0.665988  0.120936  0.723483  ...  0.623796  0.993885  0.452006  0.001918   \n",
       "21  0.326925  0.093733  0.179622  ...  0.623483  0.511534  0.681411  0.489104   \n",
       "22  0.055308  0.825771  0.152860  ...  0.548009  0.102635  0.493073  0.406915   \n",
       "23  0.376365  0.699335  0.378093  ...  0.673346  0.801209  0.458680  0.925375   \n",
       "24  0.385495  0.119892  0.231395  ...  0.443107  0.708947  0.095781  0.632745   \n",
       "25  0.338518  0.141692  0.381485  ...  0.947192  0.506546  0.374253  0.447390   \n",
       "26  0.267837  0.565802  0.854292  ...  0.995912  0.845025  0.658795  0.118048   \n",
       "27  0.991148  0.119166  0.382639  ...  0.763388  0.631189  0.915739  0.568494   \n",
       "28  0.799839  0.413695  0.293084  ...  0.958724  0.258595  0.278480  0.981489   \n",
       "29  0.846186  0.202794  0.570640  ...  0.935740  0.367479  0.582278  0.192260   \n",
       "\n",
       "          24        25        26        27        28        29  \n",
       "0   0.812075  0.809315  0.246162  0.132592  0.878138  0.871714  \n",
       "1   0.397935  0.554984  0.556613  0.805442  0.130843  0.117239  \n",
       "2   0.070102  0.136491  0.102261  0.821641  0.117899  0.569885  \n",
       "3   0.992660  0.441006  0.328714  0.262263  0.163338  0.903547  \n",
       "4   0.291489  0.185685  0.844585  0.809188  0.051584  0.723765  \n",
       "5   0.480099  0.338141  0.033514  0.402905  0.708595  0.233457  \n",
       "6   0.447428  0.958828  0.133338  0.646003  0.171338  0.264859  \n",
       "7   0.807227  0.802180  0.136348  0.015948  0.787564  0.279639  \n",
       "8   0.947577  0.129277  0.112619  0.306063  0.612581  0.365455  \n",
       "9   0.249314  0.370275  0.626587  0.434193  0.670243  0.322181  \n",
       "10  0.653273  0.262310  0.979428  0.512145  0.516774  0.842322  \n",
       "11  0.088624  0.672560  0.083316  0.169574  0.503548  0.928411  \n",
       "12  0.747685  0.355681  0.610201  0.690460  0.588042  0.514043  \n",
       "13  0.446315  0.796144  0.748220  0.072554  0.336653  0.324208  \n",
       "14  0.669046  0.526500  0.910088  0.243994  0.021729  0.887252  \n",
       "15  0.931912  0.731984  0.379256  0.557544  0.839543  0.841754  \n",
       "16  0.957226  0.349180  0.566647  0.337308  0.331168  0.938535  \n",
       "17  0.794859  0.718951  0.837027  0.737374  0.574811  0.058428  \n",
       "18  0.430137  0.929976  0.743379  0.360117  0.703583  0.526874  \n",
       "19  0.626989  0.308297  0.524126  0.776571  0.049079  0.766543  \n",
       "20  0.946395  0.416623  0.713943  0.864780  0.049272  0.783454  \n",
       "21  0.789077  0.332498  0.275119  0.451644  0.866294  0.322639  \n",
       "22  0.925357  0.326030  0.783062  0.663437  0.076005  0.360585  \n",
       "23  0.989186  0.869308  0.757225  0.179026  0.303576  0.199049  \n",
       "24  0.204877  0.446312  0.031443  0.480876  0.984950  0.575777  \n",
       "25  0.508595  0.289473  0.223755  0.249617  0.557340  0.029922  \n",
       "26  0.356656  0.954818  0.824240  0.338486  0.538699  0.261248  \n",
       "27  0.785085  0.128184  0.113662  0.739900  0.969864  0.897368  \n",
       "28  0.781167  0.685774  0.717520  0.947384  0.973503  0.083090  \n",
       "29  0.326038  0.427859  0.135083  0.866838  0.685661  0.345421  \n",
       "\n",
       "[30 rows x 30 columns]"
      ]
     },
     "execution_count": 91,
     "metadata": {},
     "output_type": "execute_result"
    }
   ],
   "source": [
    "df = pd.DataFrame(np.random.rand(30, 30))\n",
    "\n",
    "bd = FunctionalDepth([df1], K=2, J=3, relax=False)\n",
    "df"
   ]
  },
  {
   "cell_type": "code",
   "execution_count": 92,
   "metadata": {},
   "outputs": [
    {
     "data": {
      "text/plain": [
       "25    1.103388\n",
       "22    1.103388\n",
       "27    1.083448\n",
       "4     1.083448\n",
       "15    1.069322\n",
       "29    1.043567\n",
       "3     1.043567\n",
       "19    1.009501\n",
       "14    0.983745\n",
       "2     0.952724\n",
       "13    0.949679\n",
       "21    0.913118\n",
       "10    0.813416\n",
       "18    0.810920\n",
       "26    0.804281\n",
       "6     0.770215\n",
       "20    0.733654\n",
       "23    0.646131\n",
       "11    0.633951\n",
       "28    0.631456\n",
       "7     0.531754\n",
       "16    0.531754\n",
       "9     0.412111\n",
       "12    0.406845\n",
       "5     0.287202\n",
       "17    0.259226\n",
       "24    0.139583\n",
       "0     0.139583\n",
       "8     0.000000\n",
       "1     0.000000\n",
       "dtype: float64"
      ]
     },
     "execution_count": 92,
     "metadata": {},
     "output_type": "execute_result"
    }
   ],
   "source": [
    "bd.sorted()"
   ]
  },
  {
   "cell_type": "code",
   "execution_count": 93,
   "metadata": {},
   "outputs": [
    {
     "data": {
      "text/plain": [
       "25    1.103388\n",
       "22    1.103388\n",
       "dtype: float64"
      ]
     },
     "execution_count": 93,
     "metadata": {},
     "output_type": "execute_result"
    }
   ],
   "source": [
    "bd.deepest(n=2)"
   ]
  },
  {
   "cell_type": "code",
   "execution_count": 96,
   "metadata": {},
   "outputs": [
    {
     "data": {
      "application/vnd.plotly.v1+json": {
       "config": {
        "plotlyServerURL": "https://plot.ly"
       },
       "data": [
        {
         "marker": {
          "color": "Blue"
         },
         "mode": "lines+markers",
         "type": "scatter",
         "x": [
          0,
          1,
          2,
          3,
          4,
          5,
          6,
          7,
          8,
          9,
          10,
          11,
          12,
          13,
          14,
          15
         ],
         "y": [
          7.4260445692570825,
          8.568512964527402,
          11.424683952703203,
          11.424683952703203,
          11.424683952703203,
          12.281535249155942,
          11.995918150338365,
          8.568512964527402,
          11.424683952703203,
          8.568512964527402,
          7.140427470439502,
          8.568512964527402,
          8.568512964527402,
          8.568512964527402,
          9.996598458615303,
          11.424683952703203
         ]
        },
        {
         "marker": {
          "color": "Blue"
         },
         "mode": "lines+markers",
         "type": "scatter",
         "x": [
          0,
          1,
          2,
          3,
          4,
          5,
          6,
          7,
          8,
          9,
          10,
          11,
          12,
          13,
          14,
          15
         ],
         "y": [
          0.04355630726420139,
          0.05025727761254006,
          0.06700970348338675,
          0.06700970348338675,
          0.06700970348338675,
          0.07203543124464075,
          0.0703601886575561,
          0.05025727761254006,
          0.06700970348338675,
          0.05025727761254006,
          0.04188106467711672,
          0.05025727761254006,
          0.05025727761254006,
          0.05025727761254006,
          0.05863349054796341,
          0.06700970348338675
         ]
        },
        {
         "marker": {
          "color": "Blue"
         },
         "mode": "lines+markers",
         "type": "scatter",
         "x": [
          0,
          1,
          2,
          3,
          4,
          5,
          6,
          7,
          8,
          9,
          10,
          11,
          12,
          13,
          14,
          15
         ],
         "y": [
          5.147243353855837,
          5.939126946756734,
          7.91883592900898,
          7.91883592900898,
          7.91883592900898,
          8.51274862368465,
          8.314777725459429,
          5.939126946756734,
          7.91883592900898,
          5.939126946756734,
          4.949272455630612,
          5.939126946756734,
          5.939126946756734,
          5.939126946756734,
          6.9289814378828565,
          7.91883592900898
         ]
        },
        {
         "marker": {
          "color": "Blue"
         },
         "mode": "lines+markers",
         "type": "scatter",
         "x": [
          0,
          1,
          2,
          3,
          4,
          5,
          6,
          7,
          8,
          9,
          10,
          11,
          12,
          13,
          14,
          15
         ],
         "y": [
          2.6279519759760004,
          3.0322522799723077,
          4.043003039963077,
          4.043003039963077,
          4.043003039963077,
          4.346228267960307,
          4.245153191961231,
          3.0322522799723077,
          4.043003039963077,
          3.0322522799723077,
          2.526876899976923,
          3.0322522799723077,
          3.0322522799723077,
          3.0322522799723077,
          3.5376276599676926,
          4.043003039963077
         ]
        },
        {
         "marker": {
          "color": "Blue"
         },
         "mode": "lines+markers",
         "type": "scatter",
         "x": [
          0,
          1,
          2,
          3,
          4,
          5,
          6,
          7,
          8,
          9,
          10,
          11,
          12,
          13,
          14,
          15
         ],
         "y": [
          2.804508828648423,
          3.2359717253635645,
          4.314628967151419,
          4.314628967151419,
          4.314628967151419,
          4.6382261396877755,
          4.530360415508991,
          3.2359717253635645,
          4.314628967151419,
          3.2359717253635645,
          2.6966431044696373,
          3.2359717253635645,
          3.2359717253635645,
          3.2359717253635645,
          3.7753003462574917,
          4.314628967151419
         ]
        },
        {
         "marker": {
          "color": "Blue"
         },
         "mode": "lines+markers",
         "type": "scatter",
         "x": [
          0,
          1,
          2,
          3,
          4,
          5,
          6,
          7,
          8,
          9,
          10,
          11,
          12,
          13,
          14,
          15
         ],
         "y": [
          7.425111105089629,
          8.567435890488031,
          11.423247853984043,
          11.423247853984043,
          11.423247853984043,
          12.279991443032845,
          11.994410246683247,
          8.567435890488031,
          11.423247853984043,
          8.567435890488031,
          7.139529908740027,
          8.567435890488031,
          8.567435890488031,
          8.567435890488031,
          9.995341872236038,
          11.423247853984043
         ]
        },
        {
         "marker": {
          "color": "Blue"
         },
         "mode": "lines+markers",
         "type": "scatter",
         "x": [
          0,
          1,
          2,
          3,
          4,
          5,
          6,
          7,
          8,
          9,
          10,
          11,
          12,
          13,
          14,
          15
         ],
         "y": [
          1.1585287142567884,
          1.336763901065525,
          1.7823518680873667,
          1.7823518680873667,
          1.7823518680873667,
          1.916028258193919,
          1.8714694614917353,
          1.336763901065525,
          1.7823518680873667,
          1.336763901065525,
          1.1139699175546043,
          1.336763901065525,
          1.336763901065525,
          1.336763901065525,
          1.5595578845764457,
          1.7823518680873667
         ]
        },
        {
         "marker": {
          "color": "Blue"
         },
         "mode": "lines+markers",
         "type": "scatter",
         "x": [
          0,
          1,
          2,
          3,
          4,
          5,
          6,
          7,
          8,
          9,
          10,
          11,
          12,
          13,
          14,
          15
         ],
         "y": [
          6.947301263368023,
          8.016116842347717,
          10.688155789796957,
          10.688155789796957,
          10.688155789796957,
          11.489767474031728,
          11.222563579286806,
          8.016116842347717,
          10.688155789796957,
          8.016116842347717,
          6.680097368623098,
          8.016116842347717,
          8.016116842347717,
          8.016116842347717,
          9.352136316072338,
          10.688155789796957
         ]
        },
        {
         "marker": {
          "color": "Blue"
         },
         "mode": "lines+markers",
         "type": "scatter",
         "x": [
          0,
          1,
          2,
          3,
          4,
          5,
          6,
          7,
          8,
          9,
          10,
          11,
          12,
          13,
          14,
          15
         ],
         "y": [
          7.57477189803862,
          8.740121420813791,
          11.653495227751721,
          11.653495227751721,
          11.653495227751721,
          12.5275073698331,
          12.236169989139308,
          8.740121420813791,
          11.653495227751721,
          8.740121420813791,
          7.283434517344825,
          8.740121420813791,
          8.740121420813791,
          8.740121420813791,
          10.196808324282756,
          11.653495227751721
         ]
        },
        {
         "marker": {
          "color": "Blue"
         },
         "mode": "lines+markers",
         "type": "scatter",
         "x": [
          0,
          1,
          2,
          3,
          4,
          5,
          6,
          7,
          8,
          9,
          10,
          11,
          12,
          13,
          14,
          15
         ],
         "y": [
          0.8289418210706774,
          0.9564713320046276,
          1.2752951093395035,
          1.2752951093395035,
          1.2752951093395035,
          1.3709422425399662,
          1.3390598648064789,
          0.9564713320046276,
          1.2752951093395035,
          0.9564713320046276,
          0.7970594433371897,
          0.9564713320046276,
          0.9564713320046276,
          0.9564713320046276,
          1.1158832206720657,
          1.2752951093395035
         ]
        },
        {
         "marker": {
          "color": "Blue"
         },
         "mode": "lines+markers",
         "type": "scatter",
         "x": [
          0,
          1,
          2,
          3,
          4,
          5,
          6,
          7,
          8,
          9,
          10,
          11,
          12,
          13,
          14,
          15
         ],
         "y": [
          5.64330285217966,
          6.51150329097653,
          8.682004387968707,
          8.682004387968707,
          8.682004387968707,
          9.333154717066359,
          9.116104607367143,
          6.51150329097653,
          8.682004387968707,
          6.51150329097653,
          5.426252742480442,
          6.51150329097653,
          6.51150329097653,
          6.51150329097653,
          7.596753839472619,
          8.682004387968707
         ]
        },
        {
         "marker": {
          "color": "Blue"
         },
         "mode": "lines+markers",
         "type": "scatter",
         "x": [
          0,
          1,
          2,
          3,
          4,
          5,
          6,
          7,
          8,
          9,
          10,
          11,
          12,
          13,
          14,
          15
         ],
         "y": [
          0.904098086650053,
          1.0431900999808303,
          1.3909201333077736,
          1.3909201333077736,
          1.3909201333077736,
          1.4952391433058565,
          1.4604661399731624,
          1.0431900999808303,
          1.3909201333077736,
          1.0431900999808303,
          0.8693250833173585,
          1.0431900999808303,
          1.0431900999808303,
          1.0431900999808303,
          1.217055116644302,
          1.3909201333077736
         ]
        },
        {
         "marker": {
          "color": "Blue"
         },
         "mode": "lines+markers",
         "type": "scatter",
         "x": [
          0,
          1,
          2,
          3,
          4,
          5,
          6,
          7,
          8,
          9,
          10,
          11,
          12,
          13,
          14,
          15
         ],
         "y": [
          7.389079584933499,
          8.52586105953865,
          11.367814746051534,
          11.367814746051534,
          11.367814746051534,
          12.2204008520054,
          11.936205483354113,
          8.52586105953865,
          11.367814746051534,
          8.52586105953865,
          7.104884216282209,
          8.52586105953865,
          8.52586105953865,
          8.52586105953865,
          9.946837902795092,
          11.367814746051534
         ]
        },
        {
         "marker": {
          "color": "Blue"
         },
         "mode": "lines+markers",
         "type": "scatter",
         "x": [
          0,
          1,
          2,
          3,
          4,
          5,
          6,
          7,
          8,
          9,
          10,
          11,
          12,
          13,
          14,
          15
         ],
         "y": [
          1.4095585072311108,
          1.626413662189743,
          2.168551549586324,
          2.168551549586324,
          2.168551549586324,
          2.331192915805298,
          2.2769791270656405,
          1.626413662189743,
          2.168551549586324,
          1.626413662189743,
          1.3553447184914524,
          1.626413662189743,
          1.626413662189743,
          1.626413662189743,
          1.8974826058880334,
          2.168551549586324
         ]
        },
        {
         "marker": {
          "color": "Blue"
         },
         "mode": "lines+markers",
         "type": "scatter",
         "x": [
          0,
          1,
          2,
          3,
          4,
          5,
          6,
          7,
          8,
          9,
          10,
          11,
          12,
          13,
          14,
          15
         ],
         "y": [
          1.5978523187436855,
          1.84367575239656,
          2.4582343365287467,
          2.4582343365287467,
          2.4582343365287467,
          2.6426019117684025,
          2.581146053355184,
          1.84367575239656,
          2.4582343365287467,
          1.84367575239656,
          1.5363964603304667,
          1.84367575239656,
          1.84367575239656,
          1.84367575239656,
          2.1509550444626533,
          2.4582343365287467
         ]
        },
        {
         "marker": {
          "color": "Blue"
         },
         "mode": "lines+markers",
         "type": "scatter",
         "x": [
          0,
          1,
          2,
          3,
          4,
          5,
          6,
          7,
          8,
          9,
          10,
          11,
          12,
          13,
          14,
          15
         ],
         "y": [
          4.039615148703489,
          4.661094402350179,
          6.214792536466906,
          6.214792536466906,
          6.214792536466906,
          6.680901976701923,
          6.5255321632902525,
          4.661094402350179,
          6.214792536466906,
          4.661094402350179,
          3.8842453352918165,
          4.661094402350179,
          4.661094402350179,
          4.661094402350179,
          5.437943469408543,
          6.214792536466906
         ]
        },
        {
         "marker": {
          "color": "Blue"
         },
         "mode": "lines+markers",
         "type": "scatter",
         "x": [
          0,
          1,
          2,
          3,
          4,
          5,
          6,
          7,
          8,
          9,
          10,
          11,
          12,
          13,
          14,
          15
         ],
         "y": [
          0.8663874756628924,
          0.9996778565341066,
          1.332903808712142,
          1.332903808712142,
          1.332903808712142,
          1.4328715943655526,
          1.3995489991477494,
          0.9996778565341066,
          1.332903808712142,
          0.9996778565341066,
          0.8330648804450889,
          0.9996778565341066,
          0.9996778565341066,
          0.9996778565341066,
          1.1662908326231243,
          1.332903808712142
         ]
        },
        {
         "marker": {
          "color": "Blue"
         },
         "mode": "lines+markers",
         "type": "scatter",
         "x": [
          0,
          1,
          2,
          3,
          4,
          5,
          6,
          7,
          8,
          9,
          10,
          11,
          12,
          13,
          14,
          15
         ],
         "y": [
          0.7983579925196194,
          0.9211822990610992,
          1.2282430654147989,
          1.2282430654147989,
          1.2282430654147989,
          1.3203612953209087,
          1.289655218685539,
          0.9211822990610992,
          1.2282430654147989,
          0.9211822990610992,
          0.7676519158842493,
          0.9211822990610992,
          0.9211822990610992,
          0.9211822990610992,
          1.0747126822379491,
          1.2282430654147989
         ]
        },
        {
         "marker": {
          "color": "Blue"
         },
         "mode": "lines+markers",
         "type": "scatter",
         "x": [
          0,
          1,
          2,
          3,
          4,
          5,
          6,
          7,
          8,
          9,
          10,
          11,
          12,
          13,
          14,
          15
         ],
         "y": [
          5.487374796345802,
          6.331586303475925,
          8.442115071301233,
          8.442115071301233,
          8.442115071301233,
          9.075273701648825,
          8.864220824866296,
          6.331586303475925,
          8.442115071301233,
          6.331586303475925,
          5.276321919563271,
          6.331586303475925,
          6.331586303475925,
          6.331586303475925,
          7.386850687388579,
          8.442115071301233
         ]
        },
        {
         "marker": {
          "color": "Blue"
         },
         "mode": "lines+markers",
         "type": "scatter",
         "x": [
          0,
          1,
          2,
          3,
          4,
          5,
          6,
          7,
          8,
          9,
          10,
          11,
          12,
          13,
          14,
          15
         ],
         "y": [
          5.061887557318829,
          5.840639489214032,
          7.787519318952043,
          7.787519318952043,
          7.787519318952043,
          8.371583267873445,
          8.176895284899647,
          5.840639489214032,
          7.787519318952043,
          5.840639489214032,
          4.867199574345027,
          5.840639489214032,
          5.840639489214032,
          5.840639489214032,
          6.814079404083038,
          7.787519318952043
         ]
        },
        {
         "marker": {
          "color": "Blue"
         },
         "mode": "lines+markers",
         "type": "scatter",
         "x": [
          0,
          1,
          2,
          3,
          4,
          5,
          6,
          7,
          8,
          9,
          10,
          11,
          12,
          13,
          14,
          15
         ],
         "y": [
          0.9185400752774356,
          1.0598539330124255,
          1.4131385773499008,
          1.4131385773499008,
          1.4131385773499008,
          1.5191239706511432,
          1.483795506217396,
          1.0598539330124255,
          1.4131385773499008,
          1.0598539330124255,
          0.883211610843688,
          1.0598539330124255,
          1.0598539330124255,
          1.0598539330124255,
          1.2364962551811631,
          1.4131385773499008
         ]
        },
        {
         "marker": {
          "color": "Blue"
         },
         "mode": "lines+markers",
         "type": "scatter",
         "x": [
          0,
          1,
          2,
          3,
          4,
          5,
          6,
          7,
          8,
          9,
          10,
          11,
          12,
          13,
          14,
          15
         ],
         "y": [
          4.217578266363745,
          4.866436461188936,
          6.488581948251915,
          6.488581948251915,
          6.488581948251915,
          6.975225594370808,
          6.813011045664512,
          4.866436461188936,
          6.488581948251915,
          4.866436461188936,
          4.055363717657447,
          4.866436461188936,
          4.866436461188936,
          4.866436461188936,
          5.677509204720426,
          6.488581948251915
         ]
        },
        {
         "marker": {
          "color": "Blue"
         },
         "mode": "lines+markers",
         "type": "scatter",
         "x": [
          0,
          1,
          2,
          3,
          4,
          5,
          6,
          7,
          8,
          9,
          10,
          11,
          12,
          13,
          14,
          15
         ],
         "y": [
          3.2601141276897754,
          3.761670147334356,
          5.015560196445808,
          5.015560196445808,
          5.015560196445808,
          5.3917272111792425,
          5.266338206268099,
          3.761670147334356,
          5.015560196445808,
          3.761670147334356,
          3.13472512277863,
          3.761670147334356,
          3.761670147334356,
          3.761670147334356,
          4.388615171890082,
          5.015560196445808
         ]
        },
        {
         "marker": {
          "color": "Blue"
         },
         "mode": "lines+markers",
         "type": "scatter",
         "x": [
          0,
          1,
          2,
          3,
          4,
          5,
          6,
          7,
          8,
          9,
          10,
          11,
          12,
          13,
          14,
          15
         ],
         "y": [
          5.707292387833818,
          6.585337370577482,
          8.780449827436643,
          8.780449827436643,
          8.780449827436643,
          9.43898356449439,
          9.219472318808476,
          6.585337370577482,
          8.780449827436643,
          6.585337370577482,
          5.4877811421479015,
          6.585337370577482,
          6.585337370577482,
          6.585337370577482,
          7.682893599007062,
          8.780449827436643
         ]
        },
        {
         "marker": {
          "color": "Blue"
         },
         "mode": "lines+markers",
         "type": "scatter",
         "x": [
          0,
          1,
          2,
          3,
          4,
          5,
          6,
          7,
          8,
          9,
          10,
          11,
          12,
          13,
          14,
          15
         ],
         "y": [
          0.3383946238309322,
          0.3904553351895371,
          0.5206071135860495,
          0.5206071135860495,
          0.5206071135860495,
          0.5596526471050032,
          0.5466374692653521,
          0.3904553351895371,
          0.5206071135860495,
          0.3904553351895371,
          0.32537944599128094,
          0.3904553351895371,
          0.3904553351895371,
          0.3904553351895371,
          0.4555312243877933,
          0.5206071135860495
         ]
        },
        {
         "marker": {
          "color": "Blue"
         },
         "mode": "lines+markers",
         "type": "scatter",
         "x": [
          0,
          1,
          2,
          3,
          4,
          5,
          6,
          7,
          8,
          9,
          10,
          11,
          12,
          13,
          14,
          15
         ],
         "y": [
          3.246204306941854,
          3.7456203541636772,
          4.994160472218237,
          4.994160472218237,
          4.994160472218237,
          5.368722507634604,
          5.243868495829149,
          3.7456203541636772,
          4.994160472218237,
          3.7456203541636772,
          3.1213502951363976,
          3.7456203541636772,
          3.7456203541636772,
          3.7456203541636772,
          4.369890413190957,
          4.994160472218237
         ]
        },
        {
         "marker": {
          "color": "Blue"
         },
         "mode": "lines+markers",
         "type": "scatter",
         "x": [
          0,
          1,
          2,
          3,
          4,
          5,
          6,
          7,
          8,
          9,
          10,
          11,
          12,
          13,
          14,
          15
         ],
         "y": [
          1.1835625331359252,
          1.365649076695298,
          1.8208654355937308,
          1.8208654355937308,
          1.8208654355937308,
          1.9574303432632605,
          1.9119087073734176,
          1.365649076695298,
          1.8208654355937308,
          1.365649076695298,
          1.1380408972460818,
          1.365649076695298,
          1.365649076695298,
          1.365649076695298,
          1.5932572561445144,
          1.8208654355937308
         ]
        },
        {
         "marker": {
          "color": "Blue"
         },
         "mode": "lines+markers",
         "type": "scatter",
         "x": [
          0,
          1,
          2,
          3,
          4,
          5,
          6,
          7,
          8,
          9,
          10,
          11,
          12,
          13,
          14,
          15
         ],
         "y": [
          4.034810591786126,
          4.655550682830145,
          6.207400910440194,
          6.207400910440194,
          6.207400910440194,
          6.672955978723207,
          6.517770955962204,
          4.655550682830145,
          6.207400910440194,
          4.655550682830145,
          3.879625569025121,
          4.655550682830145,
          4.655550682830145,
          4.655550682830145,
          5.431475796635169,
          6.207400910440194
         ]
        },
        {
         "marker": {
          "color": "Blue"
         },
         "mode": "lines+markers",
         "type": "scatter",
         "x": [
          0,
          1,
          2,
          3,
          4,
          5,
          6,
          7,
          8,
          9,
          10,
          11,
          12,
          13,
          14,
          15
         ],
         "y": [
          5.805786102034972,
          6.698983963886506,
          8.931978618515341,
          8.931978618515341,
          8.931978618515341,
          9.601877014903991,
          9.37857754944111,
          6.698983963886506,
          8.931978618515341,
          6.698983963886506,
          5.582486636572088,
          6.698983963886506,
          6.698983963886506,
          6.698983963886506,
          7.815481291200923,
          8.931978618515341
         ]
        },
        {
         "marker": {
          "color": "Blue"
         },
         "mode": "lines+markers",
         "type": "scatter",
         "x": [
          0,
          1,
          2,
          3,
          4,
          5,
          6,
          7,
          8,
          9,
          10,
          11,
          12,
          13,
          14,
          15
         ],
         "y": [
          4.772754330311672,
          5.507024227282699,
          7.3426989697102645,
          7.3426989697102645,
          7.3426989697102645,
          7.893401392438533,
          7.709833918195779,
          5.507024227282699,
          7.3426989697102645,
          5.507024227282699,
          4.589186856068915,
          5.507024227282699,
          5.507024227282699,
          5.507024227282699,
          6.424861598496482,
          7.3426989697102645
         ]
        },
        {
         "marker": {
          "color": "Red"
         },
         "mode": "lines+markers",
         "type": "scatter",
         "x": [
          0,
          1,
          2,
          3,
          4,
          5,
          6,
          7,
          8,
          9,
          10,
          11,
          12,
          13,
          14,
          15
         ],
         "y": [
          3.246204306941854,
          3.7456203541636772,
          4.994160472218237,
          4.994160472218237,
          4.994160472218237,
          5.368722507634604,
          5.243868495829149,
          3.7456203541636772,
          4.994160472218237,
          3.7456203541636772,
          3.1213502951363976,
          3.7456203541636772,
          3.7456203541636772,
          3.7456203541636772,
          4.369890413190957,
          4.994160472218237
         ]
        }
       ],
       "layout": {
        "showlegend": false,
        "template": {
         "data": {
          "bar": [
           {
            "error_x": {
             "color": "#2a3f5f"
            },
            "error_y": {
             "color": "#2a3f5f"
            },
            "marker": {
             "line": {
              "color": "#E5ECF6",
              "width": 0.5
             }
            },
            "type": "bar"
           }
          ],
          "barpolar": [
           {
            "marker": {
             "line": {
              "color": "#E5ECF6",
              "width": 0.5
             }
            },
            "type": "barpolar"
           }
          ],
          "carpet": [
           {
            "aaxis": {
             "endlinecolor": "#2a3f5f",
             "gridcolor": "white",
             "linecolor": "white",
             "minorgridcolor": "white",
             "startlinecolor": "#2a3f5f"
            },
            "baxis": {
             "endlinecolor": "#2a3f5f",
             "gridcolor": "white",
             "linecolor": "white",
             "minorgridcolor": "white",
             "startlinecolor": "#2a3f5f"
            },
            "type": "carpet"
           }
          ],
          "choropleth": [
           {
            "colorbar": {
             "outlinewidth": 0,
             "ticks": ""
            },
            "type": "choropleth"
           }
          ],
          "contour": [
           {
            "colorbar": {
             "outlinewidth": 0,
             "ticks": ""
            },
            "colorscale": [
             [
              0,
              "#0d0887"
             ],
             [
              0.1111111111111111,
              "#46039f"
             ],
             [
              0.2222222222222222,
              "#7201a8"
             ],
             [
              0.3333333333333333,
              "#9c179e"
             ],
             [
              0.4444444444444444,
              "#bd3786"
             ],
             [
              0.5555555555555556,
              "#d8576b"
             ],
             [
              0.6666666666666666,
              "#ed7953"
             ],
             [
              0.7777777777777778,
              "#fb9f3a"
             ],
             [
              0.8888888888888888,
              "#fdca26"
             ],
             [
              1,
              "#f0f921"
             ]
            ],
            "type": "contour"
           }
          ],
          "contourcarpet": [
           {
            "colorbar": {
             "outlinewidth": 0,
             "ticks": ""
            },
            "type": "contourcarpet"
           }
          ],
          "heatmap": [
           {
            "colorbar": {
             "outlinewidth": 0,
             "ticks": ""
            },
            "colorscale": [
             [
              0,
              "#0d0887"
             ],
             [
              0.1111111111111111,
              "#46039f"
             ],
             [
              0.2222222222222222,
              "#7201a8"
             ],
             [
              0.3333333333333333,
              "#9c179e"
             ],
             [
              0.4444444444444444,
              "#bd3786"
             ],
             [
              0.5555555555555556,
              "#d8576b"
             ],
             [
              0.6666666666666666,
              "#ed7953"
             ],
             [
              0.7777777777777778,
              "#fb9f3a"
             ],
             [
              0.8888888888888888,
              "#fdca26"
             ],
             [
              1,
              "#f0f921"
             ]
            ],
            "type": "heatmap"
           }
          ],
          "heatmapgl": [
           {
            "colorbar": {
             "outlinewidth": 0,
             "ticks": ""
            },
            "colorscale": [
             [
              0,
              "#0d0887"
             ],
             [
              0.1111111111111111,
              "#46039f"
             ],
             [
              0.2222222222222222,
              "#7201a8"
             ],
             [
              0.3333333333333333,
              "#9c179e"
             ],
             [
              0.4444444444444444,
              "#bd3786"
             ],
             [
              0.5555555555555556,
              "#d8576b"
             ],
             [
              0.6666666666666666,
              "#ed7953"
             ],
             [
              0.7777777777777778,
              "#fb9f3a"
             ],
             [
              0.8888888888888888,
              "#fdca26"
             ],
             [
              1,
              "#f0f921"
             ]
            ],
            "type": "heatmapgl"
           }
          ],
          "histogram": [
           {
            "marker": {
             "colorbar": {
              "outlinewidth": 0,
              "ticks": ""
             }
            },
            "type": "histogram"
           }
          ],
          "histogram2d": [
           {
            "colorbar": {
             "outlinewidth": 0,
             "ticks": ""
            },
            "colorscale": [
             [
              0,
              "#0d0887"
             ],
             [
              0.1111111111111111,
              "#46039f"
             ],
             [
              0.2222222222222222,
              "#7201a8"
             ],
             [
              0.3333333333333333,
              "#9c179e"
             ],
             [
              0.4444444444444444,
              "#bd3786"
             ],
             [
              0.5555555555555556,
              "#d8576b"
             ],
             [
              0.6666666666666666,
              "#ed7953"
             ],
             [
              0.7777777777777778,
              "#fb9f3a"
             ],
             [
              0.8888888888888888,
              "#fdca26"
             ],
             [
              1,
              "#f0f921"
             ]
            ],
            "type": "histogram2d"
           }
          ],
          "histogram2dcontour": [
           {
            "colorbar": {
             "outlinewidth": 0,
             "ticks": ""
            },
            "colorscale": [
             [
              0,
              "#0d0887"
             ],
             [
              0.1111111111111111,
              "#46039f"
             ],
             [
              0.2222222222222222,
              "#7201a8"
             ],
             [
              0.3333333333333333,
              "#9c179e"
             ],
             [
              0.4444444444444444,
              "#bd3786"
             ],
             [
              0.5555555555555556,
              "#d8576b"
             ],
             [
              0.6666666666666666,
              "#ed7953"
             ],
             [
              0.7777777777777778,
              "#fb9f3a"
             ],
             [
              0.8888888888888888,
              "#fdca26"
             ],
             [
              1,
              "#f0f921"
             ]
            ],
            "type": "histogram2dcontour"
           }
          ],
          "mesh3d": [
           {
            "colorbar": {
             "outlinewidth": 0,
             "ticks": ""
            },
            "type": "mesh3d"
           }
          ],
          "parcoords": [
           {
            "line": {
             "colorbar": {
              "outlinewidth": 0,
              "ticks": ""
             }
            },
            "type": "parcoords"
           }
          ],
          "pie": [
           {
            "automargin": true,
            "type": "pie"
           }
          ],
          "scatter": [
           {
            "marker": {
             "colorbar": {
              "outlinewidth": 0,
              "ticks": ""
             }
            },
            "type": "scatter"
           }
          ],
          "scatter3d": [
           {
            "line": {
             "colorbar": {
              "outlinewidth": 0,
              "ticks": ""
             }
            },
            "marker": {
             "colorbar": {
              "outlinewidth": 0,
              "ticks": ""
             }
            },
            "type": "scatter3d"
           }
          ],
          "scattercarpet": [
           {
            "marker": {
             "colorbar": {
              "outlinewidth": 0,
              "ticks": ""
             }
            },
            "type": "scattercarpet"
           }
          ],
          "scattergeo": [
           {
            "marker": {
             "colorbar": {
              "outlinewidth": 0,
              "ticks": ""
             }
            },
            "type": "scattergeo"
           }
          ],
          "scattergl": [
           {
            "marker": {
             "colorbar": {
              "outlinewidth": 0,
              "ticks": ""
             }
            },
            "type": "scattergl"
           }
          ],
          "scattermapbox": [
           {
            "marker": {
             "colorbar": {
              "outlinewidth": 0,
              "ticks": ""
             }
            },
            "type": "scattermapbox"
           }
          ],
          "scatterpolar": [
           {
            "marker": {
             "colorbar": {
              "outlinewidth": 0,
              "ticks": ""
             }
            },
            "type": "scatterpolar"
           }
          ],
          "scatterpolargl": [
           {
            "marker": {
             "colorbar": {
              "outlinewidth": 0,
              "ticks": ""
             }
            },
            "type": "scatterpolargl"
           }
          ],
          "scatterternary": [
           {
            "marker": {
             "colorbar": {
              "outlinewidth": 0,
              "ticks": ""
             }
            },
            "type": "scatterternary"
           }
          ],
          "surface": [
           {
            "colorbar": {
             "outlinewidth": 0,
             "ticks": ""
            },
            "colorscale": [
             [
              0,
              "#0d0887"
             ],
             [
              0.1111111111111111,
              "#46039f"
             ],
             [
              0.2222222222222222,
              "#7201a8"
             ],
             [
              0.3333333333333333,
              "#9c179e"
             ],
             [
              0.4444444444444444,
              "#bd3786"
             ],
             [
              0.5555555555555556,
              "#d8576b"
             ],
             [
              0.6666666666666666,
              "#ed7953"
             ],
             [
              0.7777777777777778,
              "#fb9f3a"
             ],
             [
              0.8888888888888888,
              "#fdca26"
             ],
             [
              1,
              "#f0f921"
             ]
            ],
            "type": "surface"
           }
          ],
          "table": [
           {
            "cells": {
             "fill": {
              "color": "#EBF0F8"
             },
             "line": {
              "color": "white"
             }
            },
            "header": {
             "fill": {
              "color": "#C8D4E3"
             },
             "line": {
              "color": "white"
             }
            },
            "type": "table"
           }
          ]
         },
         "layout": {
          "annotationdefaults": {
           "arrowcolor": "#2a3f5f",
           "arrowhead": 0,
           "arrowwidth": 1
          },
          "autotypenumbers": "strict",
          "coloraxis": {
           "colorbar": {
            "outlinewidth": 0,
            "ticks": ""
           }
          },
          "colorscale": {
           "diverging": [
            [
             0,
             "#8e0152"
            ],
            [
             0.1,
             "#c51b7d"
            ],
            [
             0.2,
             "#de77ae"
            ],
            [
             0.3,
             "#f1b6da"
            ],
            [
             0.4,
             "#fde0ef"
            ],
            [
             0.5,
             "#f7f7f7"
            ],
            [
             0.6,
             "#e6f5d0"
            ],
            [
             0.7,
             "#b8e186"
            ],
            [
             0.8,
             "#7fbc41"
            ],
            [
             0.9,
             "#4d9221"
            ],
            [
             1,
             "#276419"
            ]
           ],
           "sequential": [
            [
             0,
             "#0d0887"
            ],
            [
             0.1111111111111111,
             "#46039f"
            ],
            [
             0.2222222222222222,
             "#7201a8"
            ],
            [
             0.3333333333333333,
             "#9c179e"
            ],
            [
             0.4444444444444444,
             "#bd3786"
            ],
            [
             0.5555555555555556,
             "#d8576b"
            ],
            [
             0.6666666666666666,
             "#ed7953"
            ],
            [
             0.7777777777777778,
             "#fb9f3a"
            ],
            [
             0.8888888888888888,
             "#fdca26"
            ],
            [
             1,
             "#f0f921"
            ]
           ],
           "sequentialminus": [
            [
             0,
             "#0d0887"
            ],
            [
             0.1111111111111111,
             "#46039f"
            ],
            [
             0.2222222222222222,
             "#7201a8"
            ],
            [
             0.3333333333333333,
             "#9c179e"
            ],
            [
             0.4444444444444444,
             "#bd3786"
            ],
            [
             0.5555555555555556,
             "#d8576b"
            ],
            [
             0.6666666666666666,
             "#ed7953"
            ],
            [
             0.7777777777777778,
             "#fb9f3a"
            ],
            [
             0.8888888888888888,
             "#fdca26"
            ],
            [
             1,
             "#f0f921"
            ]
           ]
          },
          "colorway": [
           "#636efa",
           "#EF553B",
           "#00cc96",
           "#ab63fa",
           "#FFA15A",
           "#19d3f3",
           "#FF6692",
           "#B6E880",
           "#FF97FF",
           "#FECB52"
          ],
          "font": {
           "color": "#2a3f5f"
          },
          "geo": {
           "bgcolor": "white",
           "lakecolor": "white",
           "landcolor": "#E5ECF6",
           "showlakes": true,
           "showland": true,
           "subunitcolor": "white"
          },
          "hoverlabel": {
           "align": "left"
          },
          "hovermode": "closest",
          "mapbox": {
           "style": "light"
          },
          "paper_bgcolor": "white",
          "plot_bgcolor": "#E5ECF6",
          "polar": {
           "angularaxis": {
            "gridcolor": "white",
            "linecolor": "white",
            "ticks": ""
           },
           "bgcolor": "#E5ECF6",
           "radialaxis": {
            "gridcolor": "white",
            "linecolor": "white",
            "ticks": ""
           }
          },
          "scene": {
           "xaxis": {
            "backgroundcolor": "#E5ECF6",
            "gridcolor": "white",
            "gridwidth": 2,
            "linecolor": "white",
            "showbackground": true,
            "ticks": "",
            "zerolinecolor": "white"
           },
           "yaxis": {
            "backgroundcolor": "#E5ECF6",
            "gridcolor": "white",
            "gridwidth": 2,
            "linecolor": "white",
            "showbackground": true,
            "ticks": "",
            "zerolinecolor": "white"
           },
           "zaxis": {
            "backgroundcolor": "#E5ECF6",
            "gridcolor": "white",
            "gridwidth": 2,
            "linecolor": "white",
            "showbackground": true,
            "ticks": "",
            "zerolinecolor": "white"
           }
          },
          "shapedefaults": {
           "line": {
            "color": "#2a3f5f"
           }
          },
          "ternary": {
           "aaxis": {
            "gridcolor": "white",
            "linecolor": "white",
            "ticks": ""
           },
           "baxis": {
            "gridcolor": "white",
            "linecolor": "white",
            "ticks": ""
           },
           "bgcolor": "#E5ECF6",
           "caxis": {
            "gridcolor": "white",
            "linecolor": "white",
            "ticks": ""
           }
          },
          "title": {
           "x": 0.05
          },
          "xaxis": {
           "automargin": true,
           "gridcolor": "white",
           "linecolor": "white",
           "ticks": "",
           "title": {
            "standoff": 15
           },
           "zerolinecolor": "white",
           "zerolinewidth": 2
          },
          "yaxis": {
           "automargin": true,
           "gridcolor": "white",
           "linecolor": "white",
           "ticks": "",
           "title": {
            "standoff": 15
           },
           "zerolinecolor": "white",
           "zerolinewidth": 2
          }
         }
        }
       }
      },
      "text/html": [
       "<div>                            <div id=\"31a797cd-5f5f-4ea1-9ced-ebab6f97b704\" class=\"plotly-graph-div\" style=\"height:525px; width:100%;\"></div>            <script type=\"text/javascript\">                require([\"plotly\"], function(Plotly) {                    window.PLOTLYENV=window.PLOTLYENV || {};                                    if (document.getElementById(\"31a797cd-5f5f-4ea1-9ced-ebab6f97b704\")) {                    Plotly.newPlot(                        \"31a797cd-5f5f-4ea1-9ced-ebab6f97b704\",                        [{\"marker\": {\"color\": \"Blue\"}, \"mode\": \"lines+markers\", \"type\": \"scatter\", \"x\": [0, 1, 2, 3, 4, 5, 6, 7, 8, 9, 10, 11, 12, 13, 14, 15], \"y\": [7.4260445692570825, 8.568512964527402, 11.424683952703203, 11.424683952703203, 11.424683952703203, 12.281535249155942, 11.995918150338365, 8.568512964527402, 11.424683952703203, 8.568512964527402, 7.140427470439502, 8.568512964527402, 8.568512964527402, 8.568512964527402, 9.996598458615303, 11.424683952703203]}, {\"marker\": {\"color\": \"Blue\"}, \"mode\": \"lines+markers\", \"type\": \"scatter\", \"x\": [0, 1, 2, 3, 4, 5, 6, 7, 8, 9, 10, 11, 12, 13, 14, 15], \"y\": [0.04355630726420139, 0.05025727761254006, 0.06700970348338675, 0.06700970348338675, 0.06700970348338675, 0.07203543124464075, 0.0703601886575561, 0.05025727761254006, 0.06700970348338675, 0.05025727761254006, 0.04188106467711672, 0.05025727761254006, 0.05025727761254006, 0.05025727761254006, 0.05863349054796341, 0.06700970348338675]}, {\"marker\": {\"color\": \"Blue\"}, \"mode\": \"lines+markers\", \"type\": \"scatter\", \"x\": [0, 1, 2, 3, 4, 5, 6, 7, 8, 9, 10, 11, 12, 13, 14, 15], \"y\": [5.147243353855837, 5.939126946756734, 7.91883592900898, 7.91883592900898, 7.91883592900898, 8.51274862368465, 8.314777725459429, 5.939126946756734, 7.91883592900898, 5.939126946756734, 4.949272455630612, 5.939126946756734, 5.939126946756734, 5.939126946756734, 6.9289814378828565, 7.91883592900898]}, {\"marker\": {\"color\": \"Blue\"}, \"mode\": \"lines+markers\", \"type\": \"scatter\", \"x\": [0, 1, 2, 3, 4, 5, 6, 7, 8, 9, 10, 11, 12, 13, 14, 15], \"y\": [2.6279519759760004, 3.0322522799723077, 4.043003039963077, 4.043003039963077, 4.043003039963077, 4.346228267960307, 4.245153191961231, 3.0322522799723077, 4.043003039963077, 3.0322522799723077, 2.526876899976923, 3.0322522799723077, 3.0322522799723077, 3.0322522799723077, 3.5376276599676926, 4.043003039963077]}, {\"marker\": {\"color\": \"Blue\"}, \"mode\": \"lines+markers\", \"type\": \"scatter\", \"x\": [0, 1, 2, 3, 4, 5, 6, 7, 8, 9, 10, 11, 12, 13, 14, 15], \"y\": [2.804508828648423, 3.2359717253635645, 4.314628967151419, 4.314628967151419, 4.314628967151419, 4.6382261396877755, 4.530360415508991, 3.2359717253635645, 4.314628967151419, 3.2359717253635645, 2.6966431044696373, 3.2359717253635645, 3.2359717253635645, 3.2359717253635645, 3.7753003462574917, 4.314628967151419]}, {\"marker\": {\"color\": \"Blue\"}, \"mode\": \"lines+markers\", \"type\": \"scatter\", \"x\": [0, 1, 2, 3, 4, 5, 6, 7, 8, 9, 10, 11, 12, 13, 14, 15], \"y\": [7.425111105089629, 8.567435890488031, 11.423247853984043, 11.423247853984043, 11.423247853984043, 12.279991443032845, 11.994410246683247, 8.567435890488031, 11.423247853984043, 8.567435890488031, 7.139529908740027, 8.567435890488031, 8.567435890488031, 8.567435890488031, 9.995341872236038, 11.423247853984043]}, {\"marker\": {\"color\": \"Blue\"}, \"mode\": \"lines+markers\", \"type\": \"scatter\", \"x\": [0, 1, 2, 3, 4, 5, 6, 7, 8, 9, 10, 11, 12, 13, 14, 15], \"y\": [1.1585287142567884, 1.336763901065525, 1.7823518680873667, 1.7823518680873667, 1.7823518680873667, 1.916028258193919, 1.8714694614917353, 1.336763901065525, 1.7823518680873667, 1.336763901065525, 1.1139699175546043, 1.336763901065525, 1.336763901065525, 1.336763901065525, 1.5595578845764457, 1.7823518680873667]}, {\"marker\": {\"color\": \"Blue\"}, \"mode\": \"lines+markers\", \"type\": \"scatter\", \"x\": [0, 1, 2, 3, 4, 5, 6, 7, 8, 9, 10, 11, 12, 13, 14, 15], \"y\": [6.947301263368023, 8.016116842347717, 10.688155789796957, 10.688155789796957, 10.688155789796957, 11.489767474031728, 11.222563579286806, 8.016116842347717, 10.688155789796957, 8.016116842347717, 6.680097368623098, 8.016116842347717, 8.016116842347717, 8.016116842347717, 9.352136316072338, 10.688155789796957]}, {\"marker\": {\"color\": \"Blue\"}, \"mode\": \"lines+markers\", \"type\": \"scatter\", \"x\": [0, 1, 2, 3, 4, 5, 6, 7, 8, 9, 10, 11, 12, 13, 14, 15], \"y\": [7.57477189803862, 8.740121420813791, 11.653495227751721, 11.653495227751721, 11.653495227751721, 12.5275073698331, 12.236169989139308, 8.740121420813791, 11.653495227751721, 8.740121420813791, 7.283434517344825, 8.740121420813791, 8.740121420813791, 8.740121420813791, 10.196808324282756, 11.653495227751721]}, {\"marker\": {\"color\": \"Blue\"}, \"mode\": \"lines+markers\", \"type\": \"scatter\", \"x\": [0, 1, 2, 3, 4, 5, 6, 7, 8, 9, 10, 11, 12, 13, 14, 15], \"y\": [0.8289418210706774, 0.9564713320046276, 1.2752951093395035, 1.2752951093395035, 1.2752951093395035, 1.3709422425399662, 1.3390598648064789, 0.9564713320046276, 1.2752951093395035, 0.9564713320046276, 0.7970594433371897, 0.9564713320046276, 0.9564713320046276, 0.9564713320046276, 1.1158832206720657, 1.2752951093395035]}, {\"marker\": {\"color\": \"Blue\"}, \"mode\": \"lines+markers\", \"type\": \"scatter\", \"x\": [0, 1, 2, 3, 4, 5, 6, 7, 8, 9, 10, 11, 12, 13, 14, 15], \"y\": [5.64330285217966, 6.51150329097653, 8.682004387968707, 8.682004387968707, 8.682004387968707, 9.333154717066359, 9.116104607367143, 6.51150329097653, 8.682004387968707, 6.51150329097653, 5.426252742480442, 6.51150329097653, 6.51150329097653, 6.51150329097653, 7.596753839472619, 8.682004387968707]}, {\"marker\": {\"color\": \"Blue\"}, \"mode\": \"lines+markers\", \"type\": \"scatter\", \"x\": [0, 1, 2, 3, 4, 5, 6, 7, 8, 9, 10, 11, 12, 13, 14, 15], \"y\": [0.904098086650053, 1.0431900999808303, 1.3909201333077736, 1.3909201333077736, 1.3909201333077736, 1.4952391433058565, 1.4604661399731624, 1.0431900999808303, 1.3909201333077736, 1.0431900999808303, 0.8693250833173585, 1.0431900999808303, 1.0431900999808303, 1.0431900999808303, 1.217055116644302, 1.3909201333077736]}, {\"marker\": {\"color\": \"Blue\"}, \"mode\": \"lines+markers\", \"type\": \"scatter\", \"x\": [0, 1, 2, 3, 4, 5, 6, 7, 8, 9, 10, 11, 12, 13, 14, 15], \"y\": [7.389079584933499, 8.52586105953865, 11.367814746051534, 11.367814746051534, 11.367814746051534, 12.2204008520054, 11.936205483354113, 8.52586105953865, 11.367814746051534, 8.52586105953865, 7.104884216282209, 8.52586105953865, 8.52586105953865, 8.52586105953865, 9.946837902795092, 11.367814746051534]}, {\"marker\": {\"color\": \"Blue\"}, \"mode\": \"lines+markers\", \"type\": \"scatter\", \"x\": [0, 1, 2, 3, 4, 5, 6, 7, 8, 9, 10, 11, 12, 13, 14, 15], \"y\": [1.4095585072311108, 1.626413662189743, 2.168551549586324, 2.168551549586324, 2.168551549586324, 2.331192915805298, 2.2769791270656405, 1.626413662189743, 2.168551549586324, 1.626413662189743, 1.3553447184914524, 1.626413662189743, 1.626413662189743, 1.626413662189743, 1.8974826058880334, 2.168551549586324]}, {\"marker\": {\"color\": \"Blue\"}, \"mode\": \"lines+markers\", \"type\": \"scatter\", \"x\": [0, 1, 2, 3, 4, 5, 6, 7, 8, 9, 10, 11, 12, 13, 14, 15], \"y\": [1.5978523187436855, 1.84367575239656, 2.4582343365287467, 2.4582343365287467, 2.4582343365287467, 2.6426019117684025, 2.581146053355184, 1.84367575239656, 2.4582343365287467, 1.84367575239656, 1.5363964603304667, 1.84367575239656, 1.84367575239656, 1.84367575239656, 2.1509550444626533, 2.4582343365287467]}, {\"marker\": {\"color\": \"Blue\"}, \"mode\": \"lines+markers\", \"type\": \"scatter\", \"x\": [0, 1, 2, 3, 4, 5, 6, 7, 8, 9, 10, 11, 12, 13, 14, 15], \"y\": [4.039615148703489, 4.661094402350179, 6.214792536466906, 6.214792536466906, 6.214792536466906, 6.680901976701923, 6.5255321632902525, 4.661094402350179, 6.214792536466906, 4.661094402350179, 3.8842453352918165, 4.661094402350179, 4.661094402350179, 4.661094402350179, 5.437943469408543, 6.214792536466906]}, {\"marker\": {\"color\": \"Blue\"}, \"mode\": \"lines+markers\", \"type\": \"scatter\", \"x\": [0, 1, 2, 3, 4, 5, 6, 7, 8, 9, 10, 11, 12, 13, 14, 15], \"y\": [0.8663874756628924, 0.9996778565341066, 1.332903808712142, 1.332903808712142, 1.332903808712142, 1.4328715943655526, 1.3995489991477494, 0.9996778565341066, 1.332903808712142, 0.9996778565341066, 0.8330648804450889, 0.9996778565341066, 0.9996778565341066, 0.9996778565341066, 1.1662908326231243, 1.332903808712142]}, {\"marker\": {\"color\": \"Blue\"}, \"mode\": \"lines+markers\", \"type\": \"scatter\", \"x\": [0, 1, 2, 3, 4, 5, 6, 7, 8, 9, 10, 11, 12, 13, 14, 15], \"y\": [0.7983579925196194, 0.9211822990610992, 1.2282430654147989, 1.2282430654147989, 1.2282430654147989, 1.3203612953209087, 1.289655218685539, 0.9211822990610992, 1.2282430654147989, 0.9211822990610992, 0.7676519158842493, 0.9211822990610992, 0.9211822990610992, 0.9211822990610992, 1.0747126822379491, 1.2282430654147989]}, {\"marker\": {\"color\": \"Blue\"}, \"mode\": \"lines+markers\", \"type\": \"scatter\", \"x\": [0, 1, 2, 3, 4, 5, 6, 7, 8, 9, 10, 11, 12, 13, 14, 15], \"y\": [5.487374796345802, 6.331586303475925, 8.442115071301233, 8.442115071301233, 8.442115071301233, 9.075273701648825, 8.864220824866296, 6.331586303475925, 8.442115071301233, 6.331586303475925, 5.276321919563271, 6.331586303475925, 6.331586303475925, 6.331586303475925, 7.386850687388579, 8.442115071301233]}, {\"marker\": {\"color\": \"Blue\"}, \"mode\": \"lines+markers\", \"type\": \"scatter\", \"x\": [0, 1, 2, 3, 4, 5, 6, 7, 8, 9, 10, 11, 12, 13, 14, 15], \"y\": [5.061887557318829, 5.840639489214032, 7.787519318952043, 7.787519318952043, 7.787519318952043, 8.371583267873445, 8.176895284899647, 5.840639489214032, 7.787519318952043, 5.840639489214032, 4.867199574345027, 5.840639489214032, 5.840639489214032, 5.840639489214032, 6.814079404083038, 7.787519318952043]}, {\"marker\": {\"color\": \"Blue\"}, \"mode\": \"lines+markers\", \"type\": \"scatter\", \"x\": [0, 1, 2, 3, 4, 5, 6, 7, 8, 9, 10, 11, 12, 13, 14, 15], \"y\": [0.9185400752774356, 1.0598539330124255, 1.4131385773499008, 1.4131385773499008, 1.4131385773499008, 1.5191239706511432, 1.483795506217396, 1.0598539330124255, 1.4131385773499008, 1.0598539330124255, 0.883211610843688, 1.0598539330124255, 1.0598539330124255, 1.0598539330124255, 1.2364962551811631, 1.4131385773499008]}, {\"marker\": {\"color\": \"Blue\"}, \"mode\": \"lines+markers\", \"type\": \"scatter\", \"x\": [0, 1, 2, 3, 4, 5, 6, 7, 8, 9, 10, 11, 12, 13, 14, 15], \"y\": [4.217578266363745, 4.866436461188936, 6.488581948251915, 6.488581948251915, 6.488581948251915, 6.975225594370808, 6.813011045664512, 4.866436461188936, 6.488581948251915, 4.866436461188936, 4.055363717657447, 4.866436461188936, 4.866436461188936, 4.866436461188936, 5.677509204720426, 6.488581948251915]}, {\"marker\": {\"color\": \"Blue\"}, \"mode\": \"lines+markers\", \"type\": \"scatter\", \"x\": [0, 1, 2, 3, 4, 5, 6, 7, 8, 9, 10, 11, 12, 13, 14, 15], \"y\": [3.2601141276897754, 3.761670147334356, 5.015560196445808, 5.015560196445808, 5.015560196445808, 5.3917272111792425, 5.266338206268099, 3.761670147334356, 5.015560196445808, 3.761670147334356, 3.13472512277863, 3.761670147334356, 3.761670147334356, 3.761670147334356, 4.388615171890082, 5.015560196445808]}, {\"marker\": {\"color\": \"Blue\"}, \"mode\": \"lines+markers\", \"type\": \"scatter\", \"x\": [0, 1, 2, 3, 4, 5, 6, 7, 8, 9, 10, 11, 12, 13, 14, 15], \"y\": [5.707292387833818, 6.585337370577482, 8.780449827436643, 8.780449827436643, 8.780449827436643, 9.43898356449439, 9.219472318808476, 6.585337370577482, 8.780449827436643, 6.585337370577482, 5.4877811421479015, 6.585337370577482, 6.585337370577482, 6.585337370577482, 7.682893599007062, 8.780449827436643]}, {\"marker\": {\"color\": \"Blue\"}, \"mode\": \"lines+markers\", \"type\": \"scatter\", \"x\": [0, 1, 2, 3, 4, 5, 6, 7, 8, 9, 10, 11, 12, 13, 14, 15], \"y\": [0.3383946238309322, 0.3904553351895371, 0.5206071135860495, 0.5206071135860495, 0.5206071135860495, 0.5596526471050032, 0.5466374692653521, 0.3904553351895371, 0.5206071135860495, 0.3904553351895371, 0.32537944599128094, 0.3904553351895371, 0.3904553351895371, 0.3904553351895371, 0.4555312243877933, 0.5206071135860495]}, {\"marker\": {\"color\": \"Blue\"}, \"mode\": \"lines+markers\", \"type\": \"scatter\", \"x\": [0, 1, 2, 3, 4, 5, 6, 7, 8, 9, 10, 11, 12, 13, 14, 15], \"y\": [3.246204306941854, 3.7456203541636772, 4.994160472218237, 4.994160472218237, 4.994160472218237, 5.368722507634604, 5.243868495829149, 3.7456203541636772, 4.994160472218237, 3.7456203541636772, 3.1213502951363976, 3.7456203541636772, 3.7456203541636772, 3.7456203541636772, 4.369890413190957, 4.994160472218237]}, {\"marker\": {\"color\": \"Blue\"}, \"mode\": \"lines+markers\", \"type\": \"scatter\", \"x\": [0, 1, 2, 3, 4, 5, 6, 7, 8, 9, 10, 11, 12, 13, 14, 15], \"y\": [1.1835625331359252, 1.365649076695298, 1.8208654355937308, 1.8208654355937308, 1.8208654355937308, 1.9574303432632605, 1.9119087073734176, 1.365649076695298, 1.8208654355937308, 1.365649076695298, 1.1380408972460818, 1.365649076695298, 1.365649076695298, 1.365649076695298, 1.5932572561445144, 1.8208654355937308]}, {\"marker\": {\"color\": \"Blue\"}, \"mode\": \"lines+markers\", \"type\": \"scatter\", \"x\": [0, 1, 2, 3, 4, 5, 6, 7, 8, 9, 10, 11, 12, 13, 14, 15], \"y\": [4.034810591786126, 4.655550682830145, 6.207400910440194, 6.207400910440194, 6.207400910440194, 6.672955978723207, 6.517770955962204, 4.655550682830145, 6.207400910440194, 4.655550682830145, 3.879625569025121, 4.655550682830145, 4.655550682830145, 4.655550682830145, 5.431475796635169, 6.207400910440194]}, {\"marker\": {\"color\": \"Blue\"}, \"mode\": \"lines+markers\", \"type\": \"scatter\", \"x\": [0, 1, 2, 3, 4, 5, 6, 7, 8, 9, 10, 11, 12, 13, 14, 15], \"y\": [5.805786102034972, 6.698983963886506, 8.931978618515341, 8.931978618515341, 8.931978618515341, 9.601877014903991, 9.37857754944111, 6.698983963886506, 8.931978618515341, 6.698983963886506, 5.582486636572088, 6.698983963886506, 6.698983963886506, 6.698983963886506, 7.815481291200923, 8.931978618515341]}, {\"marker\": {\"color\": \"Blue\"}, \"mode\": \"lines+markers\", \"type\": \"scatter\", \"x\": [0, 1, 2, 3, 4, 5, 6, 7, 8, 9, 10, 11, 12, 13, 14, 15], \"y\": [4.772754330311672, 5.507024227282699, 7.3426989697102645, 7.3426989697102645, 7.3426989697102645, 7.893401392438533, 7.709833918195779, 5.507024227282699, 7.3426989697102645, 5.507024227282699, 4.589186856068915, 5.507024227282699, 5.507024227282699, 5.507024227282699, 6.424861598496482, 7.3426989697102645]}, {\"marker\": {\"color\": \"Red\"}, \"mode\": \"lines+markers\", \"type\": \"scatter\", \"x\": [0, 1, 2, 3, 4, 5, 6, 7, 8, 9, 10, 11, 12, 13, 14, 15], \"y\": [3.246204306941854, 3.7456203541636772, 4.994160472218237, 4.994160472218237, 4.994160472218237, 5.368722507634604, 5.243868495829149, 3.7456203541636772, 4.994160472218237, 3.7456203541636772, 3.1213502951363976, 3.7456203541636772, 3.7456203541636772, 3.7456203541636772, 4.369890413190957, 4.994160472218237]}],                        {\"showlegend\": false, \"template\": {\"data\": {\"bar\": [{\"error_x\": {\"color\": \"#2a3f5f\"}, \"error_y\": {\"color\": \"#2a3f5f\"}, \"marker\": {\"line\": {\"color\": \"#E5ECF6\", \"width\": 0.5}}, \"type\": \"bar\"}], \"barpolar\": [{\"marker\": {\"line\": {\"color\": \"#E5ECF6\", \"width\": 0.5}}, \"type\": \"barpolar\"}], \"carpet\": [{\"aaxis\": {\"endlinecolor\": \"#2a3f5f\", \"gridcolor\": \"white\", \"linecolor\": \"white\", \"minorgridcolor\": \"white\", \"startlinecolor\": \"#2a3f5f\"}, \"baxis\": {\"endlinecolor\": \"#2a3f5f\", \"gridcolor\": \"white\", \"linecolor\": \"white\", \"minorgridcolor\": \"white\", \"startlinecolor\": \"#2a3f5f\"}, \"type\": \"carpet\"}], \"choropleth\": [{\"colorbar\": {\"outlinewidth\": 0, \"ticks\": \"\"}, \"type\": \"choropleth\"}], \"contour\": [{\"colorbar\": {\"outlinewidth\": 0, \"ticks\": \"\"}, \"colorscale\": [[0.0, \"#0d0887\"], [0.1111111111111111, \"#46039f\"], [0.2222222222222222, \"#7201a8\"], [0.3333333333333333, \"#9c179e\"], [0.4444444444444444, \"#bd3786\"], [0.5555555555555556, \"#d8576b\"], [0.6666666666666666, \"#ed7953\"], [0.7777777777777778, \"#fb9f3a\"], [0.8888888888888888, \"#fdca26\"], [1.0, \"#f0f921\"]], \"type\": \"contour\"}], \"contourcarpet\": [{\"colorbar\": {\"outlinewidth\": 0, \"ticks\": \"\"}, \"type\": \"contourcarpet\"}], \"heatmap\": [{\"colorbar\": {\"outlinewidth\": 0, \"ticks\": \"\"}, \"colorscale\": [[0.0, \"#0d0887\"], [0.1111111111111111, \"#46039f\"], [0.2222222222222222, \"#7201a8\"], [0.3333333333333333, \"#9c179e\"], [0.4444444444444444, \"#bd3786\"], [0.5555555555555556, \"#d8576b\"], [0.6666666666666666, \"#ed7953\"], [0.7777777777777778, \"#fb9f3a\"], [0.8888888888888888, \"#fdca26\"], [1.0, \"#f0f921\"]], \"type\": \"heatmap\"}], \"heatmapgl\": [{\"colorbar\": {\"outlinewidth\": 0, \"ticks\": \"\"}, \"colorscale\": [[0.0, \"#0d0887\"], [0.1111111111111111, \"#46039f\"], [0.2222222222222222, \"#7201a8\"], [0.3333333333333333, \"#9c179e\"], [0.4444444444444444, \"#bd3786\"], [0.5555555555555556, \"#d8576b\"], [0.6666666666666666, \"#ed7953\"], [0.7777777777777778, \"#fb9f3a\"], [0.8888888888888888, \"#fdca26\"], [1.0, \"#f0f921\"]], \"type\": \"heatmapgl\"}], \"histogram\": [{\"marker\": {\"colorbar\": {\"outlinewidth\": 0, \"ticks\": \"\"}}, \"type\": \"histogram\"}], \"histogram2d\": [{\"colorbar\": {\"outlinewidth\": 0, \"ticks\": \"\"}, \"colorscale\": [[0.0, \"#0d0887\"], [0.1111111111111111, \"#46039f\"], [0.2222222222222222, \"#7201a8\"], [0.3333333333333333, \"#9c179e\"], [0.4444444444444444, \"#bd3786\"], [0.5555555555555556, \"#d8576b\"], [0.6666666666666666, \"#ed7953\"], [0.7777777777777778, \"#fb9f3a\"], [0.8888888888888888, \"#fdca26\"], [1.0, \"#f0f921\"]], \"type\": \"histogram2d\"}], \"histogram2dcontour\": [{\"colorbar\": {\"outlinewidth\": 0, \"ticks\": \"\"}, \"colorscale\": [[0.0, \"#0d0887\"], [0.1111111111111111, \"#46039f\"], [0.2222222222222222, \"#7201a8\"], [0.3333333333333333, \"#9c179e\"], [0.4444444444444444, \"#bd3786\"], [0.5555555555555556, \"#d8576b\"], [0.6666666666666666, \"#ed7953\"], [0.7777777777777778, \"#fb9f3a\"], [0.8888888888888888, \"#fdca26\"], [1.0, \"#f0f921\"]], \"type\": \"histogram2dcontour\"}], \"mesh3d\": [{\"colorbar\": {\"outlinewidth\": 0, \"ticks\": \"\"}, \"type\": \"mesh3d\"}], \"parcoords\": [{\"line\": {\"colorbar\": {\"outlinewidth\": 0, \"ticks\": \"\"}}, \"type\": \"parcoords\"}], \"pie\": [{\"automargin\": true, \"type\": \"pie\"}], \"scatter\": [{\"marker\": {\"colorbar\": {\"outlinewidth\": 0, \"ticks\": \"\"}}, \"type\": \"scatter\"}], \"scatter3d\": [{\"line\": {\"colorbar\": {\"outlinewidth\": 0, \"ticks\": \"\"}}, \"marker\": {\"colorbar\": {\"outlinewidth\": 0, \"ticks\": \"\"}}, \"type\": \"scatter3d\"}], \"scattercarpet\": [{\"marker\": {\"colorbar\": {\"outlinewidth\": 0, \"ticks\": \"\"}}, \"type\": \"scattercarpet\"}], \"scattergeo\": [{\"marker\": {\"colorbar\": {\"outlinewidth\": 0, \"ticks\": \"\"}}, \"type\": \"scattergeo\"}], \"scattergl\": [{\"marker\": {\"colorbar\": {\"outlinewidth\": 0, \"ticks\": \"\"}}, \"type\": \"scattergl\"}], \"scattermapbox\": [{\"marker\": {\"colorbar\": {\"outlinewidth\": 0, \"ticks\": \"\"}}, \"type\": \"scattermapbox\"}], \"scatterpolar\": [{\"marker\": {\"colorbar\": {\"outlinewidth\": 0, \"ticks\": \"\"}}, \"type\": \"scatterpolar\"}], \"scatterpolargl\": [{\"marker\": {\"colorbar\": {\"outlinewidth\": 0, \"ticks\": \"\"}}, \"type\": \"scatterpolargl\"}], \"scatterternary\": [{\"marker\": {\"colorbar\": {\"outlinewidth\": 0, \"ticks\": \"\"}}, \"type\": \"scatterternary\"}], \"surface\": [{\"colorbar\": {\"outlinewidth\": 0, \"ticks\": \"\"}, \"colorscale\": [[0.0, \"#0d0887\"], [0.1111111111111111, \"#46039f\"], [0.2222222222222222, \"#7201a8\"], [0.3333333333333333, \"#9c179e\"], [0.4444444444444444, \"#bd3786\"], [0.5555555555555556, \"#d8576b\"], [0.6666666666666666, \"#ed7953\"], [0.7777777777777778, \"#fb9f3a\"], [0.8888888888888888, \"#fdca26\"], [1.0, \"#f0f921\"]], \"type\": \"surface\"}], \"table\": [{\"cells\": {\"fill\": {\"color\": \"#EBF0F8\"}, \"line\": {\"color\": \"white\"}}, \"header\": {\"fill\": {\"color\": \"#C8D4E3\"}, \"line\": {\"color\": \"white\"}}, \"type\": \"table\"}]}, \"layout\": {\"annotationdefaults\": {\"arrowcolor\": \"#2a3f5f\", \"arrowhead\": 0, \"arrowwidth\": 1}, \"autotypenumbers\": \"strict\", \"coloraxis\": {\"colorbar\": {\"outlinewidth\": 0, \"ticks\": \"\"}}, \"colorscale\": {\"diverging\": [[0, \"#8e0152\"], [0.1, \"#c51b7d\"], [0.2, \"#de77ae\"], [0.3, \"#f1b6da\"], [0.4, \"#fde0ef\"], [0.5, \"#f7f7f7\"], [0.6, \"#e6f5d0\"], [0.7, \"#b8e186\"], [0.8, \"#7fbc41\"], [0.9, \"#4d9221\"], [1, \"#276419\"]], \"sequential\": [[0.0, \"#0d0887\"], [0.1111111111111111, \"#46039f\"], [0.2222222222222222, \"#7201a8\"], [0.3333333333333333, \"#9c179e\"], [0.4444444444444444, \"#bd3786\"], [0.5555555555555556, \"#d8576b\"], [0.6666666666666666, \"#ed7953\"], [0.7777777777777778, \"#fb9f3a\"], [0.8888888888888888, \"#fdca26\"], [1.0, \"#f0f921\"]], \"sequentialminus\": [[0.0, \"#0d0887\"], [0.1111111111111111, \"#46039f\"], [0.2222222222222222, \"#7201a8\"], [0.3333333333333333, \"#9c179e\"], [0.4444444444444444, \"#bd3786\"], [0.5555555555555556, \"#d8576b\"], [0.6666666666666666, \"#ed7953\"], [0.7777777777777778, \"#fb9f3a\"], [0.8888888888888888, \"#fdca26\"], [1.0, \"#f0f921\"]]}, \"colorway\": [\"#636efa\", \"#EF553B\", \"#00cc96\", \"#ab63fa\", \"#FFA15A\", \"#19d3f3\", \"#FF6692\", \"#B6E880\", \"#FF97FF\", \"#FECB52\"], \"font\": {\"color\": \"#2a3f5f\"}, \"geo\": {\"bgcolor\": \"white\", \"lakecolor\": \"white\", \"landcolor\": \"#E5ECF6\", \"showlakes\": true, \"showland\": true, \"subunitcolor\": \"white\"}, \"hoverlabel\": {\"align\": \"left\"}, \"hovermode\": \"closest\", \"mapbox\": {\"style\": \"light\"}, \"paper_bgcolor\": \"white\", \"plot_bgcolor\": \"#E5ECF6\", \"polar\": {\"angularaxis\": {\"gridcolor\": \"white\", \"linecolor\": \"white\", \"ticks\": \"\"}, \"bgcolor\": \"#E5ECF6\", \"radialaxis\": {\"gridcolor\": \"white\", \"linecolor\": \"white\", \"ticks\": \"\"}}, \"scene\": {\"xaxis\": {\"backgroundcolor\": \"#E5ECF6\", \"gridcolor\": \"white\", \"gridwidth\": 2, \"linecolor\": \"white\", \"showbackground\": true, \"ticks\": \"\", \"zerolinecolor\": \"white\"}, \"yaxis\": {\"backgroundcolor\": \"#E5ECF6\", \"gridcolor\": \"white\", \"gridwidth\": 2, \"linecolor\": \"white\", \"showbackground\": true, \"ticks\": \"\", \"zerolinecolor\": \"white\"}, \"zaxis\": {\"backgroundcolor\": \"#E5ECF6\", \"gridcolor\": \"white\", \"gridwidth\": 2, \"linecolor\": \"white\", \"showbackground\": true, \"ticks\": \"\", \"zerolinecolor\": \"white\"}}, \"shapedefaults\": {\"line\": {\"color\": \"#2a3f5f\"}}, \"ternary\": {\"aaxis\": {\"gridcolor\": \"white\", \"linecolor\": \"white\", \"ticks\": \"\"}, \"baxis\": {\"gridcolor\": \"white\", \"linecolor\": \"white\", \"ticks\": \"\"}, \"bgcolor\": \"#E5ECF6\", \"caxis\": {\"gridcolor\": \"white\", \"linecolor\": \"white\", \"ticks\": \"\"}}, \"title\": {\"x\": 0.05}, \"xaxis\": {\"automargin\": true, \"gridcolor\": \"white\", \"linecolor\": \"white\", \"ticks\": \"\", \"title\": {\"standoff\": 15}, \"zerolinecolor\": \"white\", \"zerolinewidth\": 2}, \"yaxis\": {\"automargin\": true, \"gridcolor\": \"white\", \"linecolor\": \"white\", \"ticks\": \"\", \"title\": {\"standoff\": 15}, \"zerolinecolor\": \"white\", \"zerolinewidth\": 2}}}},                        {\"responsive\": true}                    ).then(function(){\n",
       "                            \n",
       "var gd = document.getElementById('31a797cd-5f5f-4ea1-9ced-ebab6f97b704');\n",
       "var x = new MutationObserver(function (mutations, observer) {{\n",
       "        var display = window.getComputedStyle(gd).display;\n",
       "        if (!display || display === 'none') {{\n",
       "            console.log([gd, 'removed!']);\n",
       "            Plotly.purge(gd);\n",
       "            observer.disconnect();\n",
       "        }}\n",
       "}});\n",
       "\n",
       "// Listen for the removal of the full notebook cells\n",
       "var notebookContainer = gd.closest('#notebook-container');\n",
       "if (notebookContainer) {{\n",
       "    x.observe(notebookContainer, {childList: true});\n",
       "}}\n",
       "\n",
       "// Listen for the clearing of the current output cell\n",
       "var outputEl = gd.closest('.output');\n",
       "if (outputEl) {{\n",
       "    x.observe(outputEl, {childList: true});\n",
       "}}\n",
       "\n",
       "                        })                };                });            </script>        </div>"
      ]
     },
     "metadata": {},
     "output_type": "display_data"
    }
   ],
   "source": [
    "bd.plot_deepest(n=1)"
   ]
  },
  {
   "cell_type": "code",
   "execution_count": 27,
   "metadata": {},
   "outputs": [],
   "source": [
    "import plotly.graph_objects as go\n",
    "\n",
    "def _plot(df, deep_or_outlying: pd.Series) -> None:\n",
    "    cols = df.columns\n",
    "    x = df.index\n",
    "\n",
    "    # We use deep_or_outlying.index to get the columns because \n",
    "    # deep_or_outlying is a Series indexed by the original columns\n",
    "    \n",
    "    print(deep_or_outlying.index)\n",
    "    data=[go.Scatter(x=x, y=df.loc[:, y], mode='lines+markers', marker_color='Blue') for y in cols]\n",
    "    data.extend([go.Scatter(x=x, y=df.loc[:, y], mode='lines+markers', marker_color='Red') for y in deep_or_outlying.index])\n",
    "\n",
    "    fig = go.Figure(data=data)\n",
    "    fig.update_layout(showlegend=False)\n",
    "\n",
    "    fig.show()\n"
   ]
  },
  {
   "cell_type": "code",
   "execution_count": 32,
   "metadata": {},
   "outputs": [
    {
     "name": "stdout",
     "output_type": "stream",
     "text": [
      "Int64Index([6, 4, 0], dtype='int64')\n"
     ]
    },
    {
     "data": {
      "application/vnd.plotly.v1+json": {
       "config": {
        "plotlyServerURL": "https://plot.ly"
       },
       "data": [
        {
         "marker": {
          "color": "Blue"
         },
         "mode": "lines+markers",
         "type": "scatter",
         "x": [
          0,
          1,
          2,
          3,
          4
         ],
         "y": [
          0.25138617307978106,
          0.8606944154923464,
          0.7361749405008828,
          0.5424749750905181,
          0.651817732693429
         ]
        },
        {
         "marker": {
          "color": "Blue"
         },
         "mode": "lines+markers",
         "type": "scatter",
         "x": [
          0,
          1,
          2,
          3,
          4
         ],
         "y": [
          0.3362346483254467,
          0.9794274884881159,
          0.17531273058604957,
          0.32655483635216886,
          0.03297133876987135
         ]
        },
        {
         "marker": {
          "color": "Blue"
         },
         "mode": "lines+markers",
         "type": "scatter",
         "x": [
          0,
          1,
          2,
          3,
          4
         ],
         "y": [
          0.0221055337572591,
          0.21747014153965116,
          0.3294508302377559,
          0.9219045582510778,
          0.5402894439842572
         ]
        },
        {
         "marker": {
          "color": "Blue"
         },
         "mode": "lines+markers",
         "type": "scatter",
         "x": [
          0,
          1,
          2,
          3,
          4
         ],
         "y": [
          0.7449625353365856,
          0.7389294616827203,
          0.9368860980891521,
          0.9281110508689474,
          0.7742591166661063
         ]
        },
        {
         "marker": {
          "color": "Blue"
         },
         "mode": "lines+markers",
         "type": "scatter",
         "x": [
          0,
          1,
          2,
          3,
          4
         ],
         "y": [
          0.5676529019125209,
          0.1453921988405984,
          0.18099782360583827,
          0.9314900422088901,
          0.539623006417021
         ]
        },
        {
         "marker": {
          "color": "Blue"
         },
         "mode": "lines+markers",
         "type": "scatter",
         "x": [
          0,
          1,
          2,
          3,
          4
         ],
         "y": [
          0.7013478720570059,
          0.16775653315087147,
          0.9854773131962519,
          0.12262704620584108,
          0.022568857071204373
         ]
        },
        {
         "marker": {
          "color": "Blue"
         },
         "mode": "lines+markers",
         "type": "scatter",
         "x": [
          0,
          1,
          2,
          3,
          4
         ],
         "y": [
          0.9083613116147852,
          0.5803142636067817,
          0.6682756526124964,
          0.5375217947716472,
          0.09779620235516606
         ]
        },
        {
         "marker": {
          "color": "Blue"
         },
         "mode": "lines+markers",
         "type": "scatter",
         "x": [
          0,
          1,
          2,
          3,
          4
         ],
         "y": [
          0.9811254403187517,
          0.22613194445244167,
          0.06217802182065513,
          0.9715751389577925,
          0.40180145749718754
         ]
        },
        {
         "marker": {
          "color": "Blue"
         },
         "mode": "lines+markers",
         "type": "scatter",
         "x": [
          0,
          1,
          2,
          3,
          4
         ],
         "y": [
          0.3134372635698368,
          0.5587928227140182,
          0.04334521616558684,
          0.6221600429809745,
          0.5472758607418778
         ]
        },
        {
         "marker": {
          "color": "Blue"
         },
         "mode": "lines+markers",
         "type": "scatter",
         "x": [
          0,
          1,
          2,
          3,
          4
         ],
         "y": [
          0.19079815608460282,
          0.09480997499806965,
          0.9961489775051182,
          0.7239904276339884,
          0.5235164002220589
         ]
        },
        {
         "marker": {
          "color": "Red"
         },
         "mode": "lines+markers",
         "type": "scatter",
         "x": [
          0,
          1,
          2,
          3,
          4
         ],
         "y": [
          0.9083613116147852,
          0.5803142636067817,
          0.6682756526124964,
          0.5375217947716472,
          0.09779620235516606
         ]
        },
        {
         "marker": {
          "color": "Red"
         },
         "mode": "lines+markers",
         "type": "scatter",
         "x": [
          0,
          1,
          2,
          3,
          4
         ],
         "y": [
          0.5676529019125209,
          0.1453921988405984,
          0.18099782360583827,
          0.9314900422088901,
          0.539623006417021
         ]
        },
        {
         "marker": {
          "color": "Red"
         },
         "mode": "lines+markers",
         "type": "scatter",
         "x": [
          0,
          1,
          2,
          3,
          4
         ],
         "y": [
          0.25138617307978106,
          0.8606944154923464,
          0.7361749405008828,
          0.5424749750905181,
          0.651817732693429
         ]
        }
       ],
       "layout": {
        "showlegend": false,
        "template": {
         "data": {
          "bar": [
           {
            "error_x": {
             "color": "#2a3f5f"
            },
            "error_y": {
             "color": "#2a3f5f"
            },
            "marker": {
             "line": {
              "color": "#E5ECF6",
              "width": 0.5
             }
            },
            "type": "bar"
           }
          ],
          "barpolar": [
           {
            "marker": {
             "line": {
              "color": "#E5ECF6",
              "width": 0.5
             }
            },
            "type": "barpolar"
           }
          ],
          "carpet": [
           {
            "aaxis": {
             "endlinecolor": "#2a3f5f",
             "gridcolor": "white",
             "linecolor": "white",
             "minorgridcolor": "white",
             "startlinecolor": "#2a3f5f"
            },
            "baxis": {
             "endlinecolor": "#2a3f5f",
             "gridcolor": "white",
             "linecolor": "white",
             "minorgridcolor": "white",
             "startlinecolor": "#2a3f5f"
            },
            "type": "carpet"
           }
          ],
          "choropleth": [
           {
            "colorbar": {
             "outlinewidth": 0,
             "ticks": ""
            },
            "type": "choropleth"
           }
          ],
          "contour": [
           {
            "colorbar": {
             "outlinewidth": 0,
             "ticks": ""
            },
            "colorscale": [
             [
              0,
              "#0d0887"
             ],
             [
              0.1111111111111111,
              "#46039f"
             ],
             [
              0.2222222222222222,
              "#7201a8"
             ],
             [
              0.3333333333333333,
              "#9c179e"
             ],
             [
              0.4444444444444444,
              "#bd3786"
             ],
             [
              0.5555555555555556,
              "#d8576b"
             ],
             [
              0.6666666666666666,
              "#ed7953"
             ],
             [
              0.7777777777777778,
              "#fb9f3a"
             ],
             [
              0.8888888888888888,
              "#fdca26"
             ],
             [
              1,
              "#f0f921"
             ]
            ],
            "type": "contour"
           }
          ],
          "contourcarpet": [
           {
            "colorbar": {
             "outlinewidth": 0,
             "ticks": ""
            },
            "type": "contourcarpet"
           }
          ],
          "heatmap": [
           {
            "colorbar": {
             "outlinewidth": 0,
             "ticks": ""
            },
            "colorscale": [
             [
              0,
              "#0d0887"
             ],
             [
              0.1111111111111111,
              "#46039f"
             ],
             [
              0.2222222222222222,
              "#7201a8"
             ],
             [
              0.3333333333333333,
              "#9c179e"
             ],
             [
              0.4444444444444444,
              "#bd3786"
             ],
             [
              0.5555555555555556,
              "#d8576b"
             ],
             [
              0.6666666666666666,
              "#ed7953"
             ],
             [
              0.7777777777777778,
              "#fb9f3a"
             ],
             [
              0.8888888888888888,
              "#fdca26"
             ],
             [
              1,
              "#f0f921"
             ]
            ],
            "type": "heatmap"
           }
          ],
          "heatmapgl": [
           {
            "colorbar": {
             "outlinewidth": 0,
             "ticks": ""
            },
            "colorscale": [
             [
              0,
              "#0d0887"
             ],
             [
              0.1111111111111111,
              "#46039f"
             ],
             [
              0.2222222222222222,
              "#7201a8"
             ],
             [
              0.3333333333333333,
              "#9c179e"
             ],
             [
              0.4444444444444444,
              "#bd3786"
             ],
             [
              0.5555555555555556,
              "#d8576b"
             ],
             [
              0.6666666666666666,
              "#ed7953"
             ],
             [
              0.7777777777777778,
              "#fb9f3a"
             ],
             [
              0.8888888888888888,
              "#fdca26"
             ],
             [
              1,
              "#f0f921"
             ]
            ],
            "type": "heatmapgl"
           }
          ],
          "histogram": [
           {
            "marker": {
             "colorbar": {
              "outlinewidth": 0,
              "ticks": ""
             }
            },
            "type": "histogram"
           }
          ],
          "histogram2d": [
           {
            "colorbar": {
             "outlinewidth": 0,
             "ticks": ""
            },
            "colorscale": [
             [
              0,
              "#0d0887"
             ],
             [
              0.1111111111111111,
              "#46039f"
             ],
             [
              0.2222222222222222,
              "#7201a8"
             ],
             [
              0.3333333333333333,
              "#9c179e"
             ],
             [
              0.4444444444444444,
              "#bd3786"
             ],
             [
              0.5555555555555556,
              "#d8576b"
             ],
             [
              0.6666666666666666,
              "#ed7953"
             ],
             [
              0.7777777777777778,
              "#fb9f3a"
             ],
             [
              0.8888888888888888,
              "#fdca26"
             ],
             [
              1,
              "#f0f921"
             ]
            ],
            "type": "histogram2d"
           }
          ],
          "histogram2dcontour": [
           {
            "colorbar": {
             "outlinewidth": 0,
             "ticks": ""
            },
            "colorscale": [
             [
              0,
              "#0d0887"
             ],
             [
              0.1111111111111111,
              "#46039f"
             ],
             [
              0.2222222222222222,
              "#7201a8"
             ],
             [
              0.3333333333333333,
              "#9c179e"
             ],
             [
              0.4444444444444444,
              "#bd3786"
             ],
             [
              0.5555555555555556,
              "#d8576b"
             ],
             [
              0.6666666666666666,
              "#ed7953"
             ],
             [
              0.7777777777777778,
              "#fb9f3a"
             ],
             [
              0.8888888888888888,
              "#fdca26"
             ],
             [
              1,
              "#f0f921"
             ]
            ],
            "type": "histogram2dcontour"
           }
          ],
          "mesh3d": [
           {
            "colorbar": {
             "outlinewidth": 0,
             "ticks": ""
            },
            "type": "mesh3d"
           }
          ],
          "parcoords": [
           {
            "line": {
             "colorbar": {
              "outlinewidth": 0,
              "ticks": ""
             }
            },
            "type": "parcoords"
           }
          ],
          "pie": [
           {
            "automargin": true,
            "type": "pie"
           }
          ],
          "scatter": [
           {
            "marker": {
             "colorbar": {
              "outlinewidth": 0,
              "ticks": ""
             }
            },
            "type": "scatter"
           }
          ],
          "scatter3d": [
           {
            "line": {
             "colorbar": {
              "outlinewidth": 0,
              "ticks": ""
             }
            },
            "marker": {
             "colorbar": {
              "outlinewidth": 0,
              "ticks": ""
             }
            },
            "type": "scatter3d"
           }
          ],
          "scattercarpet": [
           {
            "marker": {
             "colorbar": {
              "outlinewidth": 0,
              "ticks": ""
             }
            },
            "type": "scattercarpet"
           }
          ],
          "scattergeo": [
           {
            "marker": {
             "colorbar": {
              "outlinewidth": 0,
              "ticks": ""
             }
            },
            "type": "scattergeo"
           }
          ],
          "scattergl": [
           {
            "marker": {
             "colorbar": {
              "outlinewidth": 0,
              "ticks": ""
             }
            },
            "type": "scattergl"
           }
          ],
          "scattermapbox": [
           {
            "marker": {
             "colorbar": {
              "outlinewidth": 0,
              "ticks": ""
             }
            },
            "type": "scattermapbox"
           }
          ],
          "scatterpolar": [
           {
            "marker": {
             "colorbar": {
              "outlinewidth": 0,
              "ticks": ""
             }
            },
            "type": "scatterpolar"
           }
          ],
          "scatterpolargl": [
           {
            "marker": {
             "colorbar": {
              "outlinewidth": 0,
              "ticks": ""
             }
            },
            "type": "scatterpolargl"
           }
          ],
          "scatterternary": [
           {
            "marker": {
             "colorbar": {
              "outlinewidth": 0,
              "ticks": ""
             }
            },
            "type": "scatterternary"
           }
          ],
          "surface": [
           {
            "colorbar": {
             "outlinewidth": 0,
             "ticks": ""
            },
            "colorscale": [
             [
              0,
              "#0d0887"
             ],
             [
              0.1111111111111111,
              "#46039f"
             ],
             [
              0.2222222222222222,
              "#7201a8"
             ],
             [
              0.3333333333333333,
              "#9c179e"
             ],
             [
              0.4444444444444444,
              "#bd3786"
             ],
             [
              0.5555555555555556,
              "#d8576b"
             ],
             [
              0.6666666666666666,
              "#ed7953"
             ],
             [
              0.7777777777777778,
              "#fb9f3a"
             ],
             [
              0.8888888888888888,
              "#fdca26"
             ],
             [
              1,
              "#f0f921"
             ]
            ],
            "type": "surface"
           }
          ],
          "table": [
           {
            "cells": {
             "fill": {
              "color": "#EBF0F8"
             },
             "line": {
              "color": "white"
             }
            },
            "header": {
             "fill": {
              "color": "#C8D4E3"
             },
             "line": {
              "color": "white"
             }
            },
            "type": "table"
           }
          ]
         },
         "layout": {
          "annotationdefaults": {
           "arrowcolor": "#2a3f5f",
           "arrowhead": 0,
           "arrowwidth": 1
          },
          "autotypenumbers": "strict",
          "coloraxis": {
           "colorbar": {
            "outlinewidth": 0,
            "ticks": ""
           }
          },
          "colorscale": {
           "diverging": [
            [
             0,
             "#8e0152"
            ],
            [
             0.1,
             "#c51b7d"
            ],
            [
             0.2,
             "#de77ae"
            ],
            [
             0.3,
             "#f1b6da"
            ],
            [
             0.4,
             "#fde0ef"
            ],
            [
             0.5,
             "#f7f7f7"
            ],
            [
             0.6,
             "#e6f5d0"
            ],
            [
             0.7,
             "#b8e186"
            ],
            [
             0.8,
             "#7fbc41"
            ],
            [
             0.9,
             "#4d9221"
            ],
            [
             1,
             "#276419"
            ]
           ],
           "sequential": [
            [
             0,
             "#0d0887"
            ],
            [
             0.1111111111111111,
             "#46039f"
            ],
            [
             0.2222222222222222,
             "#7201a8"
            ],
            [
             0.3333333333333333,
             "#9c179e"
            ],
            [
             0.4444444444444444,
             "#bd3786"
            ],
            [
             0.5555555555555556,
             "#d8576b"
            ],
            [
             0.6666666666666666,
             "#ed7953"
            ],
            [
             0.7777777777777778,
             "#fb9f3a"
            ],
            [
             0.8888888888888888,
             "#fdca26"
            ],
            [
             1,
             "#f0f921"
            ]
           ],
           "sequentialminus": [
            [
             0,
             "#0d0887"
            ],
            [
             0.1111111111111111,
             "#46039f"
            ],
            [
             0.2222222222222222,
             "#7201a8"
            ],
            [
             0.3333333333333333,
             "#9c179e"
            ],
            [
             0.4444444444444444,
             "#bd3786"
            ],
            [
             0.5555555555555556,
             "#d8576b"
            ],
            [
             0.6666666666666666,
             "#ed7953"
            ],
            [
             0.7777777777777778,
             "#fb9f3a"
            ],
            [
             0.8888888888888888,
             "#fdca26"
            ],
            [
             1,
             "#f0f921"
            ]
           ]
          },
          "colorway": [
           "#636efa",
           "#EF553B",
           "#00cc96",
           "#ab63fa",
           "#FFA15A",
           "#19d3f3",
           "#FF6692",
           "#B6E880",
           "#FF97FF",
           "#FECB52"
          ],
          "font": {
           "color": "#2a3f5f"
          },
          "geo": {
           "bgcolor": "white",
           "lakecolor": "white",
           "landcolor": "#E5ECF6",
           "showlakes": true,
           "showland": true,
           "subunitcolor": "white"
          },
          "hoverlabel": {
           "align": "left"
          },
          "hovermode": "closest",
          "mapbox": {
           "style": "light"
          },
          "paper_bgcolor": "white",
          "plot_bgcolor": "#E5ECF6",
          "polar": {
           "angularaxis": {
            "gridcolor": "white",
            "linecolor": "white",
            "ticks": ""
           },
           "bgcolor": "#E5ECF6",
           "radialaxis": {
            "gridcolor": "white",
            "linecolor": "white",
            "ticks": ""
           }
          },
          "scene": {
           "xaxis": {
            "backgroundcolor": "#E5ECF6",
            "gridcolor": "white",
            "gridwidth": 2,
            "linecolor": "white",
            "showbackground": true,
            "ticks": "",
            "zerolinecolor": "white"
           },
           "yaxis": {
            "backgroundcolor": "#E5ECF6",
            "gridcolor": "white",
            "gridwidth": 2,
            "linecolor": "white",
            "showbackground": true,
            "ticks": "",
            "zerolinecolor": "white"
           },
           "zaxis": {
            "backgroundcolor": "#E5ECF6",
            "gridcolor": "white",
            "gridwidth": 2,
            "linecolor": "white",
            "showbackground": true,
            "ticks": "",
            "zerolinecolor": "white"
           }
          },
          "shapedefaults": {
           "line": {
            "color": "#2a3f5f"
           }
          },
          "ternary": {
           "aaxis": {
            "gridcolor": "white",
            "linecolor": "white",
            "ticks": ""
           },
           "baxis": {
            "gridcolor": "white",
            "linecolor": "white",
            "ticks": ""
           },
           "bgcolor": "#E5ECF6",
           "caxis": {
            "gridcolor": "white",
            "linecolor": "white",
            "ticks": ""
           }
          },
          "title": {
           "x": 0.05
          },
          "xaxis": {
           "automargin": true,
           "gridcolor": "white",
           "linecolor": "white",
           "ticks": "",
           "title": {
            "standoff": 15
           },
           "zerolinecolor": "white",
           "zerolinewidth": 2
          },
          "yaxis": {
           "automargin": true,
           "gridcolor": "white",
           "linecolor": "white",
           "ticks": "",
           "title": {
            "standoff": 15
           },
           "zerolinecolor": "white",
           "zerolinewidth": 2
          }
         }
        }
       }
      },
      "text/html": [
       "<div>                            <div id=\"65769446-fb0d-4e2e-9b2d-3cec215c800c\" class=\"plotly-graph-div\" style=\"height:525px; width:100%;\"></div>            <script type=\"text/javascript\">                require([\"plotly\"], function(Plotly) {                    window.PLOTLYENV=window.PLOTLYENV || {};                                    if (document.getElementById(\"65769446-fb0d-4e2e-9b2d-3cec215c800c\")) {                    Plotly.newPlot(                        \"65769446-fb0d-4e2e-9b2d-3cec215c800c\",                        [{\"marker\": {\"color\": \"Blue\"}, \"mode\": \"lines+markers\", \"type\": \"scatter\", \"x\": [0, 1, 2, 3, 4], \"y\": [0.25138617307978106, 0.8606944154923464, 0.7361749405008828, 0.5424749750905181, 0.651817732693429]}, {\"marker\": {\"color\": \"Blue\"}, \"mode\": \"lines+markers\", \"type\": \"scatter\", \"x\": [0, 1, 2, 3, 4], \"y\": [0.3362346483254467, 0.9794274884881159, 0.17531273058604957, 0.32655483635216886, 0.03297133876987135]}, {\"marker\": {\"color\": \"Blue\"}, \"mode\": \"lines+markers\", \"type\": \"scatter\", \"x\": [0, 1, 2, 3, 4], \"y\": [0.0221055337572591, 0.21747014153965116, 0.3294508302377559, 0.9219045582510778, 0.5402894439842572]}, {\"marker\": {\"color\": \"Blue\"}, \"mode\": \"lines+markers\", \"type\": \"scatter\", \"x\": [0, 1, 2, 3, 4], \"y\": [0.7449625353365856, 0.7389294616827203, 0.9368860980891521, 0.9281110508689474, 0.7742591166661063]}, {\"marker\": {\"color\": \"Blue\"}, \"mode\": \"lines+markers\", \"type\": \"scatter\", \"x\": [0, 1, 2, 3, 4], \"y\": [0.5676529019125209, 0.1453921988405984, 0.18099782360583827, 0.9314900422088901, 0.539623006417021]}, {\"marker\": {\"color\": \"Blue\"}, \"mode\": \"lines+markers\", \"type\": \"scatter\", \"x\": [0, 1, 2, 3, 4], \"y\": [0.7013478720570059, 0.16775653315087147, 0.9854773131962519, 0.12262704620584108, 0.022568857071204373]}, {\"marker\": {\"color\": \"Blue\"}, \"mode\": \"lines+markers\", \"type\": \"scatter\", \"x\": [0, 1, 2, 3, 4], \"y\": [0.9083613116147852, 0.5803142636067817, 0.6682756526124964, 0.5375217947716472, 0.09779620235516606]}, {\"marker\": {\"color\": \"Blue\"}, \"mode\": \"lines+markers\", \"type\": \"scatter\", \"x\": [0, 1, 2, 3, 4], \"y\": [0.9811254403187517, 0.22613194445244167, 0.06217802182065513, 0.9715751389577925, 0.40180145749718754]}, {\"marker\": {\"color\": \"Blue\"}, \"mode\": \"lines+markers\", \"type\": \"scatter\", \"x\": [0, 1, 2, 3, 4], \"y\": [0.3134372635698368, 0.5587928227140182, 0.04334521616558684, 0.6221600429809745, 0.5472758607418778]}, {\"marker\": {\"color\": \"Blue\"}, \"mode\": \"lines+markers\", \"type\": \"scatter\", \"x\": [0, 1, 2, 3, 4], \"y\": [0.19079815608460282, 0.09480997499806965, 0.9961489775051182, 0.7239904276339884, 0.5235164002220589]}, {\"marker\": {\"color\": \"Red\"}, \"mode\": \"lines+markers\", \"type\": \"scatter\", \"x\": [0, 1, 2, 3, 4], \"y\": [0.9083613116147852, 0.5803142636067817, 0.6682756526124964, 0.5375217947716472, 0.09779620235516606]}, {\"marker\": {\"color\": \"Red\"}, \"mode\": \"lines+markers\", \"type\": \"scatter\", \"x\": [0, 1, 2, 3, 4], \"y\": [0.5676529019125209, 0.1453921988405984, 0.18099782360583827, 0.9314900422088901, 0.539623006417021]}, {\"marker\": {\"color\": \"Red\"}, \"mode\": \"lines+markers\", \"type\": \"scatter\", \"x\": [0, 1, 2, 3, 4], \"y\": [0.25138617307978106, 0.8606944154923464, 0.7361749405008828, 0.5424749750905181, 0.651817732693429]}],                        {\"showlegend\": false, \"template\": {\"data\": {\"bar\": [{\"error_x\": {\"color\": \"#2a3f5f\"}, \"error_y\": {\"color\": \"#2a3f5f\"}, \"marker\": {\"line\": {\"color\": \"#E5ECF6\", \"width\": 0.5}}, \"type\": \"bar\"}], \"barpolar\": [{\"marker\": {\"line\": {\"color\": \"#E5ECF6\", \"width\": 0.5}}, \"type\": \"barpolar\"}], \"carpet\": [{\"aaxis\": {\"endlinecolor\": \"#2a3f5f\", \"gridcolor\": \"white\", \"linecolor\": \"white\", \"minorgridcolor\": \"white\", \"startlinecolor\": \"#2a3f5f\"}, \"baxis\": {\"endlinecolor\": \"#2a3f5f\", \"gridcolor\": \"white\", \"linecolor\": \"white\", \"minorgridcolor\": \"white\", \"startlinecolor\": \"#2a3f5f\"}, \"type\": \"carpet\"}], \"choropleth\": [{\"colorbar\": {\"outlinewidth\": 0, \"ticks\": \"\"}, \"type\": \"choropleth\"}], \"contour\": [{\"colorbar\": {\"outlinewidth\": 0, \"ticks\": \"\"}, \"colorscale\": [[0.0, \"#0d0887\"], [0.1111111111111111, \"#46039f\"], [0.2222222222222222, \"#7201a8\"], [0.3333333333333333, \"#9c179e\"], [0.4444444444444444, \"#bd3786\"], [0.5555555555555556, \"#d8576b\"], [0.6666666666666666, \"#ed7953\"], [0.7777777777777778, \"#fb9f3a\"], [0.8888888888888888, \"#fdca26\"], [1.0, \"#f0f921\"]], \"type\": \"contour\"}], \"contourcarpet\": [{\"colorbar\": {\"outlinewidth\": 0, \"ticks\": \"\"}, \"type\": \"contourcarpet\"}], \"heatmap\": [{\"colorbar\": {\"outlinewidth\": 0, \"ticks\": \"\"}, \"colorscale\": [[0.0, \"#0d0887\"], [0.1111111111111111, \"#46039f\"], [0.2222222222222222, \"#7201a8\"], [0.3333333333333333, \"#9c179e\"], [0.4444444444444444, \"#bd3786\"], [0.5555555555555556, \"#d8576b\"], [0.6666666666666666, \"#ed7953\"], [0.7777777777777778, \"#fb9f3a\"], [0.8888888888888888, \"#fdca26\"], [1.0, \"#f0f921\"]], \"type\": \"heatmap\"}], \"heatmapgl\": [{\"colorbar\": {\"outlinewidth\": 0, \"ticks\": \"\"}, \"colorscale\": [[0.0, \"#0d0887\"], [0.1111111111111111, \"#46039f\"], [0.2222222222222222, \"#7201a8\"], [0.3333333333333333, \"#9c179e\"], [0.4444444444444444, \"#bd3786\"], [0.5555555555555556, \"#d8576b\"], [0.6666666666666666, \"#ed7953\"], [0.7777777777777778, \"#fb9f3a\"], [0.8888888888888888, \"#fdca26\"], [1.0, \"#f0f921\"]], \"type\": \"heatmapgl\"}], \"histogram\": [{\"marker\": {\"colorbar\": {\"outlinewidth\": 0, \"ticks\": \"\"}}, \"type\": \"histogram\"}], \"histogram2d\": [{\"colorbar\": {\"outlinewidth\": 0, \"ticks\": \"\"}, \"colorscale\": [[0.0, \"#0d0887\"], [0.1111111111111111, \"#46039f\"], [0.2222222222222222, \"#7201a8\"], [0.3333333333333333, \"#9c179e\"], [0.4444444444444444, \"#bd3786\"], [0.5555555555555556, \"#d8576b\"], [0.6666666666666666, \"#ed7953\"], [0.7777777777777778, \"#fb9f3a\"], [0.8888888888888888, \"#fdca26\"], [1.0, \"#f0f921\"]], \"type\": \"histogram2d\"}], \"histogram2dcontour\": [{\"colorbar\": {\"outlinewidth\": 0, \"ticks\": \"\"}, \"colorscale\": [[0.0, \"#0d0887\"], [0.1111111111111111, \"#46039f\"], [0.2222222222222222, \"#7201a8\"], [0.3333333333333333, \"#9c179e\"], [0.4444444444444444, \"#bd3786\"], [0.5555555555555556, \"#d8576b\"], [0.6666666666666666, \"#ed7953\"], [0.7777777777777778, \"#fb9f3a\"], [0.8888888888888888, \"#fdca26\"], [1.0, \"#f0f921\"]], \"type\": \"histogram2dcontour\"}], \"mesh3d\": [{\"colorbar\": {\"outlinewidth\": 0, \"ticks\": \"\"}, \"type\": \"mesh3d\"}], \"parcoords\": [{\"line\": {\"colorbar\": {\"outlinewidth\": 0, \"ticks\": \"\"}}, \"type\": \"parcoords\"}], \"pie\": [{\"automargin\": true, \"type\": \"pie\"}], \"scatter\": [{\"marker\": {\"colorbar\": {\"outlinewidth\": 0, \"ticks\": \"\"}}, \"type\": \"scatter\"}], \"scatter3d\": [{\"line\": {\"colorbar\": {\"outlinewidth\": 0, \"ticks\": \"\"}}, \"marker\": {\"colorbar\": {\"outlinewidth\": 0, \"ticks\": \"\"}}, \"type\": \"scatter3d\"}], \"scattercarpet\": [{\"marker\": {\"colorbar\": {\"outlinewidth\": 0, \"ticks\": \"\"}}, \"type\": \"scattercarpet\"}], \"scattergeo\": [{\"marker\": {\"colorbar\": {\"outlinewidth\": 0, \"ticks\": \"\"}}, \"type\": \"scattergeo\"}], \"scattergl\": [{\"marker\": {\"colorbar\": {\"outlinewidth\": 0, \"ticks\": \"\"}}, \"type\": \"scattergl\"}], \"scattermapbox\": [{\"marker\": {\"colorbar\": {\"outlinewidth\": 0, \"ticks\": \"\"}}, \"type\": \"scattermapbox\"}], \"scatterpolar\": [{\"marker\": {\"colorbar\": {\"outlinewidth\": 0, \"ticks\": \"\"}}, \"type\": \"scatterpolar\"}], \"scatterpolargl\": [{\"marker\": {\"colorbar\": {\"outlinewidth\": 0, \"ticks\": \"\"}}, \"type\": \"scatterpolargl\"}], \"scatterternary\": [{\"marker\": {\"colorbar\": {\"outlinewidth\": 0, \"ticks\": \"\"}}, \"type\": \"scatterternary\"}], \"surface\": [{\"colorbar\": {\"outlinewidth\": 0, \"ticks\": \"\"}, \"colorscale\": [[0.0, \"#0d0887\"], [0.1111111111111111, \"#46039f\"], [0.2222222222222222, \"#7201a8\"], [0.3333333333333333, \"#9c179e\"], [0.4444444444444444, \"#bd3786\"], [0.5555555555555556, \"#d8576b\"], [0.6666666666666666, \"#ed7953\"], [0.7777777777777778, \"#fb9f3a\"], [0.8888888888888888, \"#fdca26\"], [1.0, \"#f0f921\"]], \"type\": \"surface\"}], \"table\": [{\"cells\": {\"fill\": {\"color\": \"#EBF0F8\"}, \"line\": {\"color\": \"white\"}}, \"header\": {\"fill\": {\"color\": \"#C8D4E3\"}, \"line\": {\"color\": \"white\"}}, \"type\": \"table\"}]}, \"layout\": {\"annotationdefaults\": {\"arrowcolor\": \"#2a3f5f\", \"arrowhead\": 0, \"arrowwidth\": 1}, \"autotypenumbers\": \"strict\", \"coloraxis\": {\"colorbar\": {\"outlinewidth\": 0, \"ticks\": \"\"}}, \"colorscale\": {\"diverging\": [[0, \"#8e0152\"], [0.1, \"#c51b7d\"], [0.2, \"#de77ae\"], [0.3, \"#f1b6da\"], [0.4, \"#fde0ef\"], [0.5, \"#f7f7f7\"], [0.6, \"#e6f5d0\"], [0.7, \"#b8e186\"], [0.8, \"#7fbc41\"], [0.9, \"#4d9221\"], [1, \"#276419\"]], \"sequential\": [[0.0, \"#0d0887\"], [0.1111111111111111, \"#46039f\"], [0.2222222222222222, \"#7201a8\"], [0.3333333333333333, \"#9c179e\"], [0.4444444444444444, \"#bd3786\"], [0.5555555555555556, \"#d8576b\"], [0.6666666666666666, \"#ed7953\"], [0.7777777777777778, \"#fb9f3a\"], [0.8888888888888888, \"#fdca26\"], [1.0, \"#f0f921\"]], \"sequentialminus\": [[0.0, \"#0d0887\"], [0.1111111111111111, \"#46039f\"], [0.2222222222222222, \"#7201a8\"], [0.3333333333333333, \"#9c179e\"], [0.4444444444444444, \"#bd3786\"], [0.5555555555555556, \"#d8576b\"], [0.6666666666666666, \"#ed7953\"], [0.7777777777777778, \"#fb9f3a\"], [0.8888888888888888, \"#fdca26\"], [1.0, \"#f0f921\"]]}, \"colorway\": [\"#636efa\", \"#EF553B\", \"#00cc96\", \"#ab63fa\", \"#FFA15A\", \"#19d3f3\", \"#FF6692\", \"#B6E880\", \"#FF97FF\", \"#FECB52\"], \"font\": {\"color\": \"#2a3f5f\"}, \"geo\": {\"bgcolor\": \"white\", \"lakecolor\": \"white\", \"landcolor\": \"#E5ECF6\", \"showlakes\": true, \"showland\": true, \"subunitcolor\": \"white\"}, \"hoverlabel\": {\"align\": \"left\"}, \"hovermode\": \"closest\", \"mapbox\": {\"style\": \"light\"}, \"paper_bgcolor\": \"white\", \"plot_bgcolor\": \"#E5ECF6\", \"polar\": {\"angularaxis\": {\"gridcolor\": \"white\", \"linecolor\": \"white\", \"ticks\": \"\"}, \"bgcolor\": \"#E5ECF6\", \"radialaxis\": {\"gridcolor\": \"white\", \"linecolor\": \"white\", \"ticks\": \"\"}}, \"scene\": {\"xaxis\": {\"backgroundcolor\": \"#E5ECF6\", \"gridcolor\": \"white\", \"gridwidth\": 2, \"linecolor\": \"white\", \"showbackground\": true, \"ticks\": \"\", \"zerolinecolor\": \"white\"}, \"yaxis\": {\"backgroundcolor\": \"#E5ECF6\", \"gridcolor\": \"white\", \"gridwidth\": 2, \"linecolor\": \"white\", \"showbackground\": true, \"ticks\": \"\", \"zerolinecolor\": \"white\"}, \"zaxis\": {\"backgroundcolor\": \"#E5ECF6\", \"gridcolor\": \"white\", \"gridwidth\": 2, \"linecolor\": \"white\", \"showbackground\": true, \"ticks\": \"\", \"zerolinecolor\": \"white\"}}, \"shapedefaults\": {\"line\": {\"color\": \"#2a3f5f\"}}, \"ternary\": {\"aaxis\": {\"gridcolor\": \"white\", \"linecolor\": \"white\", \"ticks\": \"\"}, \"baxis\": {\"gridcolor\": \"white\", \"linecolor\": \"white\", \"ticks\": \"\"}, \"bgcolor\": \"#E5ECF6\", \"caxis\": {\"gridcolor\": \"white\", \"linecolor\": \"white\", \"ticks\": \"\"}}, \"title\": {\"x\": 0.05}, \"xaxis\": {\"automargin\": true, \"gridcolor\": \"white\", \"linecolor\": \"white\", \"ticks\": \"\", \"title\": {\"standoff\": 15}, \"zerolinecolor\": \"white\", \"zerolinewidth\": 2}, \"yaxis\": {\"automargin\": true, \"gridcolor\": \"white\", \"linecolor\": \"white\", \"ticks\": \"\", \"title\": {\"standoff\": 15}, \"zerolinecolor\": \"white\", \"zerolinewidth\": 2}}}},                        {\"responsive\": true}                    ).then(function(){\n",
       "                            \n",
       "var gd = document.getElementById('65769446-fb0d-4e2e-9b2d-3cec215c800c');\n",
       "var x = new MutationObserver(function (mutations, observer) {{\n",
       "        var display = window.getComputedStyle(gd).display;\n",
       "        if (!display || display === 'none') {{\n",
       "            console.log([gd, 'removed!']);\n",
       "            Plotly.purge(gd);\n",
       "            observer.disconnect();\n",
       "        }}\n",
       "}});\n",
       "\n",
       "// Listen for the removal of the full notebook cells\n",
       "var notebookContainer = gd.closest('#notebook-container');\n",
       "if (notebookContainer) {{\n",
       "    x.observe(notebookContainer, {childList: true});\n",
       "}}\n",
       "\n",
       "// Listen for the clearing of the current output cell\n",
       "var outputEl = gd.closest('.output');\n",
       "if (outputEl) {{\n",
       "    x.observe(outputEl, {childList: true});\n",
       "}}\n",
       "\n",
       "                        })                };                });            </script>        </div>"
      ]
     },
     "metadata": {},
     "output_type": "display_data"
    }
   ],
   "source": [
    "_plot(df=df, deep_or_outlying=bd.deepest(n=3))"
   ]
  },
  {
   "cell_type": "code",
   "execution_count": 29,
   "metadata": {},
   "outputs": [
    {
     "data": {
      "text/plain": [
       "0    0.908361\n",
       "1    0.580314\n",
       "2    0.668276\n",
       "3    0.537522\n",
       "4    0.097796\n",
       "Name: 6, dtype: float64"
      ]
     },
     "execution_count": 29,
     "metadata": {},
     "output_type": "execute_result"
    }
   ],
   "source": [
    "df.loc[:, 6]"
   ]
  },
  {
   "cell_type": "code",
   "execution_count": 30,
   "metadata": {},
   "outputs": [
    {
     "data": {
      "text/html": [
       "<div>\n",
       "<style scoped>\n",
       "    .dataframe tbody tr th:only-of-type {\n",
       "        vertical-align: middle;\n",
       "    }\n",
       "\n",
       "    .dataframe tbody tr th {\n",
       "        vertical-align: top;\n",
       "    }\n",
       "\n",
       "    .dataframe thead th {\n",
       "        text-align: right;\n",
       "    }\n",
       "</style>\n",
       "<table border=\"1\" class=\"dataframe\">\n",
       "  <thead>\n",
       "    <tr style=\"text-align: right;\">\n",
       "      <th></th>\n",
       "      <th>0</th>\n",
       "      <th>1</th>\n",
       "      <th>2</th>\n",
       "      <th>3</th>\n",
       "      <th>4</th>\n",
       "      <th>5</th>\n",
       "      <th>6</th>\n",
       "      <th>7</th>\n",
       "      <th>8</th>\n",
       "      <th>9</th>\n",
       "    </tr>\n",
       "  </thead>\n",
       "  <tbody>\n",
       "    <tr>\n",
       "      <th>0</th>\n",
       "      <td>0.251386</td>\n",
       "      <td>0.336235</td>\n",
       "      <td>0.022106</td>\n",
       "      <td>0.744963</td>\n",
       "      <td>0.567653</td>\n",
       "      <td>0.701348</td>\n",
       "      <td>0.908361</td>\n",
       "      <td>0.981125</td>\n",
       "      <td>0.313437</td>\n",
       "      <td>0.190798</td>\n",
       "    </tr>\n",
       "    <tr>\n",
       "      <th>1</th>\n",
       "      <td>0.860694</td>\n",
       "      <td>0.979427</td>\n",
       "      <td>0.217470</td>\n",
       "      <td>0.738929</td>\n",
       "      <td>0.145392</td>\n",
       "      <td>0.167757</td>\n",
       "      <td>0.580314</td>\n",
       "      <td>0.226132</td>\n",
       "      <td>0.558793</td>\n",
       "      <td>0.094810</td>\n",
       "    </tr>\n",
       "    <tr>\n",
       "      <th>2</th>\n",
       "      <td>0.736175</td>\n",
       "      <td>0.175313</td>\n",
       "      <td>0.329451</td>\n",
       "      <td>0.936886</td>\n",
       "      <td>0.180998</td>\n",
       "      <td>0.985477</td>\n",
       "      <td>0.668276</td>\n",
       "      <td>0.062178</td>\n",
       "      <td>0.043345</td>\n",
       "      <td>0.996149</td>\n",
       "    </tr>\n",
       "    <tr>\n",
       "      <th>3</th>\n",
       "      <td>0.542475</td>\n",
       "      <td>0.326555</td>\n",
       "      <td>0.921905</td>\n",
       "      <td>0.928111</td>\n",
       "      <td>0.931490</td>\n",
       "      <td>0.122627</td>\n",
       "      <td>0.537522</td>\n",
       "      <td>0.971575</td>\n",
       "      <td>0.622160</td>\n",
       "      <td>0.723990</td>\n",
       "    </tr>\n",
       "    <tr>\n",
       "      <th>4</th>\n",
       "      <td>0.651818</td>\n",
       "      <td>0.032971</td>\n",
       "      <td>0.540289</td>\n",
       "      <td>0.774259</td>\n",
       "      <td>0.539623</td>\n",
       "      <td>0.022569</td>\n",
       "      <td>0.097796</td>\n",
       "      <td>0.401801</td>\n",
       "      <td>0.547276</td>\n",
       "      <td>0.523516</td>\n",
       "    </tr>\n",
       "  </tbody>\n",
       "</table>\n",
       "</div>"
      ],
      "text/plain": [
       "          0         1         2         3         4         5         6  \\\n",
       "0  0.251386  0.336235  0.022106  0.744963  0.567653  0.701348  0.908361   \n",
       "1  0.860694  0.979427  0.217470  0.738929  0.145392  0.167757  0.580314   \n",
       "2  0.736175  0.175313  0.329451  0.936886  0.180998  0.985477  0.668276   \n",
       "3  0.542475  0.326555  0.921905  0.928111  0.931490  0.122627  0.537522   \n",
       "4  0.651818  0.032971  0.540289  0.774259  0.539623  0.022569  0.097796   \n",
       "\n",
       "          7         8         9  \n",
       "0  0.981125  0.313437  0.190798  \n",
       "1  0.226132  0.558793  0.094810  \n",
       "2  0.062178  0.043345  0.996149  \n",
       "3  0.971575  0.622160  0.723990  \n",
       "4  0.401801  0.547276  0.523516  "
      ]
     },
     "execution_count": 30,
     "metadata": {},
     "output_type": "execute_result"
    }
   ],
   "source": [
    "df"
   ]
  }
 ],
 "metadata": {
  "kernelspec": {
   "display_name": "basedatascience",
   "language": "python",
   "name": "basedatascience"
  },
  "language_info": {
   "codemirror_mode": {
    "name": "ipython",
    "version": 3
   },
   "file_extension": ".py",
   "mimetype": "text/x-python",
   "name": "python",
   "nbconvert_exporter": "python",
   "pygments_lexer": "ipython3",
   "version": "3.8.5"
  }
 },
 "nbformat": 4,
 "nbformat_minor": 4
}
