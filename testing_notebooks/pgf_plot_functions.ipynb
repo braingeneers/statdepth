{
 "cells": [
  {
   "cell_type": "markdown",
   "metadata": {},
   "source": [
    "# PGF plot generation\n",
    "\n",
    "In this notebook, we'll rerwite the plot generation functions using `matplotlib` so they can be exported to pgf."
   ]
  },
  {
   "cell_type": "code",
   "execution_count": 3,
   "metadata": {},
   "outputs": [],
   "source": [
    "import pandas as pd \n",
    "import numpy as np\n",
    "import matplotlib\n",
    "import matplotlib.pyplot as plt \n",
    "\n",
    "matplotlib.use(\"pgf\")\n",
    "matplotlib.rcParams.update({\n",
    "    \"pgf.texsystem\": \"pdflatex\",\n",
    "    'font.family': 'serif',\n",
    "    'text.usetex': True,\n",
    "    'pgf.rcfonts': False,\n",
    "})"
   ]
  },
  {
   "cell_type": "markdown",
   "metadata": {},
   "source": [
    "First, we write a function that plots the N deepest curves in red and the rest in blue."
   ]
  },
  {
   "cell_type": "code",
   "execution_count": 27,
   "metadata": {},
   "outputs": [],
   "source": [
    "def plot(d, n, loc, title=None, fontsize=10):\n",
    "    '''\n",
    "    Sets pyplot to plot n deepest curves in red and the rest in blue.\n",
    "    \n",
    "    Parameters:\n",
    "    d: FunctionalDepth object\n",
    "    n: Number of functions to plot in red\n",
    "    loc: pyplot axes\n",
    "    title: plot title, if specified\n",
    "    '''\n",
    "    \n",
    "    for c in np.array(d.get_data().drop(d.get_deep_data(n=n).columns, axis=1).T):\n",
    "        loc.plot(\n",
    "            d._orig_data.index,\n",
    "            c,\n",
    "            \"#6ea8ff\",\n",
    "            linewidth=.2\n",
    "        )\n",
    "        \n",
    "    for c in np.array(d.get_deep_data(n=n).T): #Plot n deepest curves\n",
    "        loc.plot(\n",
    "            d._orig_data.index, \n",
    "            c,\n",
    "            \"r\",\n",
    "            linewidth=.3\n",
    "        )\n",
    "\n",
    "    loc.set_title(title, fontsize=fontsize, y=0)"
   ]
  },
  {
   "cell_type": "code",
   "execution_count": 14,
   "metadata": {},
   "outputs": [
    {
     "name": "stderr",
     "output_type": "stream",
     "text": [
      "100%|██████████| 20/20 [00:02<00:00,  7.55it/s]\n"
     ]
    }
   ],
   "source": [
    "from statdepth import FunctionalDepth\n",
    "from statdepth.testing import generate_noisy_univariate\n",
    "\n",
    "depth = FunctionalDepth([generate_noisy_univariate()], relax=True, quiet=False)"
   ]
  },
  {
   "cell_type": "code",
   "execution_count": 28,
   "metadata": {},
   "outputs": [],
   "source": [
    "fig, ax = plt.subplots()\n",
    "plot(depth, 3, ax)"
   ]
  },
  {
   "cell_type": "code",
   "execution_count": 29,
   "metadata": {},
   "outputs": [],
   "source": [
    "fig.show()"
   ]
  },
  {
   "cell_type": "code",
   "execution_count": null,
   "metadata": {},
   "outputs": [],
   "source": []
  }
 ],
 "metadata": {
  "kernelspec": {
   "display_name": "basedatascience",
   "language": "python",
   "name": "basedatascience"
  },
  "language_info": {
   "codemirror_mode": {
    "name": "ipython",
    "version": 3
   },
   "file_extension": ".py",
   "mimetype": "text/x-python",
   "name": "python",
   "nbconvert_exporter": "python",
   "pygments_lexer": "ipython3",
   "version": "3.8.5"
  }
 },
 "nbformat": 4,
 "nbformat_minor": 4
}
